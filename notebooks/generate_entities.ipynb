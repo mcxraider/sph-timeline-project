{
 "cells": [
  {
   "cell_type": "code",
   "execution_count": 1,
   "metadata": {},
   "outputs": [],
   "source": [
    "# Imports the Google Cloud client library\n",
    "from google.cloud import language_v1\n",
    "# Instantiates a client\n",
    "client = language_v1.LanguageServiceClient()"
   ]
  },
  {
   "cell_type": "code",
   "execution_count": 2,
   "metadata": {},
   "outputs": [],
   "source": [
    "# The useful ones are analyze_entities, moderateText, classifyText\n",
    "def extract_sections(client, document):\n",
    "    sections = client.classify_text(request={\"document\": document})\n",
    "    sections_scores = sorted([(cat.name, cat.confidence) for cat in sections.categories if cat.confidence > 0.5], reverse=True, key=lambda x: x[1])\n",
    "    return sections_scores"
   ]
  },
  {
   "cell_type": "code",
   "execution_count": 3,
   "metadata": {},
   "outputs": [],
   "source": [
    "def extract_categories(client, document):\n",
    "    categories = client.moderate_text(request={\"document\": document})\n",
    "    categories_scores = sorted([(cat.name, cat.confidence) for cat in categories.moderation_categories if cat.confidence > 0.5], reverse=True, key=lambda x: x[1])\n",
    "    return categories_scores"
   ]
  },
  {
   "cell_type": "code",
   "execution_count": 4,
   "metadata": {},
   "outputs": [],
   "source": [
    "def analyse_entities(client, document):\n",
    "    entity = client.analyze_entities(request={\"document\": document})\n",
    "    raw_entities = {}\n",
    "    for en in entity.entities:\n",
    "        type = str(en.type_)[5:].lower()\n",
    "        if type not in raw_entities:\n",
    "            raw_entities[type] = []\n",
    "        raw_entities[type].append(en)\n",
    "            \n",
    "    entities = {}\n",
    "    for tag_category, tags in raw_entities.items():\n",
    "        tag_ls = [(en.name, en.salience) for en in raw_entities[tag_category]]\n",
    "        tag_ls.sort(reverse=True, key=lambda x: x[1])\n",
    "        entities[tag_category] = tag_ls\n",
    "    return entities"
   ]
  },
  {
   "cell_type": "code",
   "execution_count": 5,
   "metadata": {},
   "outputs": [],
   "source": [
    "def extract_entities(text):        \n",
    "    document = language_v1.types.Document(\n",
    "        content=text, type_=language_v1.types.Document.Type.PLAIN_TEXT\n",
    "    )\n",
    "    cleaned_entities = analyse_entities(client, document)\n",
    "    categories = extract_categories(client, document)\n",
    "    sections = extract_sections(client, document)\n",
    "    properties = {}\n",
    "    properties['entities'] = cleaned_entities\n",
    "    properties['categories'] = categories\n",
    "    properties['sections'] = sections\n",
    "    return properties"
   ]
  },
  {
   "cell_type": "code",
   "execution_count": 8,
   "metadata": {},
   "outputs": [],
   "source": [
    "text = '''GENEVA – The remains of a climber discovered in the Swiss Alps in 2022 have been identified as \\\n",
    "            those of a British mountaineer who went missing 52 years ago, local police said on Thursday.\\\n",
    "            It is the latest in a series of discoveries of remains of long-missing climbers revealed as the Alps’ glaciers melt and recede because of global warming.\\\n",
    "            The climber was reported missing in July 1971, \\\n",
    "            but search teams at the time turned up nothing, said police in the canton of Valais, south-west Switzerland.Then on Aug 22, 2022,\\\n",
    "            two climbers found human remains on the Chessjengletscher glacier near Saas-Fee,\\\n",
    "            an Alpine village in the Saas Valley.It took a year to identify the person as experts worked their \\\n",
    "            way through the case files of missing climbers.Finally, with the help of Interpol Manchester and the police in Scotland,\\\n",
    "            a relative was found and a DNA sample allowed them to identify the British mountaineer\\\n",
    "            , \\the Swiss police said in a statement.\\\n",
    "            The climber was formally identified on Aug 30.Increasing numbers of human remains, some of them of climbers missing for decades,\\\n",
    "            have been discovered in recent years as glaciers in the Alps melt because of global warming.In late July, \\\n",
    "            the remains of a German climber who went missing in 1986 were discovered on another Swiss glacier. AFP                  \",\n",
    "            '''\n",
    "\n",
    "new_text = \"\"\"EU countries are still discussing the idea of a humanitarian ceasefire in the war between Israel and Hamas but there are different ways to get much-needed aid to Palestinians in Gaza, Swedish foreign minister Tobias Billstrom said on Monday.\"The discussions are ongoing, but the question really isn't about a ceasefire, but about how to bring aid forward and that can be done in very many different ways,\" he told reporters after a meeting of EU foreign ministers in Luxembourg. He said Sweden preferred a U.N. proposal for a humanitarian corridor.Earlier on Monday, EU foreign policy chief Josep Borrell voiced support for a \"humanitarian pause\" but some of the bloc's foreign ministers expressed reservations about the idea. REUTERS\n",
    "\"\"\"\n",
    "properties = extract_entities(new_text)"
   ]
  },
  {
   "cell_type": "code",
   "execution_count": 9,
   "metadata": {},
   "outputs": [
    {
     "data": {
      "text/plain": [
       "{'entities': {'other': [('question', 0.13663709163665771),\n",
       "   ('idea', 0.08708890527486801),\n",
       "   ('aid', 0.04305387660861015),\n",
       "   ('ways', 0.03299892693758011),\n",
       "   ('ways', 0.02130267396569252),\n",
       "   ('aid', 0.020042717456817627),\n",
       "   ('support', 0.00680397218093276),\n",
       "   ('pause', 0.00680397218093276),\n",
       "   ('idea', 0.005423919763416052),\n",
       "   ('reservations', 0.004764935467392206),\n",
       "   ('proposal', 0.002986403414979577)],\n",
       "  'location': [('countries', 0.0907101258635521),\n",
       "   ('EU', 0.05727005749940872),\n",
       "   ('Gaza', 0.017679721117019653),\n",
       "   ('Monday.', 0.013600576668977737),\n",
       "   ('Swedish', 0.011953997425734997),\n",
       "   ('Luxembourg', 0.0036788482684642076),\n",
       "   ('corridor.', 0.002986403414979577)],\n",
       "  'event': [('ceasefire', 0.08708890527486801),\n",
       "   ('war', 0.07688276469707489),\n",
       "   ('ceasefire', 0.02319924160838127),\n",
       "   ('discussions', 0.019669221714138985),\n",
       "   ('meeting', 0.018732242286205292)],\n",
       "  'person': [('Tobias Billstrom', 0.059143681079149246),\n",
       "   ('Palestinians', 0.017679721117019653),\n",
       "   ('reporters', 0.013467215932905674),\n",
       "   ('Josep Borrell', 0.01094853226095438),\n",
       "   ('foreign ministers', 0.007760325912386179),\n",
       "   ('foreign ministers', 0.005945878569036722),\n",
       "   ('some', 0.002576556522399187)],\n",
       "  'organization': [('Israel', 0.04612642899155617),\n",
       "   ('Hamas', 0.017679721117019653),\n",
       "   ('bloc', 0.004764935467392206),\n",
       "   ('REUTERS', 0.002803354524075985),\n",
       "   ('U.N.', 0.0017651456873863935)]},\n",
       " 'categories': [('War & Conflict', 0.996692419052124), ('Politics', 0.9375)],\n",
       " 'sections': [('/Sensitive Subjects', 0.8299999833106995)]}"
      ]
     },
     "execution_count": 9,
     "metadata": {},
     "output_type": "execute_result"
    }
   ],
   "source": [
    "properties"
   ]
  },
  {
   "cell_type": "code",
   "execution_count": 11,
   "metadata": {},
   "outputs": [],
   "source": [
    "prev_tags = ['eu countries', \n",
    "             'swedish foreign minister tobias billstrom',\n",
    "             'foreign policy chief josep borrell',\n",
    "             'foreign ministers', \n",
    "             'eu', 'humanitarian corridor', 'humanitarian ceasefire', \n",
    "             'humanitarian pause', \n",
    "             'many different ways',\n",
    "             'monday',\n",
    "             '\"the discussions',\n",
    "             'israel', 'different ways',\n",
    "             'much-needed aid',\n",
    "             'idea',\n",
    "             'reuters', \n",
    "             'aid', \n",
    "             'meeting', \n",
    "             'war', \n",
    "             'hamas']\n"
   ]
  }
 ],
 "metadata": {
  "kernelspec": {
   "display_name": "py310",
   "language": "python",
   "name": "python3"
  },
  "language_info": {
   "codemirror_mode": {
    "name": "ipython",
    "version": 3
   },
   "file_extension": ".py",
   "mimetype": "text/x-python",
   "name": "python",
   "nbconvert_exporter": "python",
   "pygments_lexer": "ipython3",
   "version": "3.10.0"
  }
 },
 "nbformat": 4,
 "nbformat_minor": 2
}
