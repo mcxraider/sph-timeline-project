{
 "cells": [
  {
   "cell_type": "code",
   "execution_count": 1,
   "metadata": {},
   "outputs": [],
   "source": [
    "# Imports the Google Cloud client library\n",
    "from google.cloud import language_v1\n",
    "# Instantiates a client\n",
    "client = language_v1.LanguageServiceClient()"
   ]
  },
  {
   "cell_type": "code",
   "execution_count": 2,
   "metadata": {},
   "outputs": [],
   "source": [
    "# The useful ones are analyze_entities, moderateText, classifyText\n",
    "def extract_sections(client, document):\n",
    "    sections = client.classify_text(request={\"document\": document})\n",
    "    sections_scores = sorted([(cat.name, cat.confidence) for cat in sections.categories if cat.confidence > 0.5], reverse=True, key=lambda x: x[1])\n",
    "    return sections_scores"
   ]
  },
  {
   "cell_type": "code",
   "execution_count": 3,
   "metadata": {},
   "outputs": [],
   "source": [
    "def extract_categories(client, document):\n",
    "    categories = client.moderate_text(request={\"document\": document})\n",
    "    categories_scores = sorted([(cat.name, cat.confidence) for cat in categories.moderation_categories if cat.confidence > 0.5], reverse=True, key=lambda x: x[1])\n",
    "    return categories_scores"
   ]
  },
  {
   "cell_type": "code",
   "execution_count": 4,
   "metadata": {},
   "outputs": [],
   "source": [
    "def analyse_entities(client, document):\n",
    "    entity = client.analyze_entities(request={\"document\": document})\n",
    "    raw_entities = {}\n",
    "    for en in entity.entities:\n",
    "        type = str(en.type_)[5:].lower()\n",
    "        if type not in raw_entities:\n",
    "            raw_entities[type] = []\n",
    "        raw_entities[type].append(en)\n",
    "            \n",
    "    entities = {}\n",
    "    for tag_category, tags in raw_entities.items():\n",
    "        tag_ls = [(en.name, en.salience) for en in raw_entities[tag_category]]\n",
    "        tag_ls.sort(reverse=True, key=lambda x: x[1])\n",
    "        entities[tag_category] = tag_ls\n",
    "    return entities"
   ]
  },
  {
   "cell_type": "code",
   "execution_count": 5,
   "metadata": {},
   "outputs": [],
   "source": [
    "def extract_entities(text):        \n",
    "    document = language_v1.types.Document(\n",
    "        content=text, type_=language_v1.types.Document.Type.PLAIN_TEXT\n",
    "    )\n",
    "    cleaned_entities = analyse_entities(client, document)\n",
    "    categories = extract_categories(client, document)\n",
    "    sections = extract_sections(client, document)\n",
    "    properties = {}\n",
    "    properties['entities'] = cleaned_entities\n",
    "    properties['categories'] = categories\n",
    "    properties['sections'] = sections\n",
    "    return properties"
   ]
  },
  {
   "cell_type": "code",
   "execution_count": 6,
   "metadata": {},
   "outputs": [],
   "source": [
    "text = '''GENEVA – The remains of a climber discovered in the Swiss Alps in 2022 have been identified as \\\n",
    "            those of a British mountaineer who went missing 52 years ago, local police said on Thursday.\\\n",
    "            It is the latest in a series of discoveries of remains of long-missing climbers revealed as the Alps’ glaciers melt and recede because of global warming.\\\n",
    "            The climber was reported missing in July 1971, \\\n",
    "            but search teams at the time turned up nothing, said police in the canton of Valais, south-west Switzerland.Then on Aug 22, 2022,\\\n",
    "            two climbers found human remains on the Chessjengletscher glacier near Saas-Fee,\\\n",
    "            an Alpine village in the Saas Valley.It took a year to identify the person as experts worked their \\\n",
    "            way through the case files of missing climbers.Finally, with the help of Interpol Manchester and the police in Scotland,\\\n",
    "            a relative was found and a DNA sample allowed them to identify the British mountaineer\\\n",
    "            , \\the Swiss police said in a statement.\\\n",
    "            The climber was formally identified on Aug 30.Increasing numbers of human remains, some of them of climbers missing for decades,\\\n",
    "            have been discovered in recent years as glaciers in the Alps melt because of global warming.In late July, \\\n",
    "            the remains of a German climber who went missing in 1986 were discovered on another Swiss glacier. AFP                  \",\n",
    "            '''\n",
    "properties = extract_entities(text)"
   ]
  },
  {
   "cell_type": "code",
   "execution_count": 7,
   "metadata": {},
   "outputs": [
    {
     "data": {
      "text/plain": [
       "{'entities': {'person': [('climber', 0.30005401372909546),\n",
       "   ('mountaineer', 0.16543155908584595),\n",
       "   ('police', 0.025899428874254227),\n",
       "   ('police', 0.021555233746767044),\n",
       "   ('climber', 0.015148167498409748),\n",
       "   ('climbers', 0.013487414456903934),\n",
       "   ('experts', 0.013271426782011986),\n",
       "   ('climbers', 0.013096349313855171),\n",
       "   ('climbers', 0.006331899203360081),\n",
       "   ('person', 0.0052139549516141415),\n",
       "   ('some', 0.003916362766176462),\n",
       "   ('Chessjengletscher', 0.003360557835549116),\n",
       "   ('police', 0.0021465886384248734),\n",
       "   ('relative', 0.0017238332657143474)],\n",
       "  'other': [('remains', 0.06364940106868744),\n",
       "   ('human remains', 0.041991885751485825),\n",
       "   ('latest', 0.03244724124670029),\n",
       "   ('glaciers', 0.012956592254340649),\n",
       "   ('remains', 0.011855159886181355),\n",
       "   ('numbers', 0.011418490670621395),\n",
       "   ('glaciers', 0.005248390603810549),\n",
       "   ('help', 0.0052139549516141415),\n",
       "   ('way', 0.0052139549516141415),\n",
       "   ('case files', 0.0052139549516141415),\n",
       "   ('remains', 0.004459355492144823),\n",
       "   ('DNA sample', 0.003391142236068845),\n",
       "   ('nothing', 0.0030358496587723494),\n",
       "   ('melt', 0.002741644624620676),\n",
       "   ('mountaineer', 0.0019626254215836525)],\n",
       "  'location': [('Swiss Alps', 0.054831232875585556),\n",
       "   ('GENEVA', 0.02697395160794258),\n",
       "   ('British', 0.018368439748883247),\n",
       "   ('Saas-Fee', 0.012729459442198277),\n",
       "   ('glacier', 0.007612257730215788),\n",
       "   ('canton', 0.005612727254629135),\n",
       "   ('glacier', 0.0036749031860381365),\n",
       "   ('Valais', 0.0033194879069924355),\n",
       "   ('Saas Valley.It', 0.0030833801720291376),\n",
       "   ('German', 0.0016204644925892353),\n",
       "   ('Scotland', 0.0010186579311266541)],\n",
       "  'organization': [('Alps', 0.013173053041100502),\n",
       "   ('search teams', 0.006116545293480158),\n",
       "   ('Interpol Manchester', 0.0030833801720291376),\n",
       "   ('police', 0.0023110497277230024),\n",
       "   ('warming.In', 0.0018449516501277685),\n",
       "   ('AFP', 0.0016160202212631702)],\n",
       "  'event': [('discoveries', 0.008354182355105877),\n",
       "   ('warming', 0.006420291028916836)],\n",
       "  'work_of_art': [('series', 0.008354182355105877),\n",
       "   ('statement', 0.0017238332657143474)],\n",
       "  'consumer_good': [('Alpine', 0.003360557835549116)],\n",
       "  'date': [('2022', 0.0),\n",
       "   ('July 1971', 0.0),\n",
       "   ('Aug 22, 2022', 0.0),\n",
       "   ('Aug 30', 0.0),\n",
       "   ('1986', 0.0)],\n",
       "  'number': [('2022', 0.0),\n",
       "   ('30', 0.0),\n",
       "   ('1986', 0.0),\n",
       "   ('1971', 0.0),\n",
       "   ('22', 0.0),\n",
       "   ('52', 0.0),\n",
       "   ('2022', 0.0),\n",
       "   ('two', 0.0)]},\n",
       " 'categories': [('Death, Harm & Tragedy', 0.9696969985961914),\n",
       "  ('Public Safety', 0.783261775970459),\n",
       "  ('Violent', 0.6551724076271057)],\n",
       " 'sections': [('/Sports/Extreme Sports', 0.7900000214576721),\n",
       "  ('/Hobbies & Leisure/Outdoors', 0.5199999809265137)]}"
      ]
     },
     "execution_count": 7,
     "metadata": {},
     "output_type": "execute_result"
    }
   ],
   "source": [
    "properties"
   ]
  }
 ],
 "metadata": {
  "kernelspec": {
   "display_name": "py310",
   "language": "python",
   "name": "python3"
  },
  "language_info": {
   "codemirror_mode": {
    "name": "ipython",
    "version": 3
   },
   "file_extension": ".py",
   "mimetype": "text/x-python",
   "name": "python",
   "nbconvert_exporter": "python",
   "pygments_lexer": "ipython3",
   "version": "3.10.0"
  }
 },
 "nbformat": 4,
 "nbformat_minor": 2
}
