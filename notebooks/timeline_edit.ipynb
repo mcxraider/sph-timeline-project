{
 "cells": [
  {
   "cell_type": "code",
   "execution_count": 2,
   "metadata": {},
   "outputs": [],
   "source": [
    "import json\n",
    "import pandas as pd"
   ]
  },
  {
   "cell_type": "code",
   "execution_count": 3,
   "metadata": {},
   "outputs": [
    {
     "data": {
      "text/plain": [
       "[{'Date': '2018',\n",
       "  'Event': 'A former Russian military intelligence officer, convicted of high treason by Moscow, was poisoned along with his daughter in Britain. Paul Whelan, a U.S. Marine Corps veteran, was arrested in Russia.',\n",
       "  'Contextual_Annotation': \"This poisoning event in Britain highlighted past accusations of poisoning attacks against Russian dissidents and served as a precedent for the current suspicions regarding Marianna Budanova's poisoning.\",\n",
       "  'Article_id': ['h4g9g9zxoy5klp34', 'c3ydcl28nk5o24to']},\n",
       " {'Date': '2020',\n",
       "  'Event': 'Paul Whelan was convicted of spying charges in Russia and sentenced to 16 years in a penal colony in Mordovia.',\n",
       "  'Contextual_Annotation': \"This event marked a significant escalation in the strained relations between the United States and Russia, with Whelan's conviction seen as politically motivated.\",\n",
       "  'Article_id': ['c3ydcl28nk5o24to']},\n",
       " {'Date': '2022-02',\n",
       "  'Event': 'Russia launched its full-scale assault on Ukraine.',\n",
       "  'Contextual_Annotation': 'This event drastically altered the global security landscape, leading to heightened security concerns and increased risks for key Ukrainian officials.',\n",
       "  'Article_id': ['h4g9g9zxoy5klp34']},\n",
       " {'Date': '2022-08',\n",
       "  'Event': \"Lieutenant-General Kyrylo Budanov's wife, Marianna Budanova, began living with him in his office for security purposes.\",\n",
       "  'Contextual_Annotation': 'This move underscores the heightened security threats faced by Ukrainian officials amidst the ongoing conflict.',\n",
       "  'Article_id': ['h4g9g9zxoy5klp34']},\n",
       " {'Date': '2022-10',\n",
       "  'Event': \"Explosions occurred on the Kerch bridge, which connects Russia to the annexed Crimean peninsula, with Moscow accusing Ukraine's military intelligence service (GUR) of being behind the attacks.\",\n",
       "  'Contextual_Annotation': 'This event marked a significant escalation in the conflict, with Russia blaming Ukraine and threatening retaliatory measures.',\n",
       "  'Article_id': ['h4g9g9zxoy5klp34']},\n",
       " {'Date': '2023-03-29',\n",
       "  'Event': 'Evan Gershkovich, a Wall Street Journal reporter, was arrested in Yekaterinburg, Russia on charges of espionage, which he denies.',\n",
       "  'Contextual_Annotation': \"Gershkovich's arrest sparked international condemnation and raised concerns about press freedom in Russia.\",\n",
       "  'Article_id': ['a8p0oy3cxhpkubdx']},\n",
       " {'Date': '2023-09-13',\n",
       "  'Event': 'The U.S. ambassador to Russia announced that he will visit Paul Whelan in prison.',\n",
       "  'Contextual_Annotation': \"This visit signifies the U.S. government's continued efforts to secure Whelan's release and highlight his case.\",\n",
       "  'Article_id': ['c3ydcl28nk5o24to']},\n",
       " {'Date': '2023-09-25',\n",
       "  'Event': \"A Moscow court rejected Gershkovich's latest appeal against his pre-trial detention.\",\n",
       "  'Contextual_Annotation': \"This ruling further prolongs Gershkovich's detention and increases concerns about the fairness of the Russian legal system.\",\n",
       "  'Article_id': ['a8p0oy3cxhpkubdx']},\n",
       " {'Date': '2023-09-29',\n",
       "  'Event': \"The Democratic and Republican leaders of the U.S. Senate Foreign Relations Committee announced a resolution calling for Gershkovich's immediate release from Russia.\",\n",
       "  'Contextual_Annotation': \"The resolution, supported by 27 U.S. senators, highlights Gershkovich's continued detention and underscores the U.S.'s concern about his case. The U.S. accuses Russia of using Gershkovich for hostage diplomacy, particularly amidst the strained relations between the two countries due to the ongoing conflict in Ukraine.\",\n",
       "  'Article_id': ['a8p0oy3cxhpkubdx']},\n",
       " {'Date': '2023-11-28',\n",
       "  'Event': \"Marianna Budanova, wife of Ukraine's military intelligence chief, was hospitalized after her health deteriorated significantly. Ukrainian investigators suspect Russia was involved in a poisoning attempt targeting Marianna Budanova, citing the presence of highly toxic substances like mercury and arsenic in her system. Ukrainian authorities opened an investigation into the suspected poisoning attempt, described as “attempted murder” by Babel news outlet. Reports indicate that several other employees of the GUR, Ukraine's military intelligence service, are also being treated for suspected poisoning, with traces of heavy metals found in their systems.\",\n",
       "  'Contextual_Annotation': \"These events raise serious concerns about Russia's potential use of chemical weapons as a tool of intimidation and suppression against Ukrainian officials. The allegations, if proven, would represent a grave escalation in the conflict.\",\n",
       "  'Article_id': ['h4g9g9zxoy5klp34']}]"
      ]
     },
     "execution_count": 3,
     "metadata": {},
     "output_type": "execute_result"
    }
   ],
   "source": [
    "with open(\"../public/data_upload/Timeline.json\", \"r\", encoding='utf-8') as fin:\n",
    "    timeline = json.load(fin)\n",
    "timeline"
   ]
  },
  {
   "cell_type": "code",
   "execution_count": null,
   "metadata": {},
   "outputs": [],
   "source": [
    "# DATE CLEANING FUNCTION\n",
    "from datetime import datetime\n",
    "\n",
    "def format_date(date_str):\n",
    "    formats = ['%Y', '%Y-%m-%d', '%Y-%m']\n",
    "    \n",
    "    for fmt in formats:\n",
    "        try:\n",
    "            date_obj = datetime.strptime(date_str, fmt)\n",
    "            if fmt == '%Y':\n",
    "                return date_obj.strftime('%Y')\n",
    "            elif fmt == '%Y-%m-%d':\n",
    "                return date_obj.strftime('%d %B %Y')\n",
    "            elif fmt == '%Y-%m':\n",
    "                return date_obj.strftime('%B %Y')\n",
    "        except ValueError:\n",
    "            continue\n",
    "    return None\n",
    "\n",
    "def beautify_timeline(timeline):\n",
    "\n",
    "    for event in timeline:\n",
    "        new_date = format_date(event['Date'])\n",
    "        event['Date'] = new_date\n",
    "        \n",
    "        # Check if Contextual Annotation empty    \n",
    "        if not event['Contextual_Annotation']:\n",
    "            event['Contextual_Annotation'] = \"NONE\"\n",
    "        \n",
    "        \n",
    "            \n",
    "    return\n",
    "        \n",
    "    "
   ]
  },
  {
   "cell_type": "markdown",
   "metadata": {},
   "source": [
    "## Linking the articles to their links"
   ]
  },
  {
   "cell_type": "markdown",
   "metadata": {},
   "source": []
  }
 ],
 "metadata": {
  "kernelspec": {
   "display_name": "py310",
   "language": "python",
   "name": "python3"
  },
  "language_info": {
   "codemirror_mode": {
    "name": "ipython",
    "version": 3
   },
   "file_extension": ".py",
   "mimetype": "text/x-python",
   "name": "python",
   "nbconvert_exporter": "python",
   "pygments_lexer": "ipython3",
   "version": "3.10.0"
  }
 },
 "nbformat": 4,
 "nbformat_minor": 2
}
