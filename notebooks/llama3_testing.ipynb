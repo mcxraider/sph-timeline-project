{
 "cells": [
  {
   "cell_type": "code",
   "execution_count": 8,
   "metadata": {},
   "outputs": [],
   "source": [
    "# pip install groq\n",
    "import os\n",
    "from groq import Groq\n",
    "\n",
    "groq_api_key = os.environ.get(\"GROQ_API_KEY\")\n",
    "groq_client = Groq(api_key=groq_api_key)\n",
    "\n",
    "model_choice = ['llama3-70b-8192', \"llama3-8b-8192\", \"mixtral-8x7b-32768\", \"gemma-7b-it\"]\n",
    "\n",
    "def llama_chat(client, user_question):\n",
    "    chat_completion = client.chat.completions.create(\n",
    "        messages = [\n",
    "            {\n",
    "                \"role\": \"user\",\n",
    "                \"content\": user_question\n",
    "            }\n",
    "        ],\n",
    "        model = \"llama3-8b-8192\"\n",
    "    )\n",
    "    response = chat_completion.choices[0].message.content\n",
    "    return response"
   ]
  },
  {
   "cell_type": "code",
   "execution_count": 9,
   "metadata": {},
   "outputs": [
    {
     "name": "stdout",
     "output_type": "stream",
     "text": [
      "Based on various polls and experts' opinions, here are six of the most famous presidents in U.S. history:\n",
      "\n",
      "1. **George Washington** (1789-1797): The first president of the United States, considered the \"Father of the Country\" for his role in leading the Continental Army to victory in the American Revolutionary War.\n",
      "2. **Abraham Lincoln** (1861-1865): The 16th president, known for leading the country through the Civil War and issuing the Emancipation Proclamation, which declared freedom for all slaves in Confederate territory.\n",
      "3. **Thomas Jefferson** (1801-1809): The third president, responsible for the Louisiana Purchase, which doubled the size of the United States, and the author of the Declaration of Independence.\n",
      "4. **Theodore Roosevelt** (1901-1909): The 26th president, known for his trust-busting and anti-monopoly policies, as well as his \"big stick\" approach to foreign policy.\n",
      "5. **Franklin D. Roosevelt** (1933-1945): The 32nd president, who led the country through the Great Depression and World War II, implementing programs like the New Deal and leading the Allied forces to victory.\n",
      "6. **John F. Kennedy** (1961-1963): The 35th president, assassinated while in office, who championed civil rights, space exploration, and foreign policy initiatives, earning him a lasting place in American history.\n",
      "\n",
      "Of course, there are many other influential presidents, but these six are generally recognized as among the most famous and influential in U.S. history.\n"
     ]
    }
   ],
   "source": [
    "user_question = \"Name the 6 most famous presidents\"\n",
    "output = llama_chat(groq_client, user_question)\n",
    "print(output)"
   ]
  }
 ],
 "metadata": {
  "kernelspec": {
   "display_name": "py310",
   "language": "python",
   "name": "python3"
  },
  "language_info": {
   "codemirror_mode": {
    "name": "ipython",
    "version": 3
   },
   "file_extension": ".py",
   "mimetype": "text/x-python",
   "name": "python",
   "nbconvert_exporter": "python",
   "pygments_lexer": "ipython3",
   "version": "3.10.0"
  }
 },
 "nbformat": 4,
 "nbformat_minor": 2
}
