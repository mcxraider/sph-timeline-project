{
 "cells": [
  {
   "cell_type": "code",
   "execution_count": 1,
   "metadata": {},
   "outputs": [],
   "source": [
    "# pip install groq\n",
    "import os\n",
    "from groq import Groq\n",
    "\n",
    "groq_api_key = os.environ.get(\"GROQ_API_KEY\")\n",
    "groq_client = Groq(api_key=groq_api_key)\n",
    "\n",
    "model_choice = ['llama3-70b-8192', \"llama3-70b-8192\", \"mixtral-8x7b-32768\", \"gemma-7b-it\"]\n",
    "\n",
    "def llama_chat(client, user_question):\n",
    "    chat_completion = client.chat.completions.create(\n",
    "        messages = [\n",
    "            {\n",
    "                \"role\": \"user\",\n",
    "                \"content\": user_question\n",
    "            }\n",
    "        ],\n",
    "        model = \"llama3-8b-8192\"\n",
    "    )\n",
    "    response = chat_completion.choices[0].message.content\n",
    "    return response"
   ]
  },
  {
   "cell_type": "code",
   "execution_count": 2,
   "metadata": {},
   "outputs": [
    {
     "name": "stdout",
     "output_type": "stream",
     "text": [
      "Based on general recognition and popularity, here are the 6 most famous presidents in the order they served:\n",
      "\n",
      "1. George Washington (1789-1797) - The first president of the United States, known as the \"Father of the Country.\"\n",
      "2. Abraham Lincoln (1861-1865) - The 16th president, known for leading the country through the Civil War and opposing slavery.\n",
      "3. Franklin D. Roosevelt (1933-1945) - The 32nd president, known for leading the country through the Great Depression and World War II.\n",
      "4. Thomas Jefferson (1801-1809) - The 3rd president, known for drafting the Declaration of Independence and expanding the country through the Louisiana Purchase.\n",
      "5. Theodore Roosevelt (1901-1909) - The 26th president, known for his trust-busting policies and environmental conservation efforts.\n",
      "6. John F. Kennedy (1961-1963) - The 35th president, known for his leadership during the Cold War and his vision for a space program.\n",
      "\n",
      "Note: The ranking of the most famous presidents can vary depending on the source and criteria used to measure fame. These six presidents are generally considered some of the most well-known and influential in American history.\n"
     ]
    }
   ],
   "source": [
    "user_question = \"Name the 6 most famous presidents\"\n",
    "output = llama_chat(groq_client, user_question)\n",
    "print(output)"
   ]
  }
 ],
 "metadata": {
  "kernelspec": {
   "display_name": "py310",
   "language": "python",
   "name": "python3"
  },
  "language_info": {
   "codemirror_mode": {
    "name": "ipython",
    "version": 3
   },
   "file_extension": ".py",
   "mimetype": "text/x-python",
   "name": "python",
   "nbconvert_exporter": "python",
   "pygments_lexer": "ipython3",
   "version": "3.10.0"
  }
 },
 "nbformat": 4,
 "nbformat_minor": 2
}
