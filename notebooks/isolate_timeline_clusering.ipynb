{
 "cells": [
  {
   "cell_type": "code",
   "execution_count": 1,
   "metadata": {},
   "outputs": [],
   "source": [
    "import os\n",
    "import ast\n",
    "import sys\n",
    "import json\n",
    "import yaml\n",
    "import re\n",
    "from json import JSONDecodeError\n",
    "from concurrent.futures import ThreadPoolExecutor, as_completed\n",
    "from datetime import datetime\n",
    "from pymongo import MongoClient\n",
    "from sklearn.neighbors import KNeighborsClassifier\n",
    "from sklearn.neighbors import NearestNeighbors\n",
    "\n",
    "import gradio as gr\n",
    "import pandas as pd\n",
    "import numpy as np\n",
    "from dotenv import load_dotenv\n",
    "from sklearn.preprocessing import StandardScaler\n",
    "from scipy.cluster.hierarchy import linkage, dendrogram, fcluster\n",
    "\n",
    "# Import libraries for working with language models and Google Gemini\n",
    "from langchain_core.prompts import PromptTemplate\n",
    "import google.generativeai as genai\n",
    "from google.generativeai.types import HarmCategory, HarmBlockThreshold\n",
    "from langchain_core.output_parsers import JsonOutputParser\n",
    "from langchain_core.pydantic_v1 import BaseModel, Field\n",
    "from langchain_groq import ChatGroq\n",
    "from langchain_core.prompts import PromptTemplate\n",
    "\n",
    "# Normally where to do this? (in which function?)\n",
    "with open(\"../gradio_config.yaml\", \"r\") as config_file:\n",
    "    config = yaml.safe_load(config_file)\n",
    "load_dotenv()\n",
    "groq_api_key = os.getenv('GROQ_API_KEY')\n",
    "GEMINI_KEY = os.environ.get('GEMINI_KEY')\n",
    "genai.configure(api_key=GEMINI_KEY)\n",
    "# Initialise mongo client.\n",
    "mongo_client = MongoClient(config[\"database\"][\"uri\"])"
   ]
  },
  {
   "cell_type": "code",
   "execution_count": 2,
   "metadata": {},
   "outputs": [
    {
     "name": "stdout",
     "output_type": "stream",
     "text": [
      "Train data successfully fetched from MongoDB\n",
      "\n",
      "Test data successfully fetched from MongoDB\n",
      "\n",
      "Processing embedding data and scaling data...\n",
      "\n",
      "Processing embedding data and scaling data...\n",
      "\n"
     ]
    }
   ],
   "source": [
    "def load_mongodb():\n",
    "    # Connect to the MongoDB client\n",
    "    try:\n",
    "        db = mongo_client[config[\"database\"][\"name\"]]\n",
    "        train_documents = db[config[\"database\"][\"train_collection\"]].find()\n",
    "        print(\"Train data successfully fetched from MongoDB\\n\")\n",
    "    except Exception as error: \n",
    "        print(f\"Unable to fetch train data from MongoDB. Check your connection the database...\\nERROR: {error}\\n\")\n",
    "        sys.exit()   \n",
    "    try:\n",
    "        test_docs = db[config[\"database\"][\"test_collection\"]].find()\n",
    "        print(\"Test data successfully fetched from MongoDB\\n\")\n",
    "    except:\n",
    "        print(f\"Unable to fetch test data from MongoDB. Check your connection the database...\\nERROR: {error}\\n\")\n",
    "        sys.exit()\n",
    "    df_train = pd.DataFrame.from_dict(list(train_documents))\n",
    "    df_test = pd.DataFrame.from_dict(list(test_docs))\n",
    "    \n",
    "    return df_train, df_test\n",
    "\n",
    "def scale_body_embeddings(df, scaler=None):\n",
    "    print(\"Processing embedding data and scaling data...\\n\")\n",
    "    # Deserializing the embeddings\n",
    "    body_embeddings = np.array(df['embeddings'].apply(ast.literal_eval).tolist())\n",
    "    if scaler is None:\n",
    "        # Standardize embeddings for the training data\n",
    "        scaler = StandardScaler()\n",
    "        train_embeddings = scaler.fit_transform(train_embeddings)\n",
    "\n",
    "    else:\n",
    "        # Standardize embeddings for the test data\n",
    "        embeddings = scaler.transform(body_embeddings)\n",
    "        return embeddings\n",
    "\n",
    "df_train, df_test = load_mongodb()\n",
    "# Change type of embeddings accordingly\n",
    "train_embeddings, scaler = scale_body_embeddings(df_train)\n",
    "\n",
    "# Use the fitted scaler to transform the test embeddings\n",
    "test_embeddings = scale_body_embeddings(df_test)\n",
    "\n",
    "# Pre computed hierarchical clustering\n",
    "Z_train = linkage(train_embeddings, method='average', metric='cosine')"
   ]
  },
  {
   "cell_type": "code",
   "execution_count": 7,
   "metadata": {},
   "outputs": [],
   "source": [
    "test_article_index = 2\n",
    "if test_embeddings[test_article_index-1].ndim == 1:\n",
    "    test_point_embeddings = test_embeddings[test_article_index-1].reshape(1, -1)"
   ]
  },
  {
   "cell_type": "code",
   "execution_count": 8,
   "metadata": {},
   "outputs": [
    {
     "name": "stdout",
     "output_type": "stream",
     "text": [
      "There are 635 clusters in this clustering of max_d = 0.58\n",
      "\n"
     ]
    }
   ],
   "source": [
    "# for now we will use 0.58\n",
    "max_d = 0.58\n",
    "clusters_train = fcluster(Z_train, max_d, criterion='distance')\n",
    "labels = clusters_train.tolist()\n",
    "df_train['Cluster_labels'] = labels\n",
    "print(f\"There are {len(set(labels))} clusters in this clustering of max_d = {max_d}\\n\")"
   ]
  },
  {
   "cell_type": "code",
   "execution_count": 5,
   "metadata": {},
   "outputs": [
    {
     "data": {
      "text/html": [
       "<div>\n",
       "<style scoped>\n",
       "    .dataframe tbody tr th:only-of-type {\n",
       "        vertical-align: middle;\n",
       "    }\n",
       "\n",
       "    .dataframe tbody tr th {\n",
       "        vertical-align: top;\n",
       "    }\n",
       "\n",
       "    .dataframe thead th {\n",
       "        text-align: right;\n",
       "    }\n",
       "</style>\n",
       "<table border=\"1\" class=\"dataframe\">\n",
       "  <thead>\n",
       "    <tr style=\"text-align: right;\">\n",
       "      <th></th>\n",
       "      <th>_id</th>\n",
       "      <th>Text</th>\n",
       "      <th>Title</th>\n",
       "      <th>embeddings</th>\n",
       "      <th>combined</th>\n",
       "      <th>tags</th>\n",
       "      <th>tags_embeddings</th>\n",
       "      <th>Title_embeddings</th>\n",
       "      <th>Publication_date</th>\n",
       "      <th>article_url</th>\n",
       "      <th>st_id</th>\n",
       "      <th>phrase_Bert_tags_embeddings</th>\n",
       "      <th>Cluster_labels</th>\n",
       "    </tr>\n",
       "  </thead>\n",
       "  <tbody>\n",
       "    <tr>\n",
       "      <th>740</th>\n",
       "      <td>6666ac3d6619e3e180cbb5f1</td>\n",
       "      <td>Synopsis: Every fourth Friday of the month, Th...</td>\n",
       "      <td>US cements ties with India, Vietnam and why th...</td>\n",
       "      <td>[0.060281, 0.036623, -0.007349, -0.010667, -0....</td>\n",
       "      <td>Title: US cements ties with India, Vietnam and...</td>\n",
       "      <td>[US, India, Vietnam, G20, East Asia Summit, Di...</td>\n",
       "      <td>[0.024326080456376076, 0.023225942626595497, -...</td>\n",
       "      <td>[0.009447, 0.087782, -0.008752, -0.017337, -0....</td>\n",
       "      <td>2023-09-22</td>\n",
       "      <td>https://www.straitstimes.com/asia/asian-inside...</td>\n",
       "      <td>st_1149633</td>\n",
       "      <td>[[0.2872277498245239, 0.7776200771331787, 0.68...</td>\n",
       "      <td>416</td>\n",
       "    </tr>\n",
       "    <tr>\n",
       "      <th>422</th>\n",
       "      <td>6666ac3d6619e3e180cbb4b3</td>\n",
       "      <td>ABOARD AIR FORCE ONE - US President Joe Biden ...</td>\n",
       "      <td>Biden says goal of Xi meeting is to resume US-...</td>\n",
       "      <td>[0.005888, 0.091609, -0.010379, 0.012567, 0.00...</td>\n",
       "      <td>Title: Biden says goal of Xi meeting is to res...</td>\n",
       "      <td>[Biden, Xi Jinping, US-China relations, Diplom...</td>\n",
       "      <td>[0.027303652837872505, 0.023961307480931282, -...</td>\n",
       "      <td>[0.015934, 0.050481, 0.006019, 0.007713, 0.027...</td>\n",
       "      <td>2023-11-15</td>\n",
       "      <td>https://www.straitstimes.com/asia/biden-says-g...</td>\n",
       "      <td>st_1162215</td>\n",
       "      <td>[[-0.29569754004478455, -0.22132907807826996, ...</td>\n",
       "      <td>418</td>\n",
       "    </tr>\n",
       "    <tr>\n",
       "      <th>474</th>\n",
       "      <td>6666ac3d6619e3e180cbb4e7</td>\n",
       "      <td>BEIJING - China’s top security agency has hint...</td>\n",
       "      <td>Chinese spy agency suggests that a Biden-Xi me...</td>\n",
       "      <td>[0.02897, 0.096915, -0.007345, 0.025401, 0.017...</td>\n",
       "      <td>Title: Chinese spy agency suggests that a Bide...</td>\n",
       "      <td>[China, Diplomacy, International Relations, Un...</td>\n",
       "      <td>[0.04063139483332634, 0.04388551414012909, -0....</td>\n",
       "      <td>[0.025174, 0.087059, -0.013848, 0.032197, -0.0...</td>\n",
       "      <td>2023-09-05</td>\n",
       "      <td>https://www.straitstimes.com/asia/chinese-spy-...</td>\n",
       "      <td>st_1145263</td>\n",
       "      <td>[[-0.43678149580955505, 0.6484148502349854, -1...</td>\n",
       "      <td>418</td>\n",
       "    </tr>\n",
       "    <tr>\n",
       "      <th>836</th>\n",
       "      <td>6666ac3d6619e3e180cbb651</td>\n",
       "      <td>WASHINGTON - US Secretary of State Antony Blin...</td>\n",
       "      <td>Blinken to tour Asia after latest Middle East ...</td>\n",
       "      <td>[0.017731, 0.085117, -0.00877, -0.000977, -0.0...</td>\n",
       "      <td>Title: Blinken to tour Asia after latest Middl...</td>\n",
       "      <td>[Antony Blinken, Asia, Middle East, India, Sou...</td>\n",
       "      <td>[0.03027254343032837, 0.0032462086528539658, -...</td>\n",
       "      <td>[0.013972, -0.017507, -0.012021, 0.006288, -0....</td>\n",
       "      <td>2023-11-02</td>\n",
       "      <td>https://www.straitstimes.com/world/united-stat...</td>\n",
       "      <td>st_1159361</td>\n",
       "      <td>[[-0.39704984426498413, 0.4320709705352783, -0...</td>\n",
       "      <td>578</td>\n",
       "    </tr>\n",
       "    <tr>\n",
       "      <th>846</th>\n",
       "      <td>6666ac3d6619e3e180cbb65b</td>\n",
       "      <td>BEIJING  -China's Foreign Minister Wang Yi sai...</td>\n",
       "      <td>China's foreign minister suggests road to Xi-B...</td>\n",
       "      <td>[0.022126, 0.072078, -0.012084, 0.017353, 0.01...</td>\n",
       "      <td>Title: China's foreign minister suggests road ...</td>\n",
       "      <td>[China, Diplomacy, Xi-Biden Summit, US-China R...</td>\n",
       "      <td>[0.02889561839401722, 0.013993826694786549, -0...</td>\n",
       "      <td>[0.046906, 0.053139, -0.030886, 0.046352, 0.01...</td>\n",
       "      <td>2023-10-29</td>\n",
       "      <td>https://www.straitstimes.com/world/chinas-fore...</td>\n",
       "      <td>st_1158418</td>\n",
       "      <td>[[-0.43678149580955505, 0.6484148502349854, -1...</td>\n",
       "      <td>418</td>\n",
       "    </tr>\n",
       "  </tbody>\n",
       "</table>\n",
       "</div>"
      ],
      "text/plain": [
       "                          _id  \\\n",
       "740  6666ac3d6619e3e180cbb5f1   \n",
       "422  6666ac3d6619e3e180cbb4b3   \n",
       "474  6666ac3d6619e3e180cbb4e7   \n",
       "836  6666ac3d6619e3e180cbb651   \n",
       "846  6666ac3d6619e3e180cbb65b   \n",
       "\n",
       "                                                  Text  \\\n",
       "740  Synopsis: Every fourth Friday of the month, Th...   \n",
       "422  ABOARD AIR FORCE ONE - US President Joe Biden ...   \n",
       "474  BEIJING - China’s top security agency has hint...   \n",
       "836  WASHINGTON - US Secretary of State Antony Blin...   \n",
       "846  BEIJING  -China's Foreign Minister Wang Yi sai...   \n",
       "\n",
       "                                                 Title  \\\n",
       "740  US cements ties with India, Vietnam and why th...   \n",
       "422  Biden says goal of Xi meeting is to resume US-...   \n",
       "474  Chinese spy agency suggests that a Biden-Xi me...   \n",
       "836  Blinken to tour Asia after latest Middle East ...   \n",
       "846  China's foreign minister suggests road to Xi-B...   \n",
       "\n",
       "                                            embeddings  \\\n",
       "740  [0.060281, 0.036623, -0.007349, -0.010667, -0....   \n",
       "422  [0.005888, 0.091609, -0.010379, 0.012567, 0.00...   \n",
       "474  [0.02897, 0.096915, -0.007345, 0.025401, 0.017...   \n",
       "836  [0.017731, 0.085117, -0.00877, -0.000977, -0.0...   \n",
       "846  [0.022126, 0.072078, -0.012084, 0.017353, 0.01...   \n",
       "\n",
       "                                              combined  \\\n",
       "740  Title: US cements ties with India, Vietnam and...   \n",
       "422  Title: Biden says goal of Xi meeting is to res...   \n",
       "474  Title: Chinese spy agency suggests that a Bide...   \n",
       "836  Title: Blinken to tour Asia after latest Middl...   \n",
       "846  Title: China's foreign minister suggests road ...   \n",
       "\n",
       "                                                  tags  \\\n",
       "740  [US, India, Vietnam, G20, East Asia Summit, Di...   \n",
       "422  [Biden, Xi Jinping, US-China relations, Diplom...   \n",
       "474  [China, Diplomacy, International Relations, Un...   \n",
       "836  [Antony Blinken, Asia, Middle East, India, Sou...   \n",
       "846  [China, Diplomacy, Xi-Biden Summit, US-China R...   \n",
       "\n",
       "                                       tags_embeddings  \\\n",
       "740  [0.024326080456376076, 0.023225942626595497, -...   \n",
       "422  [0.027303652837872505, 0.023961307480931282, -...   \n",
       "474  [0.04063139483332634, 0.04388551414012909, -0....   \n",
       "836  [0.03027254343032837, 0.0032462086528539658, -...   \n",
       "846  [0.02889561839401722, 0.013993826694786549, -0...   \n",
       "\n",
       "                                      Title_embeddings Publication_date  \\\n",
       "740  [0.009447, 0.087782, -0.008752, -0.017337, -0....       2023-09-22   \n",
       "422  [0.015934, 0.050481, 0.006019, 0.007713, 0.027...       2023-11-15   \n",
       "474  [0.025174, 0.087059, -0.013848, 0.032197, -0.0...       2023-09-05   \n",
       "836  [0.013972, -0.017507, -0.012021, 0.006288, -0....       2023-11-02   \n",
       "846  [0.046906, 0.053139, -0.030886, 0.046352, 0.01...       2023-10-29   \n",
       "\n",
       "                                           article_url       st_id  \\\n",
       "740  https://www.straitstimes.com/asia/asian-inside...  st_1149633   \n",
       "422  https://www.straitstimes.com/asia/biden-says-g...  st_1162215   \n",
       "474  https://www.straitstimes.com/asia/chinese-spy-...  st_1145263   \n",
       "836  https://www.straitstimes.com/world/united-stat...  st_1159361   \n",
       "846  https://www.straitstimes.com/world/chinas-fore...  st_1158418   \n",
       "\n",
       "                           phrase_Bert_tags_embeddings  Cluster_labels  \n",
       "740  [[0.2872277498245239, 0.7776200771331787, 0.68...             416  \n",
       "422  [[-0.29569754004478455, -0.22132907807826996, ...             418  \n",
       "474  [[-0.43678149580955505, 0.6484148502349854, -1...             418  \n",
       "836  [[-0.39704984426498413, 0.4320709705352783, -0...             578  \n",
       "846  [[-0.43678149580955505, 0.6484148502349854, -1...             418  "
      ]
     },
     "execution_count": 5,
     "metadata": {},
     "output_type": "execute_result"
    }
   ],
   "source": [
    "# Step 1: Fit the Nearest Neighbors Model\n",
    "knn = NearestNeighbors(n_neighbors=5, metric='cosine')\n",
    "knn.fit(train_embeddings)\n",
    "\n",
    "# Step 2: Find the 5 Nearest Neighbors for Each Test Point\n",
    "distances, indices = knn.kneighbors(test_point_embeddings)\n",
    "df_indexes = indices.tolist()\n",
    "df_train.iloc[df_indexes[0]]"
   ]
  },
  {
   "cell_type": "code",
   "execution_count": 6,
   "metadata": {},
   "outputs": [
    {
     "data": {
      "text/plain": [
       "418"
      ]
     },
     "execution_count": 6,
     "metadata": {},
     "output_type": "execute_result"
    }
   ],
   "source": [
    "from collections import Counter\n",
    "\n",
    "assigned_cluster = Counter(df_train.loc[df_indexes[0]]['Cluster_labels'].values.tolist()).most_common(1)[0][0]\n",
    "assigned_cluster"
   ]
  },
  {
   "cell_type": "code",
   "execution_count": 8,
   "metadata": {},
   "outputs": [
    {
     "data": {
      "text/html": [
       "<div>\n",
       "<style scoped>\n",
       "    .dataframe tbody tr th:only-of-type {\n",
       "        vertical-align: middle;\n",
       "    }\n",
       "\n",
       "    .dataframe tbody tr th {\n",
       "        vertical-align: top;\n",
       "    }\n",
       "\n",
       "    .dataframe thead th {\n",
       "        text-align: right;\n",
       "    }\n",
       "</style>\n",
       "<table border=\"1\" class=\"dataframe\">\n",
       "  <thead>\n",
       "    <tr style=\"text-align: right;\">\n",
       "      <th></th>\n",
       "      <th>_id</th>\n",
       "      <th>Text</th>\n",
       "      <th>Title</th>\n",
       "      <th>embeddings</th>\n",
       "      <th>combined</th>\n",
       "      <th>tags</th>\n",
       "      <th>tags_embeddings</th>\n",
       "      <th>Title_embeddings</th>\n",
       "      <th>Publication_date</th>\n",
       "      <th>article_url</th>\n",
       "      <th>st_id</th>\n",
       "      <th>phrase_Bert_tags_embeddings</th>\n",
       "      <th>Cluster_labels</th>\n",
       "    </tr>\n",
       "  </thead>\n",
       "  <tbody>\n",
       "    <tr>\n",
       "      <th>0</th>\n",
       "      <td>6666ac3f6619e3e180cbbadf</td>\n",
       "      <td>BRUSSELS - European Council president Charles ...</td>\n",
       "      <td>EU leaders to hold emergency virtual summit on...</td>\n",
       "      <td>[-0.015096, 0.010564, 0.004007, 0.049611, -0.0...</td>\n",
       "      <td>Title: EU leaders to hold emergency virtual su...</td>\n",
       "      <td>[EU, Emergency summit, Israel-Hamas, Gaza Stri...</td>\n",
       "      <td>[0.002247289987280965, 0.0027428099419921637, ...</td>\n",
       "      <td>[0.010236, -0.079974, -0.027459, 0.040262, -0....</td>\n",
       "      <td>2023-10-15</td>\n",
       "      <td>https://www.straitstimes.com/world/middle-east...</td>\n",
       "      <td>st_1155048</td>\n",
       "      <td>[[-0.014690160751342773, 0.142982617020607, 0....</td>\n",
       "      <td>NaN</td>\n",
       "    </tr>\n",
       "    <tr>\n",
       "      <th>1</th>\n",
       "      <td>6666ac3d6619e3e180cbb35c</td>\n",
       "      <td>BEIJING – The Chinese audience liked the convi...</td>\n",
       "      <td>What did the Chinese get out of Biden-Xi meeti...</td>\n",
       "      <td>[-0.002229, 0.080196, -0.008359, 0.010345, 0.0...</td>\n",
       "      <td>Title: What did the Chinese get out of Biden-X...</td>\n",
       "      <td>[US-China Relations, Biden-Xi Meeting, Taiwan ...</td>\n",
       "      <td>[0.013200688175857067, 0.007806617766618729, -...</td>\n",
       "      <td>[0.012667, 0.065951, -0.002377, 0.032497, 0.00...</td>\n",
       "      <td>2023-11-17</td>\n",
       "      <td>https://www.straitstimes.com/asia/east-asia/wh...</td>\n",
       "      <td>st_1162958</td>\n",
       "      <td>[[-0.10989061743021011, 0.4417957365512848, -0...</td>\n",
       "      <td>418.0</td>\n",
       "    </tr>\n",
       "    <tr>\n",
       "      <th>2</th>\n",
       "      <td>6666ac3d6619e3e180cbb4a6</td>\n",
       "      <td>WASHINGTON – The US believes Chinese Defence M...</td>\n",
       "      <td>US believes China Defence Minister Li Shangfu ...</td>\n",
       "      <td>[0.05121, 0.097314, 0.010616, 0.020364, 0.0419...</td>\n",
       "      <td>Title: US believes China Defence Minister Li S...</td>\n",
       "      <td>[US, China, Corruption, Foreign Affairs, Milit...</td>\n",
       "      <td>[0.020512491464614868, 0.04342474043369293, 0....</td>\n",
       "      <td>[0.035579, 0.05068, 0.014631, 0.020361, 0.0636...</td>\n",
       "      <td>2023-09-15</td>\n",
       "      <td>https://www.straitstimes.com/world/united-stat...</td>\n",
       "      <td>st_1147812</td>\n",
       "      <td>[[0.2872277498245239, 0.7776200771331787, 0.68...</td>\n",
       "      <td>418.0</td>\n",
       "    </tr>\n",
       "    <tr>\n",
       "      <th>3</th>\n",
       "      <td>6666ac3d6619e3e180cbb4b3</td>\n",
       "      <td>ABOARD AIR FORCE ONE - US President Joe Biden ...</td>\n",
       "      <td>Biden says goal of Xi meeting is to resume US-...</td>\n",
       "      <td>[0.005888, 0.091609, -0.010379, 0.012567, 0.00...</td>\n",
       "      <td>Title: Biden says goal of Xi meeting is to res...</td>\n",
       "      <td>[Biden, Xi Jinping, US-China relations, Diplom...</td>\n",
       "      <td>[0.027303652837872505, 0.023961307480931282, -...</td>\n",
       "      <td>[0.015934, 0.050481, 0.006019, 0.007713, 0.027...</td>\n",
       "      <td>2023-11-15</td>\n",
       "      <td>https://www.straitstimes.com/asia/biden-says-g...</td>\n",
       "      <td>st_1162215</td>\n",
       "      <td>[[-0.29569754004478455, -0.22132907807826996, ...</td>\n",
       "      <td>418.0</td>\n",
       "    </tr>\n",
       "    <tr>\n",
       "      <th>4</th>\n",
       "      <td>6666ac3d6619e3e180cbb4e7</td>\n",
       "      <td>BEIJING - China’s top security agency has hint...</td>\n",
       "      <td>Chinese spy agency suggests that a Biden-Xi me...</td>\n",
       "      <td>[0.02897, 0.096915, -0.007345, 0.025401, 0.017...</td>\n",
       "      <td>Title: Chinese spy agency suggests that a Bide...</td>\n",
       "      <td>[China, Diplomacy, International Relations, Un...</td>\n",
       "      <td>[0.04063139483332634, 0.04388551414012909, -0....</td>\n",
       "      <td>[0.025174, 0.087059, -0.013848, 0.032197, -0.0...</td>\n",
       "      <td>2023-09-05</td>\n",
       "      <td>https://www.straitstimes.com/asia/chinese-spy-...</td>\n",
       "      <td>st_1145263</td>\n",
       "      <td>[[-0.43678149580955505, 0.6484148502349854, -1...</td>\n",
       "      <td>418.0</td>\n",
       "    </tr>\n",
       "  </tbody>\n",
       "</table>\n",
       "</div>"
      ],
      "text/plain": [
       "                        _id  \\\n",
       "0  6666ac3f6619e3e180cbbadf   \n",
       "1  6666ac3d6619e3e180cbb35c   \n",
       "2  6666ac3d6619e3e180cbb4a6   \n",
       "3  6666ac3d6619e3e180cbb4b3   \n",
       "4  6666ac3d6619e3e180cbb4e7   \n",
       "\n",
       "                                                Text  \\\n",
       "0  BRUSSELS - European Council president Charles ...   \n",
       "1  BEIJING – The Chinese audience liked the convi...   \n",
       "2  WASHINGTON – The US believes Chinese Defence M...   \n",
       "3  ABOARD AIR FORCE ONE - US President Joe Biden ...   \n",
       "4  BEIJING - China’s top security agency has hint...   \n",
       "\n",
       "                                               Title  \\\n",
       "0  EU leaders to hold emergency virtual summit on...   \n",
       "1  What did the Chinese get out of Biden-Xi meeti...   \n",
       "2  US believes China Defence Minister Li Shangfu ...   \n",
       "3  Biden says goal of Xi meeting is to resume US-...   \n",
       "4  Chinese spy agency suggests that a Biden-Xi me...   \n",
       "\n",
       "                                          embeddings  \\\n",
       "0  [-0.015096, 0.010564, 0.004007, 0.049611, -0.0...   \n",
       "1  [-0.002229, 0.080196, -0.008359, 0.010345, 0.0...   \n",
       "2  [0.05121, 0.097314, 0.010616, 0.020364, 0.0419...   \n",
       "3  [0.005888, 0.091609, -0.010379, 0.012567, 0.00...   \n",
       "4  [0.02897, 0.096915, -0.007345, 0.025401, 0.017...   \n",
       "\n",
       "                                            combined  \\\n",
       "0  Title: EU leaders to hold emergency virtual su...   \n",
       "1  Title: What did the Chinese get out of Biden-X...   \n",
       "2  Title: US believes China Defence Minister Li S...   \n",
       "3  Title: Biden says goal of Xi meeting is to res...   \n",
       "4  Title: Chinese spy agency suggests that a Bide...   \n",
       "\n",
       "                                                tags  \\\n",
       "0  [EU, Emergency summit, Israel-Hamas, Gaza Stri...   \n",
       "1  [US-China Relations, Biden-Xi Meeting, Taiwan ...   \n",
       "2  [US, China, Corruption, Foreign Affairs, Milit...   \n",
       "3  [Biden, Xi Jinping, US-China relations, Diplom...   \n",
       "4  [China, Diplomacy, International Relations, Un...   \n",
       "\n",
       "                                     tags_embeddings  \\\n",
       "0  [0.002247289987280965, 0.0027428099419921637, ...   \n",
       "1  [0.013200688175857067, 0.007806617766618729, -...   \n",
       "2  [0.020512491464614868, 0.04342474043369293, 0....   \n",
       "3  [0.027303652837872505, 0.023961307480931282, -...   \n",
       "4  [0.04063139483332634, 0.04388551414012909, -0....   \n",
       "\n",
       "                                    Title_embeddings Publication_date  \\\n",
       "0  [0.010236, -0.079974, -0.027459, 0.040262, -0....       2023-10-15   \n",
       "1  [0.012667, 0.065951, -0.002377, 0.032497, 0.00...       2023-11-17   \n",
       "2  [0.035579, 0.05068, 0.014631, 0.020361, 0.0636...       2023-09-15   \n",
       "3  [0.015934, 0.050481, 0.006019, 0.007713, 0.027...       2023-11-15   \n",
       "4  [0.025174, 0.087059, -0.013848, 0.032197, -0.0...       2023-09-05   \n",
       "\n",
       "                                         article_url       st_id  \\\n",
       "0  https://www.straitstimes.com/world/middle-east...  st_1155048   \n",
       "1  https://www.straitstimes.com/asia/east-asia/wh...  st_1162958   \n",
       "2  https://www.straitstimes.com/world/united-stat...  st_1147812   \n",
       "3  https://www.straitstimes.com/asia/biden-says-g...  st_1162215   \n",
       "4  https://www.straitstimes.com/asia/chinese-spy-...  st_1145263   \n",
       "\n",
       "                         phrase_Bert_tags_embeddings  Cluster_labels  \n",
       "0  [[-0.014690160751342773, 0.142982617020607, 0....             NaN  \n",
       "1  [[-0.10989061743021011, 0.4417957365512848, -0...           418.0  \n",
       "2  [[0.2872277498245239, 0.7776200771331787, 0.68...           418.0  \n",
       "3  [[-0.29569754004478455, -0.22132907807826996, ...           418.0  \n",
       "4  [[-0.43678149580955505, 0.6484148502349854, -1...           418.0  "
      ]
     },
     "execution_count": 8,
     "metadata": {},
     "output_type": "execute_result"
    }
   ],
   "source": [
    "# combine the test article with the articles in the predicted cluster\n",
    "cluster_df = pd.concat([df_test.iloc[[test_article_index]], df_train[df_train['Cluster_labels'] == assigned_cluster]], axis=0, ignore_index=True)\n",
    "cluster_df.head()"
   ]
  },
  {
   "cell_type": "code",
   "execution_count": 9,
   "metadata": {},
   "outputs": [
    {
     "name": "stderr",
     "output_type": "stream",
     "text": [
      "/Users/jerryyang/pythonenv/py310/lib/python3.10/site-packages/huggingface_hub/file_download.py:1132: FutureWarning: `resume_download` is deprecated and will be removed in version 1.0.0. Downloads always resume when possible. If you want to force a new download, use `force_download=True`.\n",
      "  warnings.warn(\n"
     ]
    }
   ],
   "source": [
    "# load the desired cross encoder model\n",
    "from sentence_transformers import CrossEncoder\n",
    "\n",
    "model_name = \"cross-encoder/ms-marco-TinyBERT-L-2-v2\"\n",
    "cross_encoder = CrossEncoder(\n",
    "    model_name, max_length=512, device=\"cpu\"\n",
    ")"
   ]
  },
  {
   "cell_type": "code",
   "execution_count": 49,
   "metadata": {},
   "outputs": [
    {
     "data": {
      "text/plain": [
       "'EU leaders to hold emergency virtual summit on Israel-Hamas conflict on Tuesday  '"
      ]
     },
     "execution_count": 49,
     "metadata": {},
     "output_type": "execute_result"
    }
   ],
   "source": [
    "test_article_text = df_test.iloc[[test_article_index]].reset_index(drop=True)['Title'][0]\n",
    "test_article_text"
   ]
  },
  {
   "cell_type": "code",
   "execution_count": 31,
   "metadata": {},
   "outputs": [
    {
     "data": {
      "text/plain": [
       "[{'st_id': 'st_1162958',\n",
       "  'Text': 'BEIJING – The Chinese audience liked the convivial moments between their President Xi Jinping and his US counterpart, Mr Joe Biden, with videos of these moments going viral on Chinese social media.One was when Mr Biden shared with Mr Xi a 1985 photo of the latter posing near the Golden Gate Bridge in San Francisco, the city the two men were visiting this time for the Asia-Pacific Economic Cooperation (Apec) summit. The two men broke into laughter when Mr Xi recognised himself in the photo.The other was of Mr Xi showing Mr Biden his black Red Flag limousine.What also played well back home were the standing ovations that Mr Xi received at a dinner speech he gave to an audience of American business honchos. The optics of Mr Xi’s first visit to the US since 2017, amid tense relations between the two great powers, were good for the Chinese audience.“It was not a state visit, but Xi was given VIP treatment,” said Mr Lu Xiang, an expert on Sino-US relations at the Chinese Academy of Social Sciences, a government think-tank.What China got out of the visit in substantive terms, however, was less spectacular.“China did not get all it wanted,” said an academic with ties to the Chinese government who requested anonymity as he does not have permission from his employer to speak to the media, adding that “it was passable”.The two leaders had met for four hours on Nov 15 on the sidelines of the Apec summit taking place from Nov 15 to Nov 17.  It was a confab that was meant to put a floor to the deteriorating relations between the two sides and prevent a slide into conflict.These were certainly less happy circumstances than historical visits, such as the one by then paramount leader Deng Xiaoping in January 1979, when the two sides sealed a grand bargain, a diplomatic honeymoon that saw the US team up with its secondary enemy, China, against its primary enemy, the now-defunct Soviet Union.No such bargain was struck this time.What China coveted – blessings for reunification between China and self-ruled Taiwan, which Beijing has claimed as its own since the 1949 communist revolution – was unrealistic at best.Mr Xi did tell his US counterpart that “the US side should take real actions to honour its commitment of not supporting ‘Taiwan independence’, stop arming Taiwan, and support China’s peaceful reunification. China will (eventually) realise reunification, and this is unstoppable”, according to a Chinese government statement.He also described the Taiwan question as the “most important and most sensitive” issue in China-US bilateral relations.But, the Chinese academic noted, while China wants the US to stop arming Taiwan, “this is unlikely to happen”. The Chinese were delighted, however, that the US has ruled out the decoupling of the world’s two biggest economies, he said, adding that it remains to be seen whether the US will ease trade and tech restrictions and stop sanctioning Chinese firms.The two sides also agreed to resume military communications which Beijing suspended in August 2022 after then House Speaker Nancy Pelosi visited Taiwan in defiance of Chinese warnings. The US and Chinese militaries have had a few near-misses in the waters and skies near China in the past year. Despite the agreement to resume military contacts, miscalculations in the future cannot be ruled out due to deep-seated mistrust and misapprehension besetting Beijing and Washington.The US and its allies are also likely to keep at what Beijing perceives as military incursions into Chinese waters and airspace under the pretext of freedom of navigation.Indeed, said the academic, the US will most likely not relent on ganging up on China with Washington’s allies.Said Mr Lu: “Sino-US relations have been stabilised, but it is difficult to describe them as friendly.”Also, all agreements reached by the two leaders have a shelf life of one year.Mr Biden turns 81 on Nov 20, but still hopes to stand for re-election in November 2024. There is no guarantee that he will win against his immediate predecessor, Donald Trump, who is running again and is ahead of the incumbent in the opinion polls.For Mr Xi, enticing more US investment would be a boon to buoying the slowing Chinese economy.He told American business leaders over dinner that China is ready to be a partner and friend of the US and that there is plenty of room for bilateral cooperation.“Whatever stage of development it may reach, China will never pursue hegemony or expansion, and will never impose its will on others. China does not seek spheres of influence, and will not fight a cold war or a hot war with anyone,” he said.Seeking to reassure his audience, Mr Xi said: “No matter how the global landscape evolves, the historical trend of peaceful co-existence between China and the United States will not change.”It is wrong to view China as a threat and play a zero-sum game against it, said Mr Xi, who received a standing ovation as he entered the room, and two more before and after he took the stage to speak.In a twist, Mr Biden called Mr Xi a “dictator” at a news conference following their meeting, riling Beijing and risking derailing detente.It was neither a gaffe nor senility. The US President later told reporters that he stood by his comment, the second time in 2023 that he referred to the Chinese President as such.Some Chinese saw it as hubris, while others surmised that Mr Biden humiliated Mr Xi to remind its allies not to deal with him and China, and at the same time avoid criticism at home for accommodating his Chinese counterpart.“It’s inappropriate, unprofessional and disrespectful,” said Mr Xiao Bin, an international relations expert.',\n",
       "  'Title': 'What did the Chinese get out of Biden-Xi meeting?   ',\n",
       "  'Date': '2023-11-17',\n",
       "  'Article_URL': 'https://www.straitstimes.com/asia/east-asia/what-did-the-chinese-get-out-of-biden-xi-meeting'},\n",
       " {'st_id': 'st_1147812',\n",
       "  'Text': 'WASHINGTON – The US believes Chinese Defence Minister Li Shangfu is the subject of an investigation and has been relieved of his duties, the Financial Times reported, a sign of potential further upheaval in President Xi Jinping’s government less than a year into his third term.The report cited three US officials and two people briefed on the intelligence as saying the US has made the determination. It did not describe the nature of the probe.China’s Foreign Ministry did not immediately respond to a request for comment on Friday morning (local time) before business hours.Last week, Mr Xi called for a “a high degree of unity” in the People’s Liberation Army, as rumours swirled about the Defence Minister in diplomatic circles. China’s military in July launched a corruption probe into hardware procurement going back to October 2017, without saying why that date was significant. Mr Li headed the equipment department from September 2017 to 2022, though the government has given no indication that he is suspected of wrongdoing.Speculation over Mr Li’s absence follows a series of abrupt personnel moves in the upper echelons of Chinese power.In August, Mr Xi abruptly purged two generals leading the secretive rocket force, which manages the country’s nuclear arsenal, without explanation. That came weeks after the Chinese leader stunned the world by ousting Mr Qin Gang from the role of foreign minister, just seven months into that job. Mr Rahm Emanuel, the US Ambassador to Japan, recently linked Mr Li to those unexplained moves, saying in a post on X, the social media platform formerly known as Twitter, that the Communist Party official had not been seen in public for two weeks. When asked about Mr Emanuel’s post, a Chinese Foreign Ministry spokeswoman said she was “not aware of the situation”.Mr Li last made a public appearance on Aug 29, when he delivered a keynote speech at the 3rd China-Africa Peace and Security Forum in Beijing. He also travelled to Russia and Belarus in mid-August. He called China’s military relationship with Russia a “model for cooperation” during a security conference in Moscow.Mr Li was schedule to attend an annual meeting with Vietnamese defence leaders last week but cancelled at short notice, Reuters reported on Thursday, citing three officials with direct knowledge of the matter. Beijing cited a “health condition” for the minister’s absence, two Vietnamese officials said.The minister’s removal could be a boon for the US: Mr Li is the subject of sanctions the Trump administration imposed in 2018, after he oversaw an arms purchase from Russia. That has impeded US efforts to restart top-level military contact severed after then House Speaker Nancy Pelosi visited Taiwan in August 2022. The lack of communication has raised concern about an accident potentially setting off a conflict.Unlike China’s foreign minister, who makes public appearances roughly once a week, the defence minister typically has a less public profile.\\xa0BLOOMBERG',\n",
       "  'Title': 'US believes China Defence Minister Li Shangfu is facing inquiry: Media',\n",
       "  'Date': '2023-09-15',\n",
       "  'Article_URL': 'https://www.straitstimes.com/world/united-states/us-believes-china-defence-minister-faces-inquiry-media'},\n",
       " {'st_id': 'st_1162215',\n",
       "  'Text': 'ABOARD AIR FORCE ONE - US President Joe Biden said on Tuesday his goal during talks with Chinese President Xi Jinping this week is to resume normal communications between the two superpowers, including military-to-military contacts.Speaking to reporters at the White House before departing for San Francisco, Mr Biden said he is trying to alter the US relationship with China for the better, after a period of strained ties.Mr Biden and Mr Xi are to meet on Wednesday in the San Francisco area during the Asia-Pacific Economic Cooperation summit. It will be only the second in-person meeting between the two leaders since Mr Biden took office in January 2021.Asked how he would measure success at the talks with Mr Xi, Mr Biden said:“To get back on a normal course, corresponding and being able to pick up the phone and talk to one another in a crisis, and being able to make sure that our militaries still have contact with one another.”Aboard Air Force One en route to San Francisco, White House national security spokesman John Kirby told reporters Mr Biden and Mr Xi would also talk about the Israel-Hamas conflict in Gaza as well as US efforts to support Ukraine in its battle to repel Russian invaders.“They can be frank and forthright with one another, I fully expect that that will be the case,” Mr Kirby said.He said Mr Biden is “not going to be afraid to confront where confrontation is needed on certain issues where we don’t see eye-to-eye” but also will look for areas to cooperate on such as climate change.Economic issues figured to be high on the agenda.Mr Biden said the United States does not want to decouple from China but wants to change the economic relationship for the better.He said it would benefit all if the average citizen in China had a decent-paying job.“But I’m not going to continue to sustain support for a position where in order to invest in China, we have to turn over all our trade secrets,” he said.The Chinese severed military-to-military contacts with the United States in a fit of pique after then-House of Representatives Speaker Nancy Pelosi visited Taiwan in August 2022.Restoring the contacts is a top US goal to avoid miscalculations between the two militaries.Relations between the two countries grew frosty after Mr Biden ordered the shooting down in February of a suspected Chinese spy balloon that flew over the United States.But top Biden administration officials have since visited Beijing and met with their counterparts to rebuild communications and trust.\\xa0REUTERS',\n",
       "  'Title': 'Biden says goal of Xi meeting is to resume US-China military communications',\n",
       "  'Date': '2023-11-15',\n",
       "  'Article_URL': 'https://www.straitstimes.com/asia/biden-says-goal-of-xi-meeting-is-to-resume-normal-communications'},\n",
       " {'st_id': 'st_1145263',\n",
       "  'Text': 'BEIJING - China’s\\xa0top security agency has hinted that any meeting between President Xi Jinping and US President Joe Biden in San Francisco later in 2023 will depend on the United States “showing enough sincerity”.Mr Biden on Sunday expressed disappointment that Mr Xi was not attending an upcoming summit of Group of 20 (G-20) leaders in India, but added that he was going to “get to see him”. Mr Biden did not elaborate, but the next likely opportunity for him to hold talks with Mr Xi, as the two countries seek to stabilise troubled relations, is an Asia-Pacific Economic Cooperation (Apec) summit in San Francisco in November.“To truly realise ‘from Bali to San Francisco’, the United States needs to show enough sincerity”, the Ministry of State Security said in a post on Monday on its WeChat social media page.It was referring to the last meeting between Mr Biden and Mr Xi, on the sidelines of a G-20 summit on Indonesia’s resort island of Bali in November 2022. It did not mention the Apec summit in its post.It is unclear if the ministry, which is China’s\\xa0main intelligence agency, is privy to, or has influence over, Mr Xi’s\\xa0considerations on diplomatic engagements.Premier Li Qiang will lead a delegation to a G-20 summit in New Delhi this weekend, the Chinese government has announced, all but confirming that Mr Xi would not attend. The ministry in its post said Mr Biden’s\\xa0administration had adopted a dual-natured strategy towards Beijing, inviting competition with China but also wanting to control the competition.It said that while US officials who visited China recently said there was no intention to curb China’s development or “decouple”, the US still approved arms sales and provided military financing to Taiwan, and raised issues about Tibet and the South China Sea as well as openly criticised the Chinese economy.“China will never let its guard down because of a few ‘nice words’ from the United States… The various obstacles, containment and suppression by the United States will only make China more courageous and self-reliant,” it added.US Commerce Secretary Gina Raimondo, who visited China last week, said the US did not want to decouple from China but she also said US companies had complained to her that China has become “uninvestable”, pointing to fines, raids and other actions that have made it risky to do business in the world’s second-largest economy. China repeated calls for the US to take more “practical and beneficial actions” to maintain China-US ties after the “uninvestable” comment was reported. REUTERS',\n",
       "  'Title': 'Chinese spy agency suggests that a Biden-Xi meeting hinges on ‘sincerity’  ',\n",
       "  'Date': '2023-09-05',\n",
       "  'Article_URL': 'https://www.straitstimes.com/asia/chinese-spy-agency-suggests-that-a-biden-xi-meeting-hinges-on-sincerity'},\n",
       " {'st_id': 'st_1144580',\n",
       "  'Text': 'MOSCOW – Russian President Vladimir Putin said on Friday that he expected to meet Chinese President Xi Jinping soon, following earlier reports that he planned to visit China in October. Moscow has turned increasingly to China as its most powerful ally since alienating the West last year with its decision to launch a full-scale invasion of Ukraine, what it calls a “special military operation”.Beijing has declined to blame Moscow for the war and condemned Western sanctions on Russia, even as it has profited by securing discounts for oil and gas that Russia can no longer sell to Europe.Kremlin foreign policy adviser Yury Ushakov said in July that Mr Putin planned to visit China in October at the time of its third “Belt and Road” forum, responding to an invitation issued by Mr Xi during a high-profile state visit to Russia in March.Mr Putin and Mr Xi had already heralded an era of much closer ties, and a shared rejection of a Western-based world order, by signing a “no limits” partnership agreement in Beijing last year, weeks before Russia invaded Ukraine.But Mr Putin, speaking in a televised meeting with selected schoolchildren on the first day of the school year, did not explicitly confirm that he would travel to China again.He is not known to have travelled abroad since the International Criminal Court issued an arrest warrant for him in March, just before Mr Xi’s visit, on suspicion of war crimes in Ukraine.“Quite soon we will have events, and there will be a meeting with the president of the People’s Republic of China,” he said, according to Russian news agency Interfax.“He (Xi) calls me his friend, and I am happy to call him my friend, because he is a person who does a lot for the development of Russian-Chinese relations.”Last week, Mr Putin participated remotely in a summit of the Brics countries, with Brazil, India, China and host South Africa.He will be represented by Foreign Minister Sergei Lavrov at a Sept 9-10 meeting of the Group of 20 leading industrialised and developing countries in India. REUTERS',\n",
       "  'Title': \"Russia's Putin says he will meet China's Xi soon\",\n",
       "  'Date': '2023-09-02',\n",
       "  'Article_URL': 'https://www.straitstimes.com/asia/russias-putin-says-he-will-meet-chinas-xi-soon'},\n",
       " {'st_id': 'st_1158418',\n",
       "  'Text': 'BEIJING  -China\\'s Foreign Minister Wang Yi said the \"road to the San Francisco summit will not be a smooth one\", the foreign ministry said on Sunday, in a reference to an expected meeting between President Xi Jinping and U.S. President Joe Biden.Wang met Biden and his top aides in Washington in recent days, agreeing to work together toward the expected bilateral meeting on the sidelines of an Asia-Pacific Economic Cooperation forum summit.A flurry of bilateral diplomatic engagements in recent months, largely at U.S. request, has aimed at salvaging what were rapidly deteriorating ties early in the year following the U.S. downing of an alleged Chinese spy balloon.But in remarks on Saturday, Wang cautioned the road to the summit would not be a smooth one and travelling there would not be on \"autopilot\", the ministry said in a statement.He was speaking after a discussion with members of the U.S. strategic community in Washington, the ministry said.Last month, China\\'s top security agency suggested any Xi-Biden meeting in San Francisco hinged on the U.S. \"showing sufficient sincerity\".Wang said China and the U.S. needed to \"return to Bali\", referring to the last meeting between Biden and Xi, on the sidelines of a Group of 20 summit on the Indonesian resort island last November, where they discussed Taiwan, competition and communication.Washington and Beijing must put into practice the consensus achieved then, \"remove interference, overcome obstacles, enhance consensus and gather outcomes\", Wang said.He said both sides have jointly sent out positive signals to stabilise and improve relations, believing it is useful and necessary to maintain dialogue even as there are still various differences and contradictions, and issues to be resolved.Saturday\\'s discussions also included in-depth exchanges on the interaction between China and U.S. militaries, finance, science and technology, China\\'s investment environment and market access, as well as the Middle East and Ukraine crises. REUTERS',\n",
       "  'Title': \"China's foreign minister suggests road to Xi-Biden summit will not be smooth\",\n",
       "  'Date': '2023-10-29',\n",
       "  'Article_URL': 'https://www.straitstimes.com/world/chinas-foreign-minister-suggests-road-to-xi-biden-summit-will-not-be-smooth'},\n",
       " {'st_id': 'st_1144349',\n",
       "  'Text': 'NEW YORK – US and Chinese military officials met at a defence chiefs’ conference in Fiji in August, in a rare direct engagement between the armed forces of the two superpowers. Admiral John Aquilino, who leads the US Indo-Pacific Command, held a meeting with a senior Chinese official at the event, which was held from Aug 14 to 16, the Pentagon said. Chinese Defence Ministry spokesman Wu Qian told reporters in Beijing on Thursday that General Xu Qiling, deputy joint chief of staff of the People’s Liberation Army, met US representatives there. Neither side gave further details on the discussions.Less than a month before the event, Adm Aquilino, whose command co-hosted the conference, said China had thus far ignored a US invitation to participate. The event ultimately featured delegations from 27 countries, according to the command.China suspended military ties after then US House Speaker Nancy Pelosi visited Taiwan in August 2022.Subsequent efforts to resume ties were derailed after the United States identified and later shot down an alleged Chinese spy balloon transiting US territory in February. China declined a US request for a meeting between Defence Secretary Lloyd Austin and his counterpart, General Li Shangfu, during the Shangri-La Dialogue in Singapore in June.Beijing has demanded the lifting of US sanctions against Gen Li, who was cited in 2018 for overseeing an arms purchase from Russia. In recent months, the Biden administration has sought to rebuild ties with Beijing, sending a string of civilian Cabinet officials to China for meetings.Pentagon spokesman Pat Ryder, speaking to reporters on Thursday, said he hoped the Aquilino meeting would become part of a regular dialogue with China.“We are always going to keep the lines of communication open, particularly when you have two large militaries operating in the same area,” he said. BLOOMBERG',\n",
       "  'Title': 'US, Chinese military officials meet in Fiji in rare engagement ',\n",
       "  'Date': '2023-09-01',\n",
       "  'Article_URL': 'https://www.straitstimes.com/asia/east-asia/us-chinese-military-officials-met-in-fiji-in-rare-engagement'},\n",
       " {'st_id': 'st_1162012',\n",
       "  'Text': 'SAN FRANCISCO  -     The commerce chiefs of the United States and China will meet at the Asia Pacific Economic Cooperation (APEC) forum this week, one of a series of cabinet-level engagements surrounding high-stakes talks between U.S. President Joe Biden and Chinese President Xi Jinping.A U.S. Commerce Department spokesperson confirmed that U.S. Commerce Secretary Gina Raimondo and Chinese Commerce Minister Wang Wentao planned to meet but was not able to provide details and timing.Raimondo is participating in ministerial meetings for APEC and the Biden administration\\'s Indo-Pacific Economic Framework discussions. Biden and Xi are expected to meet in the San Francisco Bay area on Wednesday in an effort to calm a tense relationship between the world\\'s two largest economies. Raimondo first mentioned the meeting with Wang, their third in person in less than six months, in an interview with CNN that aired on Sunday.She said it was time to \"ratchet down the temperature\" of the U.S.-China relationship. She added that she would not \"sugarcoat anything, not to pretend that this isn\\'t a great competition, but to be direct and be honest and also to ... responsibly manage this relationship.\"Her meeting with Wang follows U.S. Treasury Secretary Janet Yellen\\'s meetings last week with Chinese Vice Premier He Lifeng, during which the two sides agreed to \"intensify communication\"- including with a return trip for Yellen to China next year.Raimondo has a more difficult China portfolio than Yellen, as Commerce oversees contentious U.S. export controls on advanced semiconductors and chip manufacturing equipment, and other sensitive technologies that could have military applications. She said there can be \"no negotiation\" over these.During her visit to Beijing in late August, during which she met with Wang, Raimondo agreed to set up a dialogue with Chinese officials on export controls to avoid misunderstandings about the measures.She also said during the trip that U.S. businesses had told her that China was becoming \"uninvestible\" for U.S. firms. She repeated the comment to CNN, citing China\\'s new anti-espionage law, unpredictable regulations and government raids on U.S. firms. REUTERS',\n",
       "  'Title': 'US Commerce chief Raimondo to meet Chinese counterpart Wang during Apec',\n",
       "  'Date': '2023-11-14',\n",
       "  'Article_URL': 'https://www.straitstimes.com/asia/us-commerce-chief-raimondo-to-meet-chinese-counterpart-wang-during-apec-0'},\n",
       " {'st_id': 'st_1163492',\n",
       "  'Text': 'China’s leader Xi Jinping flew into San Francisco to meet US President Joe Biden on Nov 15 for his first visit to the US since 2017.The meeting, at the Asia-Pacific Economic Cooperation (Apec) conference, was slightly longer than expected, at four hours. This has been taken as a sign that the relationship between the two superpowers is warming up slightly after a significantly rocky period, marked by a trade war and a Chinese spy balloon entering US airspace.After the meeting, Mr Xi said the doors between the two countries cannot “be closed again”.There have been some small but important steps in potentially reducing the risk of a potential Cold War. Avoiding another Cold War has been one of Mr Xi’s key objectives, outlined in what has been labelled the “Five No’s” stated at the 2021 Alaska summit between China’s director of the Office of the Central Commission for Foreign Affairs Yang Jiechi and US Secretary of State Antony Blinken. Mr Biden said after the San Francisco summit that while the China-US relationship is competitive, his responsibility is to make it “rational and manageable”.The summit has been vital for Mr Xi’s bid to stabilise China’s domestic situation, and potentially to gain more access to US businesses. There were signs this was paying off, with a number of important US business leaders headed to San Francisco to meet with the Chinese President. This comes at a time of significant turmoil in the Chinese economy, which include high levels of youth unemployment and an export slump.Mr Xi seeks a level playing field for Chinese firms in the US, while also aiming to show foreign investors that China is still open for business and investment. In advance of the summit, Beijing has sought to win over US business leaders, who are seen as less hawkish on China than their political counterparts as well as being the primary beneficiaries of US-China trade.This was demonstrated by the visits earlier in 2023 of Microsoft’s Bill Gates and Apple’s Tim Cook to China, where they received a bigger reception than many heads of state. China views the trade tensions between the US and itself as having adverse effects on US businesses too, which it hopes it can use to lobby Washington to moderate its stance towards Beijing. As a result, winning over business leaders such as Mr Cook and Mr Gates is just as important as convincing political leaders such as Mr Biden.This summit can also be seen as furthering Beijing’s efforts to improve its relationships with many Western nations, underlined also by the visit of the Australian Prime Minister Anthony Albanese to Beijing on Nov 4. This marks a departure from its earlier aggressive foreign policy stance dubbed “wolf warrior” diplomacy. The way the summit has unfolded may have been a sign that China does not want further confrontation with the West right now.Mr Biden’s statement that Washington does not support full Taiwanese independence, while still being concerned about Chinese military intervention on the self-governing island, gives Mr Xi a bit more breathing space to focus elsewhere, perhaps de-escalating tension between the two over the long-term future for Taiwan.A pause in the tension with the US is potentially useful for both Beijing and Washington as they grapple with their own domestic politics, and conflict around the world.Possibly the most significant obstacle to Mr Xi’s goals at the summit have been the economic tensions between the US and China, which peaked under Donald Trump’s leadership. These tensions have been highlighted by the discussion over “de-risking” ties with China by the US and its allies. This would involve the termination or restriction of business ties with Chinese entities. Beijing views this as a US effort to constrain its economic development.Talk of “decoupling”, by cutting trade with China, has largely been dismissed by senior US officials, such as Secretary of the Treasury Janet Yellen and Senate majority leader Chuck Schumer.China’s strengthsThere are several reasons for China to be confident in its negotiating powers with the US. One of these can be seen in the apparent failure of the US-led trade war to stymie China’s technological development, with restrictive measures such as chip curbs resulting in Chinese firms switching to Huawei processors.Such moves have cost US firms such as Nvidia the Chinese market, while seemingly making little impact on Chinese innovation. This, in turn, has lessened the amount of economic leverage that the US has over China.The US has its own strategic challenges, with the conflicts in Ukraine and Gaza placing American capacities under greater strain. In China’s eyes, an overextended US is less willing to open a third front in Asia.This further strengthens China’s position, with the additional benefit of these conflicts strengthening China’s influence in Russia and the developing world. As a result, China’s diplomatic standing and clout is perhaps stronger than expected.So far, there have been a few token agreements such as resumption of high-level communication contact between the US and Chinese militaries, which marks a notable de-escalation in the tensions between the two.While Apec is a step in the right direction for reducing Sino-US tensions, it is somewhat doubtful that Mr Xi has won everything that Beijing wanted. Meanwhile, Mr Biden will be scrutinised by the opposition for not giving too much away to China. This is pertinent because he faces an election in 2024, where his most likely opponent is Donald Trump, who was famous for his hardline stance on China. Consequently, any concession to Beijing may cost Mr Biden dearly in his bid to be re-elected.What can be delivered from the summit is a pause in China-US tension rather than an end to it. In the face of the challenges in restructuring China’s economy and the US’s geopolitical quagmires, perhaps breathing room is the best that Beijing and Washington can hope for.Tom Harper is Lecturer in International Relations at the University of East London. This article was first published in The Conversation.',\n",
       "  'Title': 'What Xi got out of his meeting with Biden',\n",
       "  'Date': '2023-11-20',\n",
       "  'Article_URL': 'https://www.straitstimes.com/opinion/what-xi-got-out-of-his-meeting-with-biden'},\n",
       " {'st_id': 'st_1159303',\n",
       "  'Text': 'WASHINGTON - China and the United States will discuss nuclear arms control next week, the first such talks since the Obama administration, the Wall Street Journal reported on Wednesday.China’s Foreign Ministry said on Monday after a visit by Foreign Minister Wang Yi to Washington that the two countries would hold “consultations on arms control and non-proliferation” in the coming days, as well as separate talks on maritime affairs and other issues.Those arms talks would be led on Monday by Ms Mallory Stewart, a senior State Department official, and Mr Sun Xiaobo, the head of the arms control department at China’s Foreign Ministry, the Wall Street Journal report said.The US State Department and China’s embassy in Washington did not immediately respond to requests by Reuters for comment on the timing or format of the talks.US National Security Adviser Jake Sullivan said in 2021 that the Chinese and US presidents had agreed to “look to begin to carry forward discussion on strategic stability”, a reference to Washington’s concerns about Beijing’s nuclear weapons build-up.But the White House was quick to say at the time that the discussions would not resemble formal arms reduction talks, like those the United States has had with Russia.Since then, US officials had expressed frustration that China showed little interest in discussing steps to reduce nuclear weapons risks.China has more than 500 operational nuclear warheads in its arsenal and will probably have over 1,000 warheads by 2030, the Pentagon said in October. But Beijing has long argued that the US already has a much larger arsenal.The arms talks would occur before a likely meeting between US President Joe Biden and Chinese President Xi Jinping in San Francisco in November, although a senior Biden administration official said on Tuesday important details have yet to be hammered out.A flurry of China-US diplomatic engagements in recent months, largely at Washington’s request, has sought to salvage what were rapidly deteriorating ties between the two countries following the US downing in February of a suspected Chinese spy balloon over the United States.Mr Daryl Kimball, executive director of the Washington-based Arms Control Association, said the overdue arms talks would likely focus on promoting greater transparency of each countries’ nuclear doctrines and more effective crisis-communication channels.“I don’t think, however, we should expect breakthroughs in the near term. That’s going to take time and give and take from both sides,” Mr Kimball said. REUTERS',\n",
       "  'Title': 'China agrees to nuclear arms control talks with US: Report ',\n",
       "  'Date': '2023-11-02',\n",
       "  'Article_URL': 'https://www.straitstimes.com/world/china-agrees-to-nuclear-arms-control-talks-with-us-wsj'},\n",
       " {'st_id': 'st_1155297',\n",
       "  'Text': 'BEIJING – Russia’s top diplomat Sergei Lavrov arrived in Beijing on Monday ahead of an expected visit by President Vladimir Putin to China, for a gathering of representatives of 130 countries that will be overshadowed by the Israel-Gaza war. This will be Mr Putin’s first trip to a major global power since the Ukraine invasion.The Foreign Ministry announced on social media platform X, formerly Twitter, that Mr Lavrov was in the Chinese capital as part of a Russian delegation.Beijing is hosting representatives of 130 countries from Tuesday to Wednesday to mark a decade of its Belt and Road Initiative (BRI) – a key geopolitical project of President Xi Jinping to extend China’s global reach.But all eyes will be on Mr Putin, who in September told Beijing’s Foreign Minister Wang Yi in Saint Petersburg he had “gladly accepted” Mr Xi’s invitation to visit China for the BRI talking shop.The Russian leader’s strategic dependence on China has only grown since his invasion of neighbouring Ukraine thrust his country into international isolation.Mr Putin last week voiced concern at the “catastrophic increase” in the number of civilian victims in Israel and the Gaza Strip.The Kremlin ambassador to the United Nations has called for a “humanitarian ceasefire” in the Gaza Strip and Israel, while blaming the United States for the ongoing conflict.This year, trade between China and Russia has soared to levels not seen since the beginning of Moscow’s war in Ukraine, with Chinese imports of Russian oil offering Moscow a critical lifeline as international sanctions bite.China has refused to condemn the war in an effort to position itself as a neutral party, while at the same time offering Moscow vital diplomatic and financial support.At the heart of the deepening partnership is the relationship between Mr Xi and Mr Putin, who have described each other as “dear friends”.But their alliance is also forged by a symbiotic necessity, each seeing the other as a necessary bulwark in their shared struggle against Western dominance. In an interview with Chinese state broadcaster CGTN ahead of his visit this week, Mr Putin hailed ties with Beijing and the “mutual benefits” of the BRI.“President Putin pointed out that a multipolar world is taking shape, and the concepts and initiatives put forward by President Xi Jinping are highly relevant and significant,” CGTN reported.“He stated that President Xi Jinping is a well-recognized leader on the world stage and is a true world leader,” it said.Mr Putin also reportedly “shared pleasant memories between President Xi and him, and hoped the tradition would continue when they meet in China in the future”.A number of leaders have already arrived in Beijing ahead of the summit, according to China’s state news agency Xinhua.Among them are Hungarian Prime Minister Viktor Orban, Chilean President Gabriel Boric, Kenyan President William Ruto and Ethiopian Prime Minister Abiy Ahmed. AFP                   ',\n",
       "  'Title': 'Russia’s top diplomat Lavrov in China ahead of Putin visit',\n",
       "  'Date': '2023-10-16',\n",
       "  'Article_URL': 'https://www.straitstimes.com/world/russias-top-diplomat-lavrov-in-china-ahead-of-putin-visit'},\n",
       " {'st_id': 'st_1146456',\n",
       "  'Text': 'NEW DELHI/HANOI - Vietnam on Sunday elevated its ties with the United States to the highest diplomatic status during a visit to the country by US President Joe Biden.The two countries are now comprehensive strategic partners.  Vietnam has named four other countries in this category – China, Russia, India and South Korea. The US has been pushing for the upgrade for months as it sees Vietnam as a key country in its strategy to secure global supply chains from China-related risks.A half-century after a lengthy and brutal Cold War-era conflict, Mr Biden arrived in Hanoi on Sunday. The country’s ruling Communist Party organised a welcome ceremony that included schoolchildren waving American flags and honour guards carrying bayoneted rifles.Mr Biden noted the strides that had been taken towards improved ties. “We can trace a 50-year arc of progress between our nations, from conflict to normalisation, to this new elevated status,” he said.Vietnam is having to navigate frosty relations between Washington and Beijing as it seeks its own foothold in the international economic competition.Top Chinese officials, possibly including President Xi Jinping, are expected to visit Vietnam in the coming days or weeks, officials and diplomats said, as Hanoi seeks to maintain good relations with all superpowers.It also comes as Vietnam’s longstanding relationship with Russia faces tests over the war in Ukraine.These include talks with Russia over a new arms supply deal that could trigger US sanctions.Reuters has seen documents describing talks for a credit facility that Russia would extend to Vietnam to buy heavy weaponry, including anti-ship missiles, anti-submarine aircraft and helicopters, anti-aircraft missile systems, as well as fighter jets.One of them, a letter sent in May by Vietnamese Prime Minister Pham Minh Chinh to the Russian government, showed interest in the possible new deal.A Vietnamese military officer confirmed the authenticity of the letter and the talks for a new US$8 billion (S$11 billion) credit facility to buy heavy weaponry.A spokesman for Vietnam’s Foreign Ministry did not respond to multiple requests for comment on the documents, which show Moscow pushing for months for a loan deal that would bypass Western sanctions on Moscow.Hanoi is in similar talks with multiple arms suppliers, including the US.In recent weeks, Vietnam has engaged in several high-level defence meetings with top Russian officials.The upgrade in diplomatic relations to the highest level will include a security dimension, Mr Jon Finer, the US principal deputy national security adviser, told reporters on Sunday, while on the plane with Mr Biden to Vietnam from a Group of 20 summit in India.He said he had no arms deals to announce at this stage.But Mr Finer stressed that the US and its partners could offer Vietnam help to diversify away from Russian military supplies, an offer which he said Vietnam was receptive to. That would help Vietnam reduce military reliance on Moscow, “a relationship we think they are increasingly uncomfortable with”, Mr Finer said.Chips, rare earthsMr Biden’s visit comes as trade and investment ties between the two nations are growing and a long-simmering territorial dispute between Vietnam and China heats up in the South China Sea. Highlighting Vietnam’s growing importance as a “friendshoring” destination for US technology companies, executives from companies such as Google, Intel and Boeing are expected to meet on Monday with Vietnamese tech executives and Secretary of State Antony Blinken in Hanoi.Full details on the US-Vietnam deal have yet to be released.Still, semiconductors are the centrepiece of an action plan adopted during Mr Biden’s visit, a US official said.Besides possible announcements by US corporations, it is unclear how significant the US administration’s contribution to the sector could be.The administration has only US$100 million a year for five years available under the Chips Act to support semiconductor supply chains globally. A large part of it could go to Vietnam, officials said.More support to train skilled workers is also part of the deal, as Vietnam faces a major shortage of engineers in the chips sector.Another key issue is strengthening supply chains of critical minerals, especially rare earths. Vietnam has the world’s largest deposits of the minerals, after China, according to US estimates, officials said.Two people familiar with the plans said an agreement on rare earths was expected during Mr Biden’s visit, which ends on Monday when he flies back to the US.But details are scant. Past attempts by US companies to partner with Vietnamese rare earth firms have not succeeded, said a person involved in one recent plan. Human rightsMr Biden will be juggling strategic interests with the defence of human rights in Vietnam. While he has often criticised China’s human rights record, he has largely stayed quiet on Vietnam. Campaigners are fearful he may not press the subject.White House national security adviser Jake Sullivan said before the trip that Mr Biden would raise issues related “to freedom of expression, freedom of religion, and other basic human rights”.Last week, a US government commission accused Vietnam of backsliding on religious freedoms, saying the country was on a “similar trajectory” to China in terms of its regulation and control of religion. REUTERS, AFP',\n",
       "  'Title': 'Vietnam elevates relations with US to highest diplomatic status    ',\n",
       "  'Date': '2023-09-10',\n",
       "  'Article_URL': 'https://www.straitstimes.com/asia/us-vietnam-to-elevate-ties-during-biden-visit-with-eye-on-china'},\n",
       " {'st_id': 'st_1146793',\n",
       "  'Text': 'BEIJING – Chinese President Xi Jinping called for unity and stability within the military during an inspection trip, following upheaval in the highest echelons of the People’s Liberation Army (PLA).“We must strictly enforce the education and management of troops and maintain a high degree of unity, security and stability,” Mr Xi said during a trip to north-east China on Friday, the official Xinhua News Agency reported on Sunday.He also stressed the need to improve the level of combat readiness.While Mr Xi has regularly stated the need for stability within the Chinese military, including during a trip to Inner Mongolia in June, his comments come after a series of abrupt personnel moves in the PLA. Earlier in 2023, he abruptly purged two generals leading China’s secretive rocket force, which manages the country’s nuclear arsenal, without explanation.That came shortly after he ousted Mr Qin Gang from the role of foreign minister, following the latter’s  disappearance from public view for a month.On Friday, Mr Rahm Emanuel, the US ambassador to Japan, linked Defence Minister Li Shangfu to those unexplained personnel moves, saying in a post on X, the social media platform formerly known as Twitter, that the Communist Party official had not been seen in public for two weeks. General Li last made a public appearance on Aug 29, when he delivered a keynote speech at the 3rd China-Africa Peace and Security Forum in Beijing. He also travelled to Russia and Belarus in mid-August, where he called China’s military relationship with Russia a “model for cooperation” during a security conference in Moscow.Unlike China’s foreign minister who makes public appearances on an at-least weekly basis, the defence minister typically has a less public profile.  China’s military in July launched an inquiry into corruption linked to procuring hardware going back to October 2017, without saying why that date was significant. Gen Li headed the equipment department from September 2017 to 2022, though there is no sign that he is suspected of wrongdoing.The probe is a sign that Mr Xi’s nearly decade-long drive to clean up the PLA is incomplete.  During Mr Xi’s inspection tour of the army unit in the north-east last week, he was accompanied by General Zhang Youxia, vice-chairman of China’s top military body, Xinhua reported. BLOOMBERG',\n",
       "  'Title': 'China’s Xi Jinping stresses military unity after purging rocket force chiefs',\n",
       "  'Date': '2023-09-11',\n",
       "  'Article_URL': 'https://www.straitstimes.com/asia/east-asia/china-s-xi-jinping-stresses-military-unity-after-purging-rocket-force-chiefs'},\n",
       " {'st_id': 'st_1163368',\n",
       "  'Text': 'The much anticipated face-to-face meeting between US President Joe Biden and Chinese leader Xi Jinping finally took place at a grand villa outside San Francisco on Nov 15. After four hours of talks, both leaders emerged with news of a clutch of token bilateral agreements, including resumption of military-to-military communications and anti-narcotics cooperation. That Mr Biden and Mr Xi met at all was a source of relief to many, given the wider implications of increasingly acrimonious United States-China ties. The talks also gave both leaders a chance to bolster their statesmanship credentials for their respective home audiences. But on the big geopolitical issues, Mr Biden and Mr Xi mostly talked past each other, leaving US-China relations in a state of vulnerability to a deeper crisis. A disconnect between Chinese and American thinking was noticeable.Mr Xi hit on several major themes at the talks with the US President. First, he wanted the US to stop criticising the Chinese Communist Party’s internal policies. The Biden administration has in the past condemned the mass incarceration of Uighurs, political and cultural repression in Tibet, and the quashing of civil liberties in Hong Kong. Mr Biden has also called the Chinese leader a “dictator”.Mr Xi’s expectations, however, are unrealistic, given the role that a free and critical press plays in US society and the historical American commitment to championing liberal values abroad. As if to underscore this point, Mr Biden raised the issues of human rights in Tibet and Xinjiang with Mr Xi in San Francisco. In remarks that irked the Chinese, Mr Biden told reporters after the talks that he had not changed his view about Mr Xi being a dictator. “He’s a dictator in the sense that he is a guy who runs a country that is a communist country,” Mr Biden said of Mr Xi.During the summit, Mr Xi also criticised the US for “dividing the world” and “provoking conflict” by organising anti-China alliances. This outlook, however, does not resonate with Americans, who generally see a global polarisation and aggression driven by the authoritarian states, with the US and its security partners struggling to keep up.Manifestations include the Russian invasion of Ukraine, China’s steadfast diplomatic support of Russian President Vladimir Putin, China’s strategic alignment with Iran, North Korean military cooperation with Russia, and Chinese threats to attack Taiwan. Beijing’s efforts to draw the Global South into China’s orbit have not gone unnoticed in Washington.Mr Xi also told Mr Biden that recent US tech and investment restrictions, as well as efforts to reshape global supply chains to bypass China, seriously damaged the country’s legitimate interests, Xinhua news agency reported.But Mr Xi’s hopes of a return to the days of nearly untrammelled US economic engagement with China that prevailed up through the Obama years are dim. Back then, China enjoyed maximum access to US markets and technology, a flood of US investment, and deep US dependence on China for the supply of even vital goods. Now, Americans see China as a powerful adversary that aims to seize global economic leadership and that freely employs economic coercion against its trade partners.  At the summit, Mr Xi repeated calls for the US to accept Beijing’s claims of ownership over Taiwan and most of the South China Sea, speaking of “mutual respect” for “core interests” and “red lines”. But, as Beijing well knows by now, Washington rejects those claims, to the point where there is a risk of a US-China war breaking out over either of those geographic areas. Count this as a tick-the-box item for Mr Xi’s audience back home.  Mr Biden raised three main themes of his own: improving bilateral communication, keeping competition from causing conflict, and the necessity of cooperation on global issues. But his presentation clashed with how Beijing perceives these issues.The Biden administration emphasises establishing “guard rails” with China to prevent tensions from escalating into military conflict. From the Chinese standpoint, however, guard rails serve US, but not Chinese interests: Washington is asking China to passively accept US intrusions into Chinese-claimed territory. The Chinese argue that guard rails are not possible unless the US first accommodates Beijing’s claims to sovereignty over Taiwan and the South China Sea.Americans see global problems such as climate change as so important they demand US-China cooperation, even if bilateral relations are poor. For Beijing, however, American interest in global cooperation is just another point of leverage. For instance, in 2022, China suspended working with the US on climate change solutions as part of its reprisals for US Speaker Nancy Pelosi’s Taiwan visit.Xi needs it moreMr Biden and Mr Xi stand to gain prestige from the summit, even if it has little lasting positive impact.  Both benefit from showing they can competently manage an important foreign relationship.  Mr Biden, already preoccupied with the wars in Ukraine and Gaza and a looming re-election campaign, hopes to forestall additional trouble with China. Mr Xi wants to gain face as his hosts treat him with deference – ideally, more deference than other leaders attending the Asia-Pacific Economic Cooperation summit get.But Mr Xi needs the meeting more than Mr Biden does because Mr Xi’s position relative to Mr Biden has weakened in the year since the two last met in Bali. China’s economy is in a malaise, largely a result of poor management by Mr Xi’s government.The mysterious disappearances of China’s Foreign Minister and Defence Minister in 2023, along with the sacking of the People’s Liberation Army Rocket Force commander and political commissar, suggest political problems behind the scenes.Externally, the US has strengthened its counter-China coalition, upgrading its strategic cooperation with the Philippines and Vietnam. Mr Biden also hosted a historic and substantive improvement in US-Japan-South Korea coordination. Weak deliverablesSenior US and Chinese officials have worked for months to find areas where the two governments could agree to cooperate so that Mr Xi and Mr Biden could announce deliverables from their meeting.  These new agreements cover important issues, but their ultimate significance is questionable.One announcement was that China and the US will cooperate on developing and regulating artificial intelligence (AI). Because China has compelling interests to beat the US in the race for AI supremacy, it will likely treat any collaboration as an opportunity to siphon US technology while hiding its own.  China’s past performance in abiding by international regulations such as illegal fishing or the Law of the Sea doesn’t inspire confidence that it would honour an AI code of conduct.  As part of the Xi-Biden summit, Beijing has agreed to do more to prevent the export from China of precursor chemicals used to make the drug fentanyl, which is killing tens of thousands of Americans annually. But in this case, China is offering to sell the same horse the US has already paid for. In 2017, Beijing agreed, at US urging, to crack down on the manufacture and export of fentanyl.  Subsequently, however, China curtailed its counter-narcotics cooperation with the US because Beijing was unhappy with unrelated US policies such as criticism of human rights abuses in Xinjiang and support for Taiwan. A third agreement is a reopening of communication between the two militaries. Even when active, US-China military communications channels have had limited usefulness. In times of crisis, when US officials have used hotlines to call their counterparts in China, the Chinese tend to not answer the phone. Unlike the Americans, the Chinese government does not believe military communication has inherent value. Rather, they see it as linked to the current state of bilateral relations. China’s Ministry of Foreign Affairs has said that Beijing doesn’t accept “communicating for communication’s sake”, and that Washington “should stop claiming it wants to maintain communication while damaging the political foundations of bilateral relations”.  Furthermore, like cooperation on climate change, military communication is subject to Chinese cut-off when Beijing so chooses. These channels are “reopening” because China closed them in 2022 after the Pelosi trip to Taiwan.In any case, Mr Xi was not relying solely on winning over Mr Biden to get what he wanted. Instead of dining with Mr Biden after their meeting, Mr Xi attended what the Chinese media described as a “welcome dinner by friendly organisations in the United States”, where he spoke to US corporate executives who had paid up to US$40,000 (S$53,700) each to be close to the Chinese leader. He urged his audience to advocate for better US-China relations, and to spread the messages that “we must not erect barriers”, “it is wrong to view China as a threat”, and “the United States should not interfere in China’s internal affairs”. But even the US business community is less enthused about China than in the recent past. In the third quarter of 2023, net foreign direct investment into China was negative for the first time since 1998.  Both leaders want to repair US-China relations, but neither wants it badly enough to make a major and difficult change in his country’s foreign policy. Yet, if China and the US go to war against each other, it will be over an attempt by China to seize disputed territory on its periphery, not fentanyl or AI regulations.Denny Roy is a senior fellow at the East-West Centre in Honolulu.',\n",
       "  'Title': 'Biden and Xi talk past each other in San Francisco',\n",
       "  'Date': '2023-11-20',\n",
       "  'Article_URL': 'https://www.straitstimes.com/opinion/biden-and-xi-talk-past-each-other-in-san-francisco'},\n",
       " {'st_id': 'st_1160285',\n",
       "  'Text': 'WASHINGTON  -     U.S. Treasury Secretary Janet Yellen will meet with Chinese Vice Premier He Lifeng in San Francisco this week to try to deepen a fledgling economic dialogue between the world\\'s two largest economies ahead of a U.S.-hosted summit of Pacific Rim leaders.The Treasury said the Nov. 9-10 meetings will also convene the new economic and financial forums launched in October by the Treasury and China\\'s finance ministry and central bank.Yellen first met with He, China\\'s new economic czar, in July, when she visited Beijing to try to stabilize a deteriorating U.S.-China relationship amid growing U.S. restrictions on sensitive technologies.The San Francisco meetings will take place just before the Biden administration hosts ministers and leaders of Asia Pacific Economic Cooperation countries from Nov. 11-17 -- a gathering during which U.S. President Joe Biden is aiming to meet with Chinese President Xi Jinping.A senior U.S. Treasury official downplayed the idea that there would be specific \"deliverables\" from the Yellen-He meetings, saying it was not a \"policy trade\" situation \"where we trade one thing for another.\"But the official said a key aim for Yellen was gaining a better understanding of how the new U.S.-China economic communication line will work, and how to make sure that \"it is not vulnerable to shocks,\" adding that there will be more frequent interactions.Yellen also is keen to discuss what steps Chinese officials are contemplating to support their flagging economic growth, and what circumstances might change their policy path.\\'NON-MARKET\\' TOOLSAmid growing concerns that China will try to dump more manufactured goods on U.S. and global markets, Yellen is expected to warn He against using massive industrial subsidies to state firms and shutting U.S. companies out of domestic markets, the official said.\"This week, I will speak to my counterpart about our serious concerns with Beijing\\'s unfair economic practices, including  its large-scale use of non-market tools, its barriers to market access, and its coercive actions against U.S. firms in China,\" Yellen said in an opinion piece published by the Washington Post.She reiterated that the U.S. was seeking \"healthy competition\" with China and was not trying to \"trigger a \"disorderly wholesale private-sector pullback from China with actions to diversify supply chains and protect U.S. national security.\"The communications so far have helped U.S. officials to explain policies such as export controls and restrictions on outbound U.S. investment to China to counterparts in Beijing.NOT S&EDBut Yellen said her engagement with He was not meant to reconstitute the broad, Obama-era U.S.-China Strategic and Economic Dialogue, which was widely criticized for its ineffectiveness.Instead, Yellen said she was \"focusing on specific, high-priority economic topics on which we can make tangible progress.\"Among these are cooperating on global challenges such as tackling climate change, speeding debt relief to poor countries, and reducing illicit financial flows that support terrorism and the illegal drug trade. REUTERS',\n",
       "  'Title': \"US Treasury's Yellen to meet Chinese vice premier ahead of Apec summit\",\n",
       "  'Date': '2023-11-06',\n",
       "  'Article_URL': 'https://www.straitstimes.com/asia/us-treasurys-yellen-to-meet-chinese-vice-premier-ahead-of-apec-summit'},\n",
       " {'st_id': 'st_1162620',\n",
       "  'Text': 'SAN FRANCISCO – It would be sheer fantasy to expect that four hours of talks between United States President Joe Biden and his Chinese counterpart Xi Jinping would somehow calm the bloody conflict in the Middle East, the raging war in Europe and the simmering maritime tensions in Asia.But no one would deny that diplomacy had a good moment on Wednesday in full view of the world leaders assembled here for the annual Asia-Pacific Economic Cooperation summit.For a start, there is cautious hope that the threat has receded – at least a little – of an accidental war being set off by a hostile encounter between US and Chinese ships sailing in uncomfortable proximity in the contested waters of the South and East China seas.\\xa0Now that the two superpowers have agreed to resume military cooperation – arguably the most significant achievement of the summit – analysts see a geopolitical dividend. Military ties were severed by Beijing, angered by then US House Speaker Nancy Pelosi’s trip to Taiwan in August 2022.“I am relieved that on the tactical and operational level, there will be more safety valves for the management of an escalation of tension,” said Ms Yun Sun, director of the China Programme at the Stimson Centre, a think-tank in Washington.It is not that the trust the US and China have in each other has risen, but the summit is an acknowledgement that they are interdependent, said Mr Ian Bremmer, the president and founder of New York-based risk consultancy Eurasia Group.\\xa0“These are not countries that want chaos, they recognise they need stability of the existing global system,” Mr Bremmer said. “Biden and Xi came to the meeting with that sensibility at a time when the Middle East is in flames, Russia has invaded Ukraine and geopolitics is very dangerous.”He added: “In this environment, that’s very valuable.” That said, the superpowers were not on a path of convergence, the analysts noted.“There is some reassurance that there are channels of communication. But it is also a pretty low bar,” said Ms Sun.\\xa0\\xa0“We are talking about war prevention, the lowest common denominator of this bilateral relationship. Above and beyond that, I’m sceptical of any expectations for meaningful and sustainable cooperation.”The national interests of the US and China have not changed, she said, pointing to their unwillingness to budge from their own positions on Taiwan or on freedom of navigation operations through the Indo-Pacific. “One meeting is not going to resolve all of those issues. There is just raw competition,” she said.The best thing, though, could be a salutary effect on the world’s most important relationship itself.Three years of Covid-19 pandemic had isolated the two nations from each other and dramatically worsened tensions, said Professor Ang Yuen Yuen at Johns Hopkins University.Their mistrust had poisoned public opinion, driven bureaucrats to be more hawkish and sidelined moderates in both countries, said Prof Ang, an expert on US-China relations.“The result was a downward spiral of mutual suspicion. The Biden-Xi meeting is an effort to break this vicious circle at the highest level,” she said. “Let’s hope that this positive momentum can be maintained.”The puzzle, however, was what China had gained from Wednesday’s talks.“Everything announced was something Washington wanted. I don’t see what Washington delivered in return,” said Ms Sun.“The Chinese side are either playing extra nice, or there are things we don’t yet know about the deals.”Parsing the lengthy read-out released by Beijing, she noted that China had chosen to restate its principles, including its position on Taiwan and on its own right to modernisation and development. There was also a veiled condemnation of the US for using competition as the main framework for bilateral relations.\\xa0“But I don’t know what concrete deliverable the Chinese are taking away,” Ms Sun said.For Mr Biden, the win was more evident – the agreement by China to help curb the production of fentanyl that is smuggled across the Mexican border and is a leading cause of deaths among young Americans.\\xa0“The issue of fentanyl is quite important for Biden’s re-election because opioid-related deaths have become such a high priority for domestic politics,” said Ms Sun.“Anything that China can deliver on that issue will be helping Biden in his election.”At the meeting, Mr Biden and Mr Xi also noted the importance of climate cooperation between the world’s two biggest greenhouse gas emitters.What complicates matters, however, is that the US is approaching its presidential election in 2024, which makes it far less likely that Washington is about to make any tangible concessions to China.“This is usually when China-bashing becomes the preferred strategy for candidates,” Ms Sun said. “It will be very difficult for the Biden administration to take any conciliatory position towards China on trade, export control measures and investment restriction.”In short, all the key issues for China that are impacted by\\xa0the US policy of restricting investments and advanced technology transfers to the country remain unresolved.What is more, what was made in San Francisco could yet be broken in Washington.\\xa0Even during the year-long negotiation process for this summit, the US was continually announcing export and investment restrictions and sanctions on Chinese companies.“I doubt Biden will stop now that the summit has already been completed,” said Ms Sun.As critical is how the summit goes down in Beijing.“Some in China believe that mending ties with the US is a sign of weakness,” said Prof Ang.“I disagree. Pragmatism is a sign of confidence and sound judgment,” she added. “It is clearly in China’s interest to improve US-China relations, even more so than for the US.”\\xa0To maintain the momentum, she said, China has to follow up with concrete measures to welcome back foreign investors and visitors.\\xa0\\xa0“First, it must reduce damage. Recent incidents of raids, exit bans, data restrictions have all reinforced foreigners’ experiences that China’s doors are closing, while not making the country any safer.\\xa0China needs to be pragmatic again,” said Prof Ang. Mr Bremmer pointed out that stirrings beyond the summit – a new sure-footedness in the way the region was negotiating superpower relations – were also encouraging.China and Australia have reset their relationship with the four-day visit of Prime Minister Anthony Albanese to Beijing in early November, after six years of roiled ties. And on Nov 13, the US upgraded its relationship with Indonesia, which is also courted by China.“And, of course, Singapore has done one of the best jobs of any country in navigating tensions between the US and China, maintaining strong relations with both,” he said.\\xa0“It shows that major countries in the region can maintain strong relations with both the Americans and the Chinese. That’s the way we want the world to emerge. We don’t want to be in a bloc-building environment.”  ',\n",
       "  'Title': 'Will the summit by the bay keep tensions at bay? Biden-Xi talks raise hopes',\n",
       "  'Date': '2023-11-16',\n",
       "  'Article_URL': 'https://www.straitstimes.com/world/united-states/biden-xi-talks-raise-hopes-but-will-the-summit-by-the-bay-keep-tensions-at-bay'},\n",
       " {'st_id': 'st_1158873',\n",
       "  'Text': 'WASHINGTON – Ambassadors to the United States from Singapore, Australia and France say they have moderate expectations of an anticipated summit in San Francisco between US President Joe Biden and his Chinese counterpart Xi Jinping, given that fundamental positions on both sides have not changed. The envoys were speaking in a rare on-record public discussion on US-China relations on Monday in Washington at the Council on Foreign Relations, a prominent think-tank.Both presidents are expected to meet on the sidelines of the Nov 11-17 Asia-Pacific Economic Cooperation summit in San Francisco. No details have been announced yet, however. The ambassadors – Mr Laurent Bili of France, Mr Lui Tuck Yew of Singapore and Dr Kevin Rudd of Australia – all served previously in China. Mr Lui has been Singapore’s Ambassador to the US since June. China and the US have been able to stabilise their relationship after a downward spiral, talking to each other rather than past each other, Mr Lui said. It is too much to hope, however, that just one meeting will lead to a “meeting of minds”, he added. He cited “mutual suspicion, intractable issues (and) an absence of strategic trust”, which meant “it will be some time before a sustained uptrend”.He noted as well that the relationship remains vulnerable to events like an alleged Chinese spy balloon that drifted over the US earlier in 2023, scuttling a trip to Beijing by Secretary of State Antony Blinken and plunging relations to a new low. Dr Rudd, a former prime minister of Australia and author of a book published in 2022, The Avoidable War: The Dangers Of A Catastrophic Conflict Between The US And Xi Jinping’s China, noted three underlying strategic realities.China has moved from the margins to the centre of global power, Mr Xi wants to change the status quo in “a direction more accommodating of Chinese interests and values”, and the US and its allies have chosen to resist that, he said. “We need to be realistic about these strategic underpinnings,” Dr Rudd added. “My judgment is that both countries and their leaders right now are seeking to stabilise the relationship – but stabilise it, not normalise it.”Beijing and Washington still view relations through different lenses, he said. “For China, the interest is to stabilise (the relationship) in a direction which... reopens more trade, more investment or access to capital markets, not just for the US but also with countries around the world including Europe,” he added. “In other words, to relieve some of the internal economic tension, which China now faces because of declining growth, because of difficulties in its own domestic economic model.”The US’ view of stabilisation is somewhat different, he contended. Washington has “embarked on a conscious campaign of economic derisking from China... whether it is critical minerals or semiconductors, but it does wish to resume military-to-military dialogue with the PLA (People’s Liberation Army) in order to reduce the risk of... war with China in the South China Sea or over the Taiwan Strait by accident”. “So I think they’re coming at it through different lenses. That’s why I think we will at best have modest outcomes from the upcoming proposed summit,” he said. Mr Bili said the US and China are trying to stabilise their relationship but huge differences remain, leaving potential for volatility. On the question of Taiwan, Mr Lui said: “The US has been proceeding very cautiously; I think they understand that for Taiwan, there is careful calibration of dual deterrence and dual assurance. You typically think of it as you need to deter China, you need to reassure Taiwan. The truth is that you do need in some way to quietly deter Taiwan not to shift further towards independence, and you do need to quietly reassure China that peaceful reunification is not out of the window.“So it’s a careful calibration of dual deterrence and dual reassurance, and I think the US is managing that quite well.”While there are concerns that the US has been moving away from “strategic ambiguity” – essentially leaving China guessing as to whether the US would intervene militarily if Beijing uses force to annex Taiwan – there are others who should be concerned whether China is running out of “strategic patience”, he added. “It is that strategic patience – that peaceful reunification in whatever form is within reach – that has helped to preserve the peace and stability of our part of the world,” he said.',\n",
       "  'Title': 'Moderate expectations from possible US-China summit, top diplomats in Washington say',\n",
       "  'Date': '2023-10-31',\n",
       "  'Article_URL': 'https://www.straitstimes.com/world/united-states/moderate-expectations-from-possible-us-china-summit-top-diplomats-in-washington-say'},\n",
       " {'st_id': 'st_1152470',\n",
       "  'Text': 'SINGAPORE – Ongoing efforts to stabilise the United States-China relationship – as evident in the recent spate of high-level visits between both sides – will continue, albeit in a “hesitant” manner, said panellists in a discussion on Wednesday on major power relations. But there is only a small window of opportunity for ties to stabilise further before the campaign rhetoric heats up ahead of the US presidential election on Nov 5, 2024, they added, during a session titled “Finding Balance amid Geopolitical Tensions”, which was held under the auspices of the Asia Future Summit 2023.The two-day summit, an inaugural collaboration between The Straits Times, Lianhe Zaobao and The Business Times, is an invitation-only event taking place on Wednesday and Thursday at The Ritz-Carlton, Millenia Singapore.The session was moderated by Singapore’s Ambassador-at-Large Chan Heng Chee.Professor Jia Qingguo, professor and former dean of the School of International Studies at Peking University, said there were two developments in 2022 that had a direct impact on bilateral ties – the US midterm elections in November and China’s 20th party congress in October.With the Republicans gaining control of the House of Representatives, it has become more difficult to pass legislation through Congress, and offer “new opportunities for him (President Joe Biden) to adjust US-China policy”, Prof Jia said. Meanwhile, China’s 20th party congress saw the installation of new leaders who now have to deliver on economic growth, for which a stable international environment and stable China-US relations are necessary, he added.“Current efforts to stabilise the relationship... are going to continue, are going to be hesitant, and probably slower than people like them to be. But then, the window of opportunity is going to be very short,” he said.Prof Jia explained that in March 2024, campaigning for the next US presidential election will be in full swing. “If history can tell us anything, whenever you have a presidential election, the candidates will compete on getting tough on China,” he noted.High-level meetings between both sides were said to have been suspended earlier in 2023, after an alleged Chinese spy balloon was found floating over the US.In June, US Secretary of State Antony Blinken met Chinese President Xi Jinping in Beijing. The visit, which was originally planned for February, had been postponed after the spy balloon incident. In September, both sides agreed to launch two new working groups on financial and economic matters. The working groups will be led by Treasury Secretary Janet Yellen and Chinese Vice-Premier He Lifeng.American and Chinese leaders are also reportedly paving the way for Mr Xi to visit the US.Another panellist, Mr Jon Huntsman, a former US ambassador to China, also highlighted that bilateral cooperation is often dependent on election cycles and major party meetings.He said: “I was always mindful of the calendar. What’s coming up in three months, what’s coming up in six months, what do we have a year from now? And where do we have an opening where we can actually sit down free and clear of some political constraints, and talk about the fundamentals of the relationship and how we might make (progress)?”Mr Huntsman, who also served as the US ambassador to Singapore and Russia, said China and the US need to better understand each other’s political systems and constraints. “By doing so, I think we can begin to identify areas of common ground,” he said. Prof Jia noted that in general, the Chinese public tends to take American campaign promises at face value and the country needs to better understand the nature of American politics.He said the US and China need to “take a more pragmatic approach in dealing with each other, especially to work together on concrete issues which clearly will have shared interest”.Mr Huntsman said that in the past, there have been high expectations of what can be achieved bilaterally.“In the past, we have been capable of big and ambitious things. In today’s world, I think we have to moderate that just a little bit. And we should be careful about the expectations that we build for one another.”Mr Huntsman expressed concern that the US was approaching ties with Beijing in a “dogmatic, ideologically-based” manner.“The more we lack a fundamental understanding of how the other side operates, the more we are likely to have misperceptions of one another, and bad calculations, so that translates into bad policy.”He added that both countries will need to get out of a cycle of “point scoring”, referring to the tendency of taking tit-for-tat retaliatory actions in response to perceived grievances.“There is the great balance sheet in the sky that both sides keep, and you never want to be outdone by the other without a proper response. This is a very difficult cycle... to get out of.” OCBC is the presenting sponsor for the Asia Future Summit 2023. The event is also supported by Guocoland and Kingsford Group.',\n",
       "  'Title': 'Efforts to stabilise US-China ties will continue amid small window of opportunity: Panellists',\n",
       "  'Date': '2023-10-04',\n",
       "  'Article_URL': 'https://www.straitstimes.com/asia/east-asia/efforts-to-stabilise-us-china-ties-will-continue-amid-small-window-of-opportunity-panellists'},\n",
       " {'st_id': 'st_1153604',\n",
       "  'Text': 'BEIJING – Chinese President Xi Jinping said on Monday that China-US ties would impact the “destiny of mankind”, as he met a group of American senators in Beijing.Senate Majority Leader Chuck Schumer, leading a six-person delegation, is the latest high-level American official to visit China as Washington seeks to ease tensions with Beijing.“How China and the United States get along with each other in the face of a world of change and turmoil will determine the future and destiny of mankind,” Mr Xi said as he met Mr Schumer in Beijing’s Great Hall of the People.“I have said many times, including to several presidents, that we have 1,000 reasons to improve China-US relations, but not one reason to ruin them,” Mr Xi said, adding that China-US ties are “the most important bilateral relationship in the world”.Mr Schumer, in turn, told him that “our countries, together, will shape this century”.“That is why we must manage our relationship responsibly and respectfully,” he added.Earlier China’s top diplomat, Mr Wang Yi, said he hoped Washington and Beijing could manage their differences “more rationally”.Meeting Mr Schumer at Beijing’s Diaoyutai State Guesthouse, Foreign Minister Wang told the senators that he hopes their visit will help the two sides “manage existing differences more rationally, helping the relationship between the two countries return to the track of healthy development”.Mr Wang also said he hopes that they will “more accurately understand China” after the trip, which he said comes as the world is in a “turbulent period of change”.“The crisis in Ukraine has not yet subsided, and warfare has re-emerged in the Middle East,” he said.“All these various challenges need to be addressed by the international community, and China and the United States should play their due roles.”Mr Schumer, in turn, thanked the Chinese delegation for its hospitality, noting that there are several issues of “great concern” he was seeking to raise during his visit.He said “a level playing field for American business and workers” is his delegation’s “No. 1 goal”.“Holding accountable China-based companies supplying deadly chemicals fuelling the fentanyl crisis in America” is another objective, he told Mr Wang, as is “ensuring China does not support Russia’s immoral war against Ukraine”.“Advancing human rights” is an additional priority, Mr Schumer said.Troubled timesBut he also said he was “very disappointed” by a Sunday statement from Beijing’s Foreign Ministry on the escalating violence between Israel and the Palestinians.Beijing called on Sunday for all sides to show “calm” and “cease fire immediately”.It did not explicitly condemn a Palestinian attack that has left hundreds in Israel dead, instead urging the establishment of a two-state solution to end the violence.“The ongoing events in Israel over the past few days are horrific,” Mr Schumer told Mr Wang.“I urge you and the Chinese people to stand with the Israeli people and condemn these cowardly and vicious attacks.“The Foreign Ministry’s statement... showed no sympathy or support for Israel during these tough, troubled times,” he added.In response to a question on Mr Schumer’s comments at a regular press briefing, ministry spokeswoman Mao Ning said China is “highly concerned about the escalation of conflict”.“We are very saddened by civilian casualties caused by the conflict,” she said. “We also oppose and condemn actions that harm civilians.”Mr Schumer reiterated his call for Beijing to support Israel in his meeting with Mr Xi, urging the Chinese leader to “stand with the Israeli people”.Senior meetingsOn Monday, Mr Schumer also met Mr Zhao Leji, the head of the standing committee of China’s rubber-stamp Parliament, the National People’s Congress.“As the two great powers, it is natural we find ourselves in competition in areas like trade, technology, diplomacy, and more,” he told Mr Zhao.“We welcome this competition,” Mr Schumer stressed. “We do not seek conflict.”Mr Schumer is the latest high-level US official to visit China as Washington seeks to ease tensions with Beijing, which have flared in recent years over everything from trade to human rights.Secretary of State Antony Blinken, Treasury Secretary Janet Yellen and Commerce Secretary Gina Raimondo, as well as climate envoy John Kerry, have all visited China in 2023.President Joe Biden on Friday said he may meet Mr Xi in San Francisco in November, but added that nothing has been scheduled yet.Mr Wang is expected to visit Washington ahead of the Asia-Pacific Economic Cooperation summit in November. AFP',\n",
       "  'Title': \"Xi tells American senators US-China relations impact 'destiny of mankind' \",\n",
       "  'Date': '2023-10-09',\n",
       "  'Article_URL': 'https://www.straitstimes.com/asia/xi-tells-top-senator-us-china-relations-impact-destiny-of-mankind'},\n",
       " {'st_id': 'st_1145085',\n",
       "  'Text': 'HANOI - The United States expects to elevate its diplomatic relations with former foe Vietnam to the top level as President Joe Biden travels to Hanoi in a week, a move that may irk China.Fearful of the potential reaction from its much larger neighbour, Vietnam had initially expressed caution about the upgrade. That led the Biden administration to multiply efforts to persuade the South-east Asian nation, including through multiple visits by high-ranking members of the US government in recent months.The unprecedented push has led Washington to expect to be elevated to the top tier of Vietnam’s diplomatic ranking, together with China and Russia, from two notches below.Mr Biden spoke publicly about it in July, and officials in both countries have since informally expressed optimism about the two-step upgrade, although no official statements have been released from either government.Perhaps seeking to assuage Beijing, Vietnam is discussing top-level visits to Hanoi after or even shortly before Mr Biden’s arrival on Sunday, with officials saying China’s President Xi Jinping or Premier Li Qiang could meet Vietnamese leaders in the coming days or weeks.China’s Foreign Ministry did not immediately respond to a request for comment on Monday.Risks that a double upgrade with Washington may not go down well in Beijing remain high, but Vietnam’s communist leaders may have calculated that the best timing for the move is now, as US relations with China are “likely to get worse in the future”, said Dr Le Hong Hiep, a senior fellow at Singapore’s ISEAS – Yusof Ishak Institute.“Vietnam’s economy badly needs a boost in capital, technology and market access,” said Dr Alexander Vuving of the Hawaii-based Inouye Asia-Pacific Centre for Security Studies, noting that that may have been a key reason for the possible upgrade.A boost in US military supplies to Hanoi has also long been discussed, but no immediate deal is expected as these talks take time, Dr Hiep said.Meanwhile, Vietnam is talking to several other countries to upgrade and expand its mostly Russian-made arsenal, and has recently engaged in multiple high-level defence meetings with top Russian officials.Supporting Vietnam’s ambitions to become a hub for the semiconductor industry is also part of Washington’s inducements, but public funds so far available under the Chips Act are very limited.The US may offer more, said Mr Vu Tu Thanh, head of the Vietnam office of the US-Asean Business Council.Energy is another sector where cooperation could increase as Vietnam prepares to become a player in liquefied natural gas and offshore wind, although administrative and funding delays are dampening the mood.The upgrade of relations is expected to boost US firms’ plans in Vietnam. Planemaker Boeing and energy firm AES may make announcements during Mr Biden’s visit, people familiar with the plans said.Boeing hopes to sell as many as 50 of its 737 Max jets during the visit, they said. The companies declined to comment.The US is already Vietnam’s largest market for its exports, and US Customs procedures could be eased to boost trade, said the US-Asean Business Council’s Mr Thanh. REUTERS',\n",
       "  'Title': 'US expects to upgrade Vietnam ties, risking China anger',\n",
       "  'Date': '2023-09-04',\n",
       "  'Article_URL': 'https://www.straitstimes.com/asia/se-asia/us-expects-to-upgrade-vietnam-ties-risks-china-anger'}]"
      ]
     },
     "execution_count": 31,
     "metadata": {},
     "output_type": "execute_result"
    }
   ],
   "source": [
    "cluster_df = df_train[df_train['Cluster_labels'] == assigned_cluster].reset_index(drop=True)\n",
    "cluster_info = []\n",
    "for index, row in cluster_df.iterrows():\n",
    "    indiv_row = {}\n",
    "    indiv_row['st_id'] = row['st_id']\n",
    "    indiv_row['Text'] = row['Text']\n",
    "    indiv_row['Title'] =  row['Title']   \n",
    "    indiv_row['Date'] = row['Publication_date']\n",
    "    indiv_row['Article_URL'] = row['article_url']\n",
    "    cluster_info.append(indiv_row)\n",
    "\n",
    "cluster_info"
   ]
  },
  {
   "cell_type": "code",
   "execution_count": 45,
   "metadata": {},
   "outputs": [
    {
     "data": {
      "text/plain": [
       "[('EU leaders to hold emergency virtual summit on Israel-Hamas conflict on Tuesday  ',\n",
       "  'What did the Chinese get out of Biden-Xi meeting?   '),\n",
       " ('EU leaders to hold emergency virtual summit on Israel-Hamas conflict on Tuesday  ',\n",
       "  'US believes China Defence Minister Li Shangfu is facing inquiry: Media'),\n",
       " ('EU leaders to hold emergency virtual summit on Israel-Hamas conflict on Tuesday  ',\n",
       "  'Biden says goal of Xi meeting is to resume US-China military communications'),\n",
       " ('EU leaders to hold emergency virtual summit on Israel-Hamas conflict on Tuesday  ',\n",
       "  'Chinese spy agency suggests that a Biden-Xi meeting hinges on ‘sincerity’  '),\n",
       " ('EU leaders to hold emergency virtual summit on Israel-Hamas conflict on Tuesday  ',\n",
       "  \"Russia's Putin says he will meet China's Xi soon\"),\n",
       " ('EU leaders to hold emergency virtual summit on Israel-Hamas conflict on Tuesday  ',\n",
       "  \"China's foreign minister suggests road to Xi-Biden summit will not be smooth\"),\n",
       " ('EU leaders to hold emergency virtual summit on Israel-Hamas conflict on Tuesday  ',\n",
       "  'US, Chinese military officials meet in Fiji in rare engagement '),\n",
       " ('EU leaders to hold emergency virtual summit on Israel-Hamas conflict on Tuesday  ',\n",
       "  'US Commerce chief Raimondo to meet Chinese counterpart Wang during Apec'),\n",
       " ('EU leaders to hold emergency virtual summit on Israel-Hamas conflict on Tuesday  ',\n",
       "  'What Xi got out of his meeting with Biden'),\n",
       " ('EU leaders to hold emergency virtual summit on Israel-Hamas conflict on Tuesday  ',\n",
       "  'China agrees to nuclear arms control talks with US: Report '),\n",
       " ('EU leaders to hold emergency virtual summit on Israel-Hamas conflict on Tuesday  ',\n",
       "  'Russia’s top diplomat Lavrov in China ahead of Putin visit'),\n",
       " ('EU leaders to hold emergency virtual summit on Israel-Hamas conflict on Tuesday  ',\n",
       "  'Vietnam elevates relations with US to highest diplomatic status    '),\n",
       " ('EU leaders to hold emergency virtual summit on Israel-Hamas conflict on Tuesday  ',\n",
       "  'China’s Xi Jinping stresses military unity after purging rocket force chiefs'),\n",
       " ('EU leaders to hold emergency virtual summit on Israel-Hamas conflict on Tuesday  ',\n",
       "  'Biden and Xi talk past each other in San Francisco'),\n",
       " ('EU leaders to hold emergency virtual summit on Israel-Hamas conflict on Tuesday  ',\n",
       "  \"US Treasury's Yellen to meet Chinese vice premier ahead of Apec summit\"),\n",
       " ('EU leaders to hold emergency virtual summit on Israel-Hamas conflict on Tuesday  ',\n",
       "  'Will the summit by the bay keep tensions at bay? Biden-Xi talks raise hopes'),\n",
       " ('EU leaders to hold emergency virtual summit on Israel-Hamas conflict on Tuesday  ',\n",
       "  'Moderate expectations from possible US-China summit, top diplomats in Washington say'),\n",
       " ('EU leaders to hold emergency virtual summit on Israel-Hamas conflict on Tuesday  ',\n",
       "  'Efforts to stabilise US-China ties will continue amid small window of opportunity: Panellists'),\n",
       " ('EU leaders to hold emergency virtual summit on Israel-Hamas conflict on Tuesday  ',\n",
       "  \"Xi tells American senators US-China relations impact 'destiny of mankind' \"),\n",
       " ('EU leaders to hold emergency virtual summit on Israel-Hamas conflict on Tuesday  ',\n",
       "  'US expects to upgrade Vietnam ties, risking China anger')]"
      ]
     },
     "execution_count": 45,
     "metadata": {},
     "output_type": "execute_result"
    }
   ],
   "source": [
    "unranked_docs = [(test_article_text, doc['Title']) for doc in cluster_info]\n",
    "unranked_docs"
   ]
  },
  {
   "cell_type": "code",
   "execution_count": 44,
   "metadata": {},
   "outputs": [
    {
     "data": {
      "text/plain": [
       "[-9.926582336425781,\n",
       " -10.230405807495117,\n",
       " -5.618704795837402,\n",
       " -8.278602600097656,\n",
       " -9.269566535949707,\n",
       " -8.843465805053711,\n",
       " -9.99303150177002,\n",
       " -10.803827285766602,\n",
       " -9.592066764831543,\n",
       " -9.518911361694336,\n",
       " -5.9956769943237305,\n",
       " -10.054788589477539,\n",
       " -10.272154808044434,\n",
       " -9.409685134887695,\n",
       " -10.154348373413086,\n",
       " -6.349365234375,\n",
       " -8.703747749328613,\n",
       " -8.784934043884277,\n",
       " -10.058443069458008,\n",
       " -10.273035049438477]"
      ]
     },
     "execution_count": 44,
     "metadata": {},
     "output_type": "execute_result"
    }
   ],
   "source": [
    "# Get the scores\n",
    "scores = cross_encoder.predict(unranked_docs).tolist()\n",
    "scores\n",
    "# for i in range(len(cluster_info)):\n",
    "#     # Criteria that it has to be positive relationship between the timeline header and the article\n",
    "#     if scores[i]>0:\n",
    "#         cluster_info[i]['reranked_score'] = scores[i]\n",
    "# cluster_info"
   ]
  },
  {
   "cell_type": "code",
   "execution_count": null,
   "metadata": {},
   "outputs": [],
   "source": []
  },
  {
   "cell_type": "code",
   "execution_count": 1,
   "metadata": {},
   "outputs": [
    {
     "ename": "NameError",
     "evalue": "name 'load_dotenv' is not defined",
     "output_type": "error",
     "traceback": [
      "\u001b[0;31m---------------------------------------------------------------------------\u001b[0m",
      "\u001b[0;31mNameError\u001b[0m                                 Traceback (most recent call last)",
      "Cell \u001b[0;32mIn[1], line 9\u001b[0m\n\u001b[1;32m      7\u001b[0m \u001b[38;5;28;01mfrom\u001b[39;00m \u001b[38;5;21;01mlangchain_core\u001b[39;00m\u001b[38;5;21;01m.\u001b[39;00m\u001b[38;5;21;01mprompts\u001b[39;00m \u001b[38;5;28;01mimport\u001b[39;00m PromptTemplate\n\u001b[1;32m      8\u001b[0m chat_model \u001b[38;5;241m=\u001b[39m \u001b[38;5;124m\"\u001b[39m\u001b[38;5;124mllama3-8b-8192\u001b[39m\u001b[38;5;124m\"\u001b[39m\n\u001b[0;32m----> 9\u001b[0m \u001b[43mload_dotenv\u001b[49m()\n\u001b[1;32m     10\u001b[0m groq_api_key \u001b[38;5;241m=\u001b[39m os\u001b[38;5;241m.\u001b[39mgetenv(\u001b[38;5;124m'\u001b[39m\u001b[38;5;124mGROQ_API_KEY\u001b[39m\u001b[38;5;124m'\u001b[39m)\n\u001b[1;32m     11\u001b[0m \u001b[38;5;28;01mdef\u001b[39;00m \u001b[38;5;21mgroq_event\u001b[39m(title, text):\n\u001b[1;32m     12\u001b[0m     \u001b[38;5;66;03m# Define your desired data structure.\u001b[39;00m\n\u001b[1;32m     13\u001b[0m     \u001b[38;5;66;03m# class summarized_event(BaseModel):\u001b[39;00m\n\u001b[1;32m     14\u001b[0m     \u001b[38;5;66;03m#     main_event: str = Field(description=\"Main event of the article\")\u001b[39;00m\n\u001b[1;32m     15\u001b[0m     \n\u001b[1;32m     16\u001b[0m     \u001b[38;5;66;03m# parser = JsonOutputParser(pydantic_object=summarized_event)\u001b[39;00m\n",
      "\u001b[0;31mNameError\u001b[0m: name 'load_dotenv' is not defined"
     ]
    }
   ],
   "source": [
    "# Groq to generate main event for each article\n",
    "import re\n",
    "import json\n",
    "from langchain_core.output_parsers import JsonOutputParser\n",
    "from langchain_core.pydantic_v1 import BaseModel, Field\n",
    "from langchain_groq import ChatGroq\n",
    "from langchain_core.prompts import PromptTemplate\n",
    "chat_model = \"llama3-8b-8192\"\n",
    "load_dotenv()\n",
    "groq_api_key = os.getenv('GROQ_API_KEY')\n",
    "def groq_event(title, text):\n",
    "    # Define your desired data structure.\n",
    "    # class summarized_event(BaseModel):\n",
    "    #     main_event: str = Field(description=\"Main event of the article\")\n",
    "    \n",
    "    # parser = JsonOutputParser(pydantic_object=summarized_event)\n",
    "\n",
    "    chat = ChatGroq(temperature=0, model_name=chat_model)\n",
    "    \n",
    "    template = '''\n",
    "You are a news article editor. Describe the main event of the article below in one short sentence.\n",
    "\n",
    "Article Title:\n",
    "{title}\n",
    "Article Text:\n",
    "{text}\n",
    "\n",
    "Answer Format example:\n",
    "{{\"main_event\": \"Israel-Hamas Conflict and Gaza Crisis\"}}\n",
    "{{\"main_event\": \"Tennis players throw rackets\"}}\n",
    "\n",
    "Before you return the answer, ensure and double check that you have adhered the answer format instructions strictly.\n",
    "'''\n",
    "    prompt = PromptTemplate(\n",
    "        template=template,\n",
    "        input_variables=[\"text\"],\n",
    "    )\n",
    "    \n",
    "    chain = prompt | chat \n",
    "    result = chain.invoke({\"title\": title, \"text\": text}).content\n",
    "    result = json.loads(result)\n",
    "    return result['main_event']\n",
    "event = groq_event(s)\n",
    "event"
   ]
  },
  {
   "cell_type": "code",
   "execution_count": 20,
   "metadata": {},
   "outputs": [
    {
     "data": {
      "text/plain": [
       "'EU leaders to hold emergency virtual summit on Israel-Hamas conflict on Tuesday  '"
      ]
     },
     "execution_count": 20,
     "metadata": {},
     "output_type": "execute_result"
    }
   ],
   "source": [
    "cluster_df['Title'][0]"
   ]
  },
  {
   "cell_type": "markdown",
   "metadata": {},
   "source": [
    "## CONTINUE HERE:\n",
    "- Feed test article and custer article bodies into the re ranker. \n",
    "- Filter out for top_k = 12, and similarity score of >0\n",
    "- Extract events from the individual article using Gemini\n",
    "- Process article for timeline display."
   ]
  },
  {
   "cell_type": "code",
   "execution_count": null,
   "metadata": {},
   "outputs": [],
   "source": []
  },
  {
   "cell_type": "code",
   "execution_count": null,
   "metadata": {},
   "outputs": [],
   "source": []
  },
  {
   "cell_type": "code",
   "execution_count": null,
   "metadata": {},
   "outputs": [],
   "source": []
  },
  {
   "cell_type": "code",
   "execution_count": 1,
   "metadata": {},
   "outputs": [
    {
     "ename": "NameError",
     "evalue": "name 'df_train' is not defined",
     "output_type": "error",
     "traceback": [
      "\u001b[0;31m---------------------------------------------------------------------------\u001b[0m",
      "\u001b[0;31mNameError\u001b[0m                                 Traceback (most recent call last)",
      "Cell \u001b[0;32mIn[1], line 2\u001b[0m\n\u001b[1;32m      1\u001b[0m \u001b[38;5;66;03m# Display the titles so that we can parse it into the re ranker and then get the top result\u001b[39;00m\n\u001b[0;32m----> 2\u001b[0m unranked_titles \u001b[38;5;241m=\u001b[39m \u001b[43mdf_train\u001b[49m\u001b[38;5;241m.\u001b[39mloc[df_indexes[\u001b[38;5;241m0\u001b[39m]][\u001b[38;5;124m'\u001b[39m\u001b[38;5;124mText\u001b[39m\u001b[38;5;124m'\u001b[39m]\u001b[38;5;241m.\u001b[39mvalues\u001b[38;5;241m.\u001b[39mtolist()\n\u001b[1;32m      3\u001b[0m unranked_titles\n",
      "\u001b[0;31mNameError\u001b[0m: name 'df_train' is not defined"
     ]
    }
   ],
   "source": [
    "# Display the titles so that we can parse it into the re ranker and then get the top result\n",
    "unranked_titles = df_train.loc[df_indexes[0]]['Text'].values.tolist()\n",
    "unranked_titles"
   ]
  },
  {
   "cell_type": "code",
   "execution_count": 116,
   "metadata": {},
   "outputs": [
    {
     "data": {
      "text/plain": [
       "'BRUSSELS - European Council president Charles Michel said on Saturday that he had convened a video conference summit of European Union leaders on Tuesday to discuss the Hamas attacks on Israelis and Israel’s response.Mr Michel said the bloc stood in “full solidarity” with the people of Israel after the “brutal terrorist attacks” of a week ago.In an invitation letter to EU leaders, Mr Michel said Israel had the right to defend itself in compliance with international law.He said the siege of the Gaza Strip was raising alarm bells in the international community, prompting him to convene a video conference meeting on Tuesday at 5.30pm Central European Time (11.30pm Singapore time).“It is of utmost importance that the European Council, in line with the treaties and our values, sets our common position and establishes a clear unified course of action that reflects the complexity of the unfolding situation,” he wrote.Mr Michel said the EU had to be an advocate of peace and respect for international law and should seek to avoid a regional escalation of the situation.He added that the conflict had the potential to feed extremism in EU societies and could prompt migration and movements of a large number of people to neighbouring countries. REUTERS'"
      ]
     },
     "execution_count": 116,
     "metadata": {},
     "output_type": "execute_result"
    }
   ],
   "source": [
    "test_title = df_test.iloc[test_article_index].Text\n",
    "test_title"
   ]
  },
  {
   "cell_type": "code",
   "execution_count": 101,
   "metadata": {},
   "outputs": [
    {
     "name": "stderr",
     "output_type": "stream",
     "text": [
      "/Users/jerryyang/pythonenv/py310/lib/python3.10/site-packages/huggingface_hub/file_download.py:1132: FutureWarning: `resume_download` is deprecated and will be removed in version 1.0.0. Downloads always resume when possible. If you want to force a new download, use `force_download=True`.\n",
      "  warnings.warn(\n"
     ]
    }
   ],
   "source": [
    "# load the desired cross encoder model\n",
    "from sentence_transformers import CrossEncoder\n",
    "\n",
    "model_name = \"cross-encoder/ms-marco-TinyBERT-L-2-v2\"\n",
    "cross_encoder = CrossEncoder(\n",
    "    model_name, max_length=512, device=\"cpu\"\n",
    ")"
   ]
  },
  {
   "cell_type": "code",
   "execution_count": 117,
   "metadata": {},
   "outputs": [
    {
     "data": {
      "text/plain": [
       "[('BRUSSELS - European Council president Charles Michel said on Saturday that he had convened a video conference summit of European Union leaders on Tuesday to discuss the Hamas attacks on Israelis and Israel’s response.Mr Michel said the bloc stood in “full solidarity” with the people of Israel after the “brutal terrorist attacks” of a week ago.In an invitation letter to EU leaders, Mr Michel said Israel had the right to defend itself in compliance with international law.He said the siege of the Gaza Strip was raising alarm bells in the international community, prompting him to convene a video conference meeting on Tuesday at 5.30pm Central European Time (11.30pm Singapore time).“It is of utmost importance that the European Council, in line with the treaties and our values, sets our common position and establishes a clear unified course of action that reflects the complexity of the unfolding situation,” he wrote.Mr Michel said the EU had to be an advocate of peace and respect for international law and should seek to avoid a regional escalation of the situation.He added that the conflict had the potential to feed extremism in EU societies and could prompt migration and movements of a large number of people to neighbouring countries. REUTERS',\n",
       "  'Synopsis: Every fourth Friday of the month, The Straits Times’ US bureau chief Nirmal Ghosh presents an Asian perspective of the biggest global talking points with expert guests.The East Asia Summit in Jakarta, and the G20 in\\xa0New Delhi,\\xa0broadly solidified\\xa0US relations in the region, but it is the bilaterals with India and Vietnam that really\\xa0mattered.\\xa0The US was represented in Jakarta by Vice-President Kamala Harris. But the G20 saw President Joe Biden attending and supporting Indian Prime Minister Narendra Modi’s\\xa0moment as\\xa0global statesman\\xa0in his role as\\xa0chair of the\\xa0grouping.\\xa0In\\xa0contrast, China’s President Xi Jinping was absent.New Delhi also saw a reiteration of the increasingly close US-India relationship.Of equal significance perhaps in terms of competition with China, was President Biden’s trip to Hanoi, Vietnam, where the two countries formally elevated their relationship.\\xa0To unpack the significance of these meetings, ST’s US bureau chief Nirmal Ghosh hosts two guests in this episode:1. Ambassador Scot Marciel, the former US diplomat to Myanmar, Indonesia and Asean,\\xa0who is now a senior advisor at Bower Group Asia2. Dr Lynn Kuok, Shangri-La Dialogue senior fellow for Asia-Pacific security at the International Institute for Strategic StudiesHighlights (click/tap above):3:40 Why the G20 cemented India’s image as a global diplomatic and strategic player5:26 Why the so-called “double upgrade” of the US-Vietnam relationship is significant6:18 Why Asean’s and the world’s approach to Myanmar has been flawed11:08 Why the US focus should be a lot less on talking to South-east Asia about China, as the region already knows China well14:35 Do US administrations really understand South-east Asia well enough and how to engage the region? Why Asean meetings are “not often satisfying” in terms of substanceFollow Asian Insider with Nirmal Ghosh every fourth Friday of the month here:Channel: https://str.sg/JWa7Apple Podcasts: https://str.sg/JWa8Google Podcasts: https://str.sg/wQsBSpotify: https://str.sg/JWaXWebsite: http://str.sg/stpodcastsFeedback to: podcast@sph.com.sgFollow Nirmal Ghosh on X: https://str.sg/JD7rRead Nirmal Ghosh’s articles: https://str.sg/JbxGRegister for Asian Insider newsletter: https://str.sg/stnewsletters---Discover more ST podcast channels:COE Watch: https://str.sg/iTtEIn Your Opinion: https://str.sg/w7QtAsian Insider: https://str.sg/JWa7Health Check: https://str.sg/JWaNGreen Pulse: https://str.sg/JWafYour Money & Career: https://str.sg/wB2mST Sports Talk: https://str.sg/JWRE#PopVultures: https://str.sg/JWadMusic Lab: https://str.sg/w9TXDiscover ST Podcasts: http://str.sg/stpodcasts---Special edition series:The Unsolved Mysteries of South-east Asia (5 eps): https://str.sg/wuZ2Invisible Asia (9 eps): https://str.sg/wuZnStop Scams (10 eps): https://str.sg/wuZBSingapore’s War On Covid (5 eps): https://str.sg/wuJa---Follow our shows then, if you like short, practical podcasts!'),\n",
       " ('BRUSSELS - European Council president Charles Michel said on Saturday that he had convened a video conference summit of European Union leaders on Tuesday to discuss the Hamas attacks on Israelis and Israel’s response.Mr Michel said the bloc stood in “full solidarity” with the people of Israel after the “brutal terrorist attacks” of a week ago.In an invitation letter to EU leaders, Mr Michel said Israel had the right to defend itself in compliance with international law.He said the siege of the Gaza Strip was raising alarm bells in the international community, prompting him to convene a video conference meeting on Tuesday at 5.30pm Central European Time (11.30pm Singapore time).“It is of utmost importance that the European Council, in line with the treaties and our values, sets our common position and establishes a clear unified course of action that reflects the complexity of the unfolding situation,” he wrote.Mr Michel said the EU had to be an advocate of peace and respect for international law and should seek to avoid a regional escalation of the situation.He added that the conflict had the potential to feed extremism in EU societies and could prompt migration and movements of a large number of people to neighbouring countries. REUTERS',\n",
       "  'ABOARD AIR FORCE ONE - US President Joe Biden said on Tuesday his goal during talks with Chinese President Xi Jinping this week is to resume normal communications between the two superpowers, including military-to-military contacts.Speaking to reporters at the White House before departing for San Francisco, Mr Biden said he is trying to alter the US relationship with China for the better, after a period of strained ties.Mr Biden and Mr Xi are to meet on Wednesday in the San Francisco area during the Asia-Pacific Economic Cooperation summit. It will be only the second in-person meeting between the two leaders since Mr Biden took office in January 2021.Asked how he would measure success at the talks with Mr Xi, Mr Biden said:“To get back on a normal course, corresponding and being able to pick up the phone and talk to one another in a crisis, and being able to make sure that our militaries still have contact with one another.”Aboard Air Force One en route to San Francisco, White House national security spokesman John Kirby told reporters Mr Biden and Mr Xi would also talk about the Israel-Hamas conflict in Gaza as well as US efforts to support Ukraine in its battle to repel Russian invaders.“They can be frank and forthright with one another, I fully expect that that will be the case,” Mr Kirby said.He said Mr Biden is “not going to be afraid to confront where confrontation is needed on certain issues where we don’t see eye-to-eye” but also will look for areas to cooperate on such as climate change.Economic issues figured to be high on the agenda.Mr Biden said the United States does not want to decouple from China but wants to change the economic relationship for the better.He said it would benefit all if the average citizen in China had a decent-paying job.“But I’m not going to continue to sustain support for a position where in order to invest in China, we have to turn over all our trade secrets,” he said.The Chinese severed military-to-military contacts with the United States in a fit of pique after then-House of Representatives Speaker Nancy Pelosi visited Taiwan in August 2022.Restoring the contacts is a top US goal to avoid miscalculations between the two militaries.Relations between the two countries grew frosty after Mr Biden ordered the shooting down in February of a suspected Chinese spy balloon that flew over the United States.But top Biden administration officials have since visited Beijing and met with their counterparts to rebuild communications and trust.\\xa0REUTERS'),\n",
       " ('BRUSSELS - European Council president Charles Michel said on Saturday that he had convened a video conference summit of European Union leaders on Tuesday to discuss the Hamas attacks on Israelis and Israel’s response.Mr Michel said the bloc stood in “full solidarity” with the people of Israel after the “brutal terrorist attacks” of a week ago.In an invitation letter to EU leaders, Mr Michel said Israel had the right to defend itself in compliance with international law.He said the siege of the Gaza Strip was raising alarm bells in the international community, prompting him to convene a video conference meeting on Tuesday at 5.30pm Central European Time (11.30pm Singapore time).“It is of utmost importance that the European Council, in line with the treaties and our values, sets our common position and establishes a clear unified course of action that reflects the complexity of the unfolding situation,” he wrote.Mr Michel said the EU had to be an advocate of peace and respect for international law and should seek to avoid a regional escalation of the situation.He added that the conflict had the potential to feed extremism in EU societies and could prompt migration and movements of a large number of people to neighbouring countries. REUTERS',\n",
       "  'BEIJING - China’s\\xa0top security agency has hinted that any meeting between President Xi Jinping and US President Joe Biden in San Francisco later in 2023 will depend on the United States “showing enough sincerity”.Mr Biden on Sunday expressed disappointment that Mr Xi was not attending an upcoming summit of Group of 20 (G-20) leaders in India, but added that he was going to “get to see him”. Mr Biden did not elaborate, but the next likely opportunity for him to hold talks with Mr Xi, as the two countries seek to stabilise troubled relations, is an Asia-Pacific Economic Cooperation (Apec) summit in San Francisco in November.“To truly realise ‘from Bali to San Francisco’, the United States needs to show enough sincerity”, the Ministry of State Security said in a post on Monday on its WeChat social media page.It was referring to the last meeting between Mr Biden and Mr Xi, on the sidelines of a G-20 summit on Indonesia’s resort island of Bali in November 2022. It did not mention the Apec summit in its post.It is unclear if the ministry, which is China’s\\xa0main intelligence agency, is privy to, or has influence over, Mr Xi’s\\xa0considerations on diplomatic engagements.Premier Li Qiang will lead a delegation to a G-20 summit in New Delhi this weekend, the Chinese government has announced, all but confirming that Mr Xi would not attend. The ministry in its post said Mr Biden’s\\xa0administration had adopted a dual-natured strategy towards Beijing, inviting competition with China but also wanting to control the competition.It said that while US officials who visited China recently said there was no intention to curb China’s development or “decouple”, the US still approved arms sales and provided military financing to Taiwan, and raised issues about Tibet and the South China Sea as well as openly criticised the Chinese economy.“China will never let its guard down because of a few ‘nice words’ from the United States… The various obstacles, containment and suppression by the United States will only make China more courageous and self-reliant,” it added.US Commerce Secretary Gina Raimondo, who visited China last week, said the US did not want to decouple from China but she also said US companies had complained to her that China has become “uninvestable”, pointing to fines, raids and other actions that have made it risky to do business in the world’s second-largest economy. China repeated calls for the US to take more “practical and beneficial actions” to maintain China-US ties after the “uninvestable” comment was reported. REUTERS'),\n",
       " ('BRUSSELS - European Council president Charles Michel said on Saturday that he had convened a video conference summit of European Union leaders on Tuesday to discuss the Hamas attacks on Israelis and Israel’s response.Mr Michel said the bloc stood in “full solidarity” with the people of Israel after the “brutal terrorist attacks” of a week ago.In an invitation letter to EU leaders, Mr Michel said Israel had the right to defend itself in compliance with international law.He said the siege of the Gaza Strip was raising alarm bells in the international community, prompting him to convene a video conference meeting on Tuesday at 5.30pm Central European Time (11.30pm Singapore time).“It is of utmost importance that the European Council, in line with the treaties and our values, sets our common position and establishes a clear unified course of action that reflects the complexity of the unfolding situation,” he wrote.Mr Michel said the EU had to be an advocate of peace and respect for international law and should seek to avoid a regional escalation of the situation.He added that the conflict had the potential to feed extremism in EU societies and could prompt migration and movements of a large number of people to neighbouring countries. REUTERS',\n",
       "  'WASHINGTON - US Secretary of State Antony Blinken will travel to Japan, South Korea and India after his latest crisis visit to the Middle East, the State Department said on Wednesday, keeping a US focus on Asia. On the three stops next week, Mr Blinken will “advance collaborative efforts to support a free and open Indo-Pacific region that is prosperous, secure, connected and resilient”, State Department spokesman Matthew Miller said. The trip will come after Mr Blinken’s latest trip on Friday to Israel, which has been pounding Hamas after the militants launched a massive Oct 7 assault inside Israel. Mr Blinken will also travel to Jordan, the second Arab state to make peace with Israel. Jordan on Wednesday withdrew its ambassador from its neighbour in protest against the war.The Middle East crisis as well as the Ukraine war are also expected to figure in Mr Blinken’s trip to Japan, which is for a meeting of foreign ministers of the Group of Seven industrialised democracies.The State Department said Mr Blinken will meet Japanese Prime Minister Fumio Kishida in Japan and South Korean President Yoon Suk-yeol later in South Korea.South Korea previously announced Mr Blinken’s stop in Seoul, where he is set to discuss long-simmering tensions with North Korea.Defence Secretary Lloyd Austin will travel to India to join Mr Blinken for the annual “two-plus-two” talks, which follow a state visit by Indian Prime Minister Narendra Modi to the United States aimed at building a fast-growing partnership.President Joe Biden’s administration has prioritised relations with India, seeing a like-minded partner faced with the rise of China, but Mr Blinken’s trip could be made awkward by a bitter feud between India and another close US partner – Canada.Prime Minister Justin Trudeau in September publicly linked Indian intelligence to the killing near Vancouver of a Canadian citizen who advocated a separate Sikh state carved out of India.Mr Blinken has called on India to cooperate in the Canadian probe, and the State Department voiced concern over Indian moves that led Canada to pull its diplomats out of India. AFP                                    '),\n",
       " ('BRUSSELS - European Council president Charles Michel said on Saturday that he had convened a video conference summit of European Union leaders on Tuesday to discuss the Hamas attacks on Israelis and Israel’s response.Mr Michel said the bloc stood in “full solidarity” with the people of Israel after the “brutal terrorist attacks” of a week ago.In an invitation letter to EU leaders, Mr Michel said Israel had the right to defend itself in compliance with international law.He said the siege of the Gaza Strip was raising alarm bells in the international community, prompting him to convene a video conference meeting on Tuesday at 5.30pm Central European Time (11.30pm Singapore time).“It is of utmost importance that the European Council, in line with the treaties and our values, sets our common position and establishes a clear unified course of action that reflects the complexity of the unfolding situation,” he wrote.Mr Michel said the EU had to be an advocate of peace and respect for international law and should seek to avoid a regional escalation of the situation.He added that the conflict had the potential to feed extremism in EU societies and could prompt migration and movements of a large number of people to neighbouring countries. REUTERS',\n",
       "  'BEIJING  -China\\'s Foreign Minister Wang Yi said the \"road to the San Francisco summit will not be a smooth one\", the foreign ministry said on Sunday, in a reference to an expected meeting between President Xi Jinping and U.S. President Joe Biden.Wang met Biden and his top aides in Washington in recent days, agreeing to work together toward the expected bilateral meeting on the sidelines of an Asia-Pacific Economic Cooperation forum summit.A flurry of bilateral diplomatic engagements in recent months, largely at U.S. request, has aimed at salvaging what were rapidly deteriorating ties early in the year following the U.S. downing of an alleged Chinese spy balloon.But in remarks on Saturday, Wang cautioned the road to the summit would not be a smooth one and travelling there would not be on \"autopilot\", the ministry said in a statement.He was speaking after a discussion with members of the U.S. strategic community in Washington, the ministry said.Last month, China\\'s top security agency suggested any Xi-Biden meeting in San Francisco hinged on the U.S. \"showing sufficient sincerity\".Wang said China and the U.S. needed to \"return to Bali\", referring to the last meeting between Biden and Xi, on the sidelines of a Group of 20 summit on the Indonesian resort island last November, where they discussed Taiwan, competition and communication.Washington and Beijing must put into practice the consensus achieved then, \"remove interference, overcome obstacles, enhance consensus and gather outcomes\", Wang said.He said both sides have jointly sent out positive signals to stabilise and improve relations, believing it is useful and necessary to maintain dialogue even as there are still various differences and contradictions, and issues to be resolved.Saturday\\'s discussions also included in-depth exchanges on the interaction between China and U.S. militaries, finance, science and technology, China\\'s investment environment and market access, as well as the Middle East and Ukraine crises. REUTERS')]"
      ]
     },
     "execution_count": 117,
     "metadata": {},
     "output_type": "execute_result"
    }
   ],
   "source": [
    "unranked_docs = [(test_title, doc)for doc in unranked_titles]\n",
    "unranked_docs"
   ]
  },
  {
   "cell_type": "code",
   "execution_count": 118,
   "metadata": {},
   "outputs": [
    {
     "data": {
      "text/plain": [
       "['ABOARD AIR FORCE ONE - US President Joe Biden said on Tuesday his goal during talks with Chinese President Xi Jinping this week is to resume normal communications between the two superpowers, including military-to-military contacts.Speaking to reporters at the White House before departing for San Francisco, Mr Biden said he is trying to alter the US relationship with China for the better, after a period of strained ties.Mr Biden and Mr Xi are to meet on Wednesday in the San Francisco area during the Asia-Pacific Economic Cooperation summit. It will be only the second in-person meeting between the two leaders since Mr Biden took office in January 2021.Asked how he would measure success at the talks with Mr Xi, Mr Biden said:“To get back on a normal course, corresponding and being able to pick up the phone and talk to one another in a crisis, and being able to make sure that our militaries still have contact with one another.”Aboard Air Force One en route to San Francisco, White House national security spokesman John Kirby told reporters Mr Biden and Mr Xi would also talk about the Israel-Hamas conflict in Gaza as well as US efforts to support Ukraine in its battle to repel Russian invaders.“They can be frank and forthright with one another, I fully expect that that will be the case,” Mr Kirby said.He said Mr Biden is “not going to be afraid to confront where confrontation is needed on certain issues where we don’t see eye-to-eye” but also will look for areas to cooperate on such as climate change.Economic issues figured to be high on the agenda.Mr Biden said the United States does not want to decouple from China but wants to change the economic relationship for the better.He said it would benefit all if the average citizen in China had a decent-paying job.“But I’m not going to continue to sustain support for a position where in order to invest in China, we have to turn over all our trade secrets,” he said.The Chinese severed military-to-military contacts with the United States in a fit of pique after then-House of Representatives Speaker Nancy Pelosi visited Taiwan in August 2022.Restoring the contacts is a top US goal to avoid miscalculations between the two militaries.Relations between the two countries grew frosty after Mr Biden ordered the shooting down in February of a suspected Chinese spy balloon that flew over the United States.But top Biden administration officials have since visited Beijing and met with their counterparts to rebuild communications and trust.\\xa0REUTERS',\n",
       " 'WASHINGTON - US Secretary of State Antony Blinken will travel to Japan, South Korea and India after his latest crisis visit to the Middle East, the State Department said on Wednesday, keeping a US focus on Asia. On the three stops next week, Mr Blinken will “advance collaborative efforts to support a free and open Indo-Pacific region that is prosperous, secure, connected and resilient”, State Department spokesman Matthew Miller said. The trip will come after Mr Blinken’s latest trip on Friday to Israel, which has been pounding Hamas after the militants launched a massive Oct 7 assault inside Israel. Mr Blinken will also travel to Jordan, the second Arab state to make peace with Israel. Jordan on Wednesday withdrew its ambassador from its neighbour in protest against the war.The Middle East crisis as well as the Ukraine war are also expected to figure in Mr Blinken’s trip to Japan, which is for a meeting of foreign ministers of the Group of Seven industrialised democracies.The State Department said Mr Blinken will meet Japanese Prime Minister Fumio Kishida in Japan and South Korean President Yoon Suk-yeol later in South Korea.South Korea previously announced Mr Blinken’s stop in Seoul, where he is set to discuss long-simmering tensions with North Korea.Defence Secretary Lloyd Austin will travel to India to join Mr Blinken for the annual “two-plus-two” talks, which follow a state visit by Indian Prime Minister Narendra Modi to the United States aimed at building a fast-growing partnership.President Joe Biden’s administration has prioritised relations with India, seeing a like-minded partner faced with the rise of China, but Mr Blinken’s trip could be made awkward by a bitter feud between India and another close US partner – Canada.Prime Minister Justin Trudeau in September publicly linked Indian intelligence to the killing near Vancouver of a Canadian citizen who advocated a separate Sikh state carved out of India.Mr Blinken has called on India to cooperate in the Canadian probe, and the State Department voiced concern over Indian moves that led Canada to pull its diplomats out of India. AFP                                    ',\n",
       " 'BEIJING - China’s\\xa0top security agency has hinted that any meeting between President Xi Jinping and US President Joe Biden in San Francisco later in 2023 will depend on the United States “showing enough sincerity”.Mr Biden on Sunday expressed disappointment that Mr Xi was not attending an upcoming summit of Group of 20 (G-20) leaders in India, but added that he was going to “get to see him”. Mr Biden did not elaborate, but the next likely opportunity for him to hold talks with Mr Xi, as the two countries seek to stabilise troubled relations, is an Asia-Pacific Economic Cooperation (Apec) summit in San Francisco in November.“To truly realise ‘from Bali to San Francisco’, the United States needs to show enough sincerity”, the Ministry of State Security said in a post on Monday on its WeChat social media page.It was referring to the last meeting between Mr Biden and Mr Xi, on the sidelines of a G-20 summit on Indonesia’s resort island of Bali in November 2022. It did not mention the Apec summit in its post.It is unclear if the ministry, which is China’s\\xa0main intelligence agency, is privy to, or has influence over, Mr Xi’s\\xa0considerations on diplomatic engagements.Premier Li Qiang will lead a delegation to a G-20 summit in New Delhi this weekend, the Chinese government has announced, all but confirming that Mr Xi would not attend. The ministry in its post said Mr Biden’s\\xa0administration had adopted a dual-natured strategy towards Beijing, inviting competition with China but also wanting to control the competition.It said that while US officials who visited China recently said there was no intention to curb China’s development or “decouple”, the US still approved arms sales and provided military financing to Taiwan, and raised issues about Tibet and the South China Sea as well as openly criticised the Chinese economy.“China will never let its guard down because of a few ‘nice words’ from the United States… The various obstacles, containment and suppression by the United States will only make China more courageous and self-reliant,” it added.US Commerce Secretary Gina Raimondo, who visited China last week, said the US did not want to decouple from China but she also said US companies had complained to her that China has become “uninvestable”, pointing to fines, raids and other actions that have made it risky to do business in the world’s second-largest economy. China repeated calls for the US to take more “practical and beneficial actions” to maintain China-US ties after the “uninvestable” comment was reported. REUTERS',\n",
       " 'BEIJING  -China\\'s Foreign Minister Wang Yi said the \"road to the San Francisco summit will not be a smooth one\", the foreign ministry said on Sunday, in a reference to an expected meeting between President Xi Jinping and U.S. President Joe Biden.Wang met Biden and his top aides in Washington in recent days, agreeing to work together toward the expected bilateral meeting on the sidelines of an Asia-Pacific Economic Cooperation forum summit.A flurry of bilateral diplomatic engagements in recent months, largely at U.S. request, has aimed at salvaging what were rapidly deteriorating ties early in the year following the U.S. downing of an alleged Chinese spy balloon.But in remarks on Saturday, Wang cautioned the road to the summit would not be a smooth one and travelling there would not be on \"autopilot\", the ministry said in a statement.He was speaking after a discussion with members of the U.S. strategic community in Washington, the ministry said.Last month, China\\'s top security agency suggested any Xi-Biden meeting in San Francisco hinged on the U.S. \"showing sufficient sincerity\".Wang said China and the U.S. needed to \"return to Bali\", referring to the last meeting between Biden and Xi, on the sidelines of a Group of 20 summit on the Indonesian resort island last November, where they discussed Taiwan, competition and communication.Washington and Beijing must put into practice the consensus achieved then, \"remove interference, overcome obstacles, enhance consensus and gather outcomes\", Wang said.He said both sides have jointly sent out positive signals to stabilise and improve relations, believing it is useful and necessary to maintain dialogue even as there are still various differences and contradictions, and issues to be resolved.Saturday\\'s discussions also included in-depth exchanges on the interaction between China and U.S. militaries, finance, science and technology, China\\'s investment environment and market access, as well as the Middle East and Ukraine crises. REUTERS',\n",
       " 'Synopsis: Every fourth Friday of the month, The Straits Times’ US bureau chief Nirmal Ghosh presents an Asian perspective of the biggest global talking points with expert guests.The East Asia Summit in Jakarta, and the G20 in\\xa0New Delhi,\\xa0broadly solidified\\xa0US relations in the region, but it is the bilaterals with India and Vietnam that really\\xa0mattered.\\xa0The US was represented in Jakarta by Vice-President Kamala Harris. But the G20 saw President Joe Biden attending and supporting Indian Prime Minister Narendra Modi’s\\xa0moment as\\xa0global statesman\\xa0in his role as\\xa0chair of the\\xa0grouping.\\xa0In\\xa0contrast, China’s President Xi Jinping was absent.New Delhi also saw a reiteration of the increasingly close US-India relationship.Of equal significance perhaps in terms of competition with China, was President Biden’s trip to Hanoi, Vietnam, where the two countries formally elevated their relationship.\\xa0To unpack the significance of these meetings, ST’s US bureau chief Nirmal Ghosh hosts two guests in this episode:1. Ambassador Scot Marciel, the former US diplomat to Myanmar, Indonesia and Asean,\\xa0who is now a senior advisor at Bower Group Asia2. Dr Lynn Kuok, Shangri-La Dialogue senior fellow for Asia-Pacific security at the International Institute for Strategic StudiesHighlights (click/tap above):3:40 Why the G20 cemented India’s image as a global diplomatic and strategic player5:26 Why the so-called “double upgrade” of the US-Vietnam relationship is significant6:18 Why Asean’s and the world’s approach to Myanmar has been flawed11:08 Why the US focus should be a lot less on talking to South-east Asia about China, as the region already knows China well14:35 Do US administrations really understand South-east Asia well enough and how to engage the region? Why Asean meetings are “not often satisfying” in terms of substanceFollow Asian Insider with Nirmal Ghosh every fourth Friday of the month here:Channel: https://str.sg/JWa7Apple Podcasts: https://str.sg/JWa8Google Podcasts: https://str.sg/wQsBSpotify: https://str.sg/JWaXWebsite: http://str.sg/stpodcastsFeedback to: podcast@sph.com.sgFollow Nirmal Ghosh on X: https://str.sg/JD7rRead Nirmal Ghosh’s articles: https://str.sg/JbxGRegister for Asian Insider newsletter: https://str.sg/stnewsletters---Discover more ST podcast channels:COE Watch: https://str.sg/iTtEIn Your Opinion: https://str.sg/w7QtAsian Insider: https://str.sg/JWa7Health Check: https://str.sg/JWaNGreen Pulse: https://str.sg/JWafYour Money & Career: https://str.sg/wB2mST Sports Talk: https://str.sg/JWRE#PopVultures: https://str.sg/JWadMusic Lab: https://str.sg/w9TXDiscover ST Podcasts: http://str.sg/stpodcasts---Special edition series:The Unsolved Mysteries of South-east Asia (5 eps): https://str.sg/wuZ2Invisible Asia (9 eps): https://str.sg/wuZnStop Scams (10 eps): https://str.sg/wuZBSingapore’s War On Covid (5 eps): https://str.sg/wuJa---Follow our shows then, if you like short, practical podcasts!']"
      ]
     },
     "execution_count": 118,
     "metadata": {},
     "output_type": "execute_result"
    }
   ],
   "source": [
    "unranked_docs = [(test_title, doc)for doc in unranked_titles]\n",
    "# Get the scores\n",
    "scores = cross_encoder.predict(unranked_docs).tolist()\n",
    "\n",
    "# Zip the documents with the scores\n",
    "doc_scores = list(zip(unranked_titles, scores))\n",
    "\n",
    "# Sort the documents by score in descending order\n",
    "sorted_docs = sorted(doc_scores, key=lambda x: x[1], reverse=True)\n",
    "\n",
    "# Extract the sorted documents\n",
    "reranked_titles = [doc for doc, score in sorted_docs]\n",
    "\n",
    "reranked_titles"
   ]
  },
  {
   "cell_type": "code",
   "execution_count": 119,
   "metadata": {},
   "outputs": [
    {
     "data": {
      "text/plain": [
       "[-9.355789184570312,\n",
       " -7.4297027587890625,\n",
       " -8.69251537322998,\n",
       " -8.382255554199219,\n",
       " -9.092162132263184]"
      ]
     },
     "execution_count": 119,
     "metadata": {},
     "output_type": "execute_result"
    }
   ],
   "source": [
    "scores"
   ]
  },
  {
   "cell_type": "code",
   "execution_count": 107,
   "metadata": {},
   "outputs": [
    {
     "data": {
      "text/plain": [
       "'EU leaders to hold emergency virtual summit on Israel-Hamas conflict on Tuesday  '"
      ]
     },
     "execution_count": 107,
     "metadata": {},
     "output_type": "execute_result"
    }
   ],
   "source": [
    "test_title"
   ]
  },
  {
   "cell_type": "code",
   "execution_count": null,
   "metadata": {},
   "outputs": [],
   "source": []
  }
 ],
 "metadata": {
  "kernelspec": {
   "display_name": "py310",
   "language": "python",
   "name": "python3"
  },
  "language_info": {
   "codemirror_mode": {
    "name": "ipython",
    "version": 3
   },
   "file_extension": ".py",
   "mimetype": "text/x-python",
   "name": "python",
   "nbconvert_exporter": "python",
   "pygments_lexer": "ipython3",
   "version": "3.10.0"
  }
 },
 "nbformat": 4,
 "nbformat_minor": 2
}
