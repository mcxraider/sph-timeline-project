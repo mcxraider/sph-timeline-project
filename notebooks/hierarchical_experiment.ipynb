{
 "cells": [
  {
   "cell_type": "code",
   "execution_count": 12,
   "metadata": {},
   "outputs": [],
   "source": [
    "import os\n",
    "import ast\n",
    "import sys\n",
    "import time\n",
    "import yaml\n",
    "from tqdm import trange\n",
    "\n",
    "from pymongo import MongoClient\n",
    "from scipy.cluster.hierarchy import linkage, dendrogram, fcluster\n",
    "import matplotlib.pyplot as plt\n",
    "import seaborn as sns\n",
    "\n",
    "\n",
    "\n",
    "import pandas as pd\n",
    "import numpy as np\n",
    "from dotenv import load_dotenv\n",
    "from sklearn.metrics import silhouette_score\n",
    "from sklearn.decomposition import PCA\n",
    "from sklearn.preprocessing import StandardScaler\n",
    "# Import libraries for working with language models and Google Gemini\n",
    "from langchain_core.prompts import PromptTemplate\n",
    "import google.generativeai as genai\n",
    "from google.generativeai.types import HarmCategory, HarmBlockThreshold\n",
    "from langchain_core.output_parsers import JsonOutputParser\n",
    "from langchain_core.pydantic_v1 import BaseModel, Field\n",
    "from langchain_groq import ChatGroq\n",
    "from langchain_core.prompts import PromptTemplate\n",
    "\n",
    "chat_model = \"llama3-8b-8192\"\n",
    "load_dotenv()\n",
    "groq_api_key = os.getenv('GROQ_API_KEY')\n",
    "GEMINI_KEY = os.environ.get('GEMINI_KEY')\n",
    "genai.configure(api_key=GEMINI_KEY)\n",
    "\n",
    "\n",
    "# Normally where to do this? (in which function?)\n",
    "with open(\"../gradio_config.yaml\", \"r\") as config_file:\n",
    "    config = yaml.safe_load(config_file)\n",
    "\n",
    "# Initialise mongo client.\n",
    "mongo_client = MongoClient(config[\"database\"][\"uri\"])"
   ]
  },
  {
   "cell_type": "code",
   "execution_count": 13,
   "metadata": {},
   "outputs": [
    {
     "name": "stdout",
     "output_type": "stream",
     "text": [
      "Train data successfully fetched from MongoDB\n",
      "\n",
      "Test data successfully fetched from MongoDB\n",
      "\n"
     ]
    }
   ],
   "source": [
    "def load_mongodb():\n",
    "    # Connect to the MongoDB client\n",
    "    try:\n",
    "        db = mongo_client[config[\"database\"][\"name\"]]\n",
    "        train_documents = db[config[\"database\"][\"train_collection\"]].find()\n",
    "        print(\"Train data successfully fetched from MongoDB\\n\")\n",
    "    except Exception as error: \n",
    "        print(f\"Unable to fetch train data from MongoDB. Check your connection the database...\\nERROR: {error}\\n\")\n",
    "        sys.exit()   \n",
    "    try:\n",
    "        test_docs = db[config[\"database\"][\"test_collection\"]].find()\n",
    "        print(\"Test data successfully fetched from MongoDB\\n\")\n",
    "    except:\n",
    "        print(f\"Unable to fetch test data from MongoDB. Check your connection the database...\\nERROR: {error}\\n\")\n",
    "        sys.exit()\n",
    "    df_train = pd.DataFrame.from_dict(list(train_documents))\n",
    "    df_test = pd.DataFrame.from_dict(list(test_docs))\n",
    "    df = pd.concat([df_train, df_test], axis=0)\n",
    "    return df\n",
    "\n",
    "df= load_mongodb()"
   ]
  },
  {
   "cell_type": "code",
   "execution_count": 14,
   "metadata": {},
   "outputs": [],
   "source": [
    "def scale_body_embeddings(df):\n",
    "    print(\"Processing embedding data and scaling data...\\n\")\n",
    "    #Deserializing the embeddings\n",
    "    body_embeddings = np.array(df['embeddings'].apply(ast.literal_eval).tolist())\n",
    "    \n",
    "    # Standardize embeddings\n",
    "    scaler = StandardScaler()\n",
    "    embeddings = scaler.fit_transform(body_embeddings)\n",
    "    return embeddings\n",
    "\n",
    "def scale_title_embeddings(df):\n",
    "    print(\"Processing embedding data and scaling data...\\n\")\n",
    "    #Deserializing the embeddings\n",
    "    title_embeddings = np.array(df['Title_embeddings'].apply(ast.literal_eval).tolist())\n",
    "    \n",
    "    # Standardize embeddings\n",
    "    scaler = StandardScaler()\n",
    "    embeddings = scaler.fit_transform(title_embeddings)\n",
    "    return embeddings\n",
    "\n",
    "def scale_body_text_embeddings(df):\n",
    "    title_embeddings = np.array(df['Title_embeddings'].apply(ast.literal_eval).tolist())\n",
    "    body_embeddings = np.array(df['embeddings'].apply(ast.literal_eval).tolist())\n",
    "\n",
    "    title_weight = 0.7\n",
    "    body_weight = 0.3\n",
    "    combined_embeddings = title_weight * title_embeddings + body_weight * body_embeddings\n",
    "    \n",
    "    # Standardize embeddings\n",
    "    scaler = StandardScaler()\n",
    "    embeddings = scaler.fit_transform(combined_embeddings)\n",
    "    return embeddings\n",
    "\n",
    "def get_variance_performance_with_pca(train_embeddings):\n",
    "# Experiment for this variance range of 92% to 95%\n",
    "    print(\"Finding best Model parameters...\\n\")\n",
    "    variance = 0.95\n",
    "\n",
    "    pca = PCA(n_components=variance)\n",
    "    print(f\"Dimensions before PCA: {train_embeddings.shape}\\n\")\n",
    "    train_pca_embeddings = pca.fit_transform(train_embeddings)\n",
    "    print(f\"Dimensions after PCA: {train_pca_embeddings.shape}\\n\")\n",
    "        \n",
    "    # Range of max_d values to try, for this dataset we use 65\n",
    "    max_d = 0.6\n",
    "        \n",
    "    # List to store silhouette scores\n",
    "    silhouette_scores_train = []\n",
    "\n",
    "    # Perform hierarchical clustering\n",
    "    Z = linkage(train_pca_embeddings, method='average', metric='cosine')\n",
    "\n",
    "    clusters_train = fcluster(Z, max_d, criterion='distance')\n",
    "            \n",
    "    # Calculate silhouette score only if there are at least 2 unique clusters and fewer than the number of samples\n",
    "    if 1 < len(set(clusters_train)) < len(train_pca_embeddings):\n",
    "        score_train = silhouette_score(train_pca_embeddings, clusters_train)\n",
    "    else:\n",
    "        score_train = -1  # Assign a score of -1 if less than 2 unique clusters or too many clusters\n",
    "            \n",
    "    silhouette_scores_train.append(score_train)\n",
    "\n",
    "    # Plot the dendrogram\n",
    "    plt.figure(figsize=(200, 15))\n",
    "    plt.title(f'Dendrogram for Variance: {variance} (Body Embeddings with PCA)')\n",
    "    dendrogram(Z)\n",
    "    plt.axhline(y=max_d, color='r', linestyle='--')\n",
    "    plt.xlabel('Samples')\n",
    "    plt.ylabel('Distance')\n",
    "    plt.savefig(f'../clustering/dendrogram_variance_{variance}.png')\n",
    "    \n",
    "def get_variance_performance_without_pca(train_embeddings):\n",
    "    # Experiment for this variance range of 92% to 95%\n",
    "    print(\"Finding best Model parameters...\\n\")\n",
    "    variance = 0.95\n",
    "\n",
    "    print(f\"Dimensions before PCA: {train_embeddings.shape}\\n\")\n",
    "        \n",
    "    # Range of max_d values to try, for this dataset we use 65\n",
    "    max_d = 0.6\n",
    "        \n",
    "    # List to store silhouette scores\n",
    "    silhouette_scores_train = []\n",
    "\n",
    "    # Perform hierarchical clustering\n",
    "    Z = linkage(train_embeddings, method='average', metric='cosine')\n",
    "\n",
    "    clusters_train = fcluster(Z, max_d, criterion='distance')\n",
    "            \n",
    "    # Calculate silhouette score only if there are at least 2 unique clusters and fewer than the number of samples\n",
    "    if 1 < len(set(clusters_train)) < len(train_embeddings):\n",
    "        score_train = silhouette_score(train_embeddings, clusters_train)\n",
    "    else:\n",
    "        score_train = -1  # Assign a score of -1 if less than 2 unique clusters or too many clusters\n",
    "            \n",
    "    silhouette_scores_train.append(score_train)\n",
    "\n",
    "    # Plot the dendrogram\n",
    "    plt.figure(figsize=(200, 15))\n",
    "    plt.title(f'Dendrogram for Variance: {variance} (Body Embeddings with PCA)')\n",
    "    dendrogram(Z)\n",
    "    plt.axhline(y=max_d, color='r', linestyle='--')\n",
    "    plt.xlabel('Samples')\n",
    "    plt.ylabel('Distance')\n",
    "    plt.savefig(f'../clustering/dendrogram_variance_{variance}.png')\n"
   ]
  },
  {
   "cell_type": "markdown",
   "metadata": {},
   "source": [
    "## Exploration to see the clusters that are in the different percentiles"
   ]
  },
  {
   "cell_type": "code",
   "execution_count": 15,
   "metadata": {},
   "outputs": [
    {
     "name": "stdout",
     "output_type": "stream",
     "text": [
      "Processing embedding data and scaling data...\n",
      "\n"
     ]
    }
   ],
   "source": [
    "# Change type of embeddings accordingly\n",
    "train_embeddings = scale_body_embeddings(df)\n",
    "\n",
    "# Pre computed hierarchical clustering\n",
    "Z = linkage(train_embeddings, method='average', metric='cosine')"
   ]
  },
  {
   "cell_type": "code",
   "execution_count": 16,
   "metadata": {},
   "outputs": [],
   "source": [
    "import re\n",
    "import json\n",
    "def groq_header(s):\n",
    "    # Define your desired data structure.\n",
    "    class summarized_event(BaseModel):\n",
    "        Title: str = Field(description=\"Common theme of article titles\")\n",
    "    \n",
    "    parser = JsonOutputParser(pydantic_object=summarized_event)\n",
    "\n",
    "    chat = ChatGroq(temperature=0, model_name=chat_model)\n",
    "    \n",
    "    template = '''\n",
    "You are a news article editor. Given a list of article titles, you are to form a common theme for them in one or two sentences. \n",
    "I do not require an explanation, just the title that you deem well represents the common theme.\n",
    "\n",
    "Series of article titles:\n",
    "{text}\n",
    "\n",
    "Answer format example:\n",
    "{{\"Title\": \"Israel-Hamas Conflict and Gaza Crisis\"}}\n",
    "{{\"Title\": \"Tennis players throw rackets\"}}\n",
    "\n",
    "Before you return the answer, ensure and double check that you have adhered the answer format instructions strictly.\n",
    "'''\n",
    "    prompt = PromptTemplate(\n",
    "        template=template,\n",
    "        input_variables=[\"text\"],\n",
    "    )\n",
    "    \n",
    "    chain = prompt | chat \n",
    "    \n",
    "    result = chain.invoke({\"text\": s}).content\n",
    "    result = json.loads(result)\n",
    "    return result['Title']"
   ]
  },
  {
   "cell_type": "code",
   "execution_count": 17,
   "metadata": {},
   "outputs": [
    {
     "name": "stdout",
     "output_type": "stream",
     "text": [
      "Distribution for Body embeddings:\n",
      "+----+---------+------+------+------+------+------+------+------+------+------+------+------+------+------+------+------+------+------+------+------+------+------+------+------+-------+------+-------+-------+--------+-------+\n",
      "|    |   max_d |   10 |   25 |   33 |   50 |   65 |   70 |   75 |   80 |   81 |   82 |   83 |   84 |   85 |   86 |   87 |   88 |   89 |   90 |   91 |   92 |   93 |   94 |   95 |    96 |   97 |    98 |    99 |   mean |   std |\n",
      "|----+---------+------+------+------+------+------+------+------+------+------+------+------+------+------+------+------+------+------+------+------+------+------+------+------+-------+------+-------+-------+--------+-------|\n",
      "|  0 |    0.5  |    1 |    1 |    1 |    1 |    2 |    2 |    2 |  3   |    3 |    3 |    3 |    3 |    3 |    3 |    3 |    4 |    4 |    4 |    4 |    5 |    5 | 5    |    6 |  6    |    7 |  9    | 13.68 |   2.15 |  2.91 |\n",
      "|  1 |    0.52 |    1 |    1 |    1 |    1 |    2 |    2 |    2 |  3   |    3 |    3 |    3 |    3 |    3 |    4 |    4 |    4 |    4 |    4 |    5 |    5 |    6 | 6    |    6 |  7    |    8 |  9.76 | 16    |   2.33 |  3.43 |\n",
      "|  2 |    0.54 |    1 |    1 |    1 |    1 |    2 |    2 |    3 |  3   |    3 |    3 |    4 |    4 |    4 |    4 |    4 |    4 |    5 |    5 |    5 |    6 |    6 | 6    |    7 |  7    |    9 | 11.32 | 16.48 |   2.56 |  3.96 |\n",
      "|  3 |    0.56 |    1 |    1 |    1 |    2 |    2 |    2 |    3 |  3.4 |    4 |    4 |    4 |    4 |    4 |    4 |    5 |    5 |    5 |    5 |    6 |    6 |    7 | 7    |    8 |  9    |   11 | 13.94 | 19.97 |   2.85 |  4.53 |\n",
      "|  4 |    0.58 |    1 |    1 |    1 |    2 |    2 |    3 |    3 |  4   |    4 |    4 |    4 |    5 |    5 |    5 |    5 |    5 |    6 |    6 |    6 |    7 |    7 | 8.02 |    9 | 11    |   13 | 15    | 26.02 |   3.17 |  5.1  |\n",
      "|  5 |    0.6  |    1 |    1 |    1 |    2 |    3 |    3 |    4 |  4   |    5 |    5 |    5 |    5 |    5 |    5 |    6 |    6 |    6 |    6 |    7 |    7 |    8 | 9    |   10 | 11.16 |   13 | 17.58 | 23.74 |   3.51 |  6.33 |\n",
      "+----+---------+------+------+------+------+------+------+------+------+------+------+------+------+------+------+------+------+------+------+------+------+------+------+------+-------+------+-------+-------+--------+-------+\n"
     ]
    }
   ],
   "source": [
    "i = 0\n",
    "dic = {}\n",
    "max_d_range = np.arange(0.5,0.62,0.02).tolist()\n",
    "for d in max_d_range:\n",
    "    clusters_train = fcluster(Z, d, criterion='distance')\n",
    "    \n",
    "    # Get unique elements and their counts\n",
    "    unique_elements, counts = np.unique(clusters_train, return_counts=True)\n",
    "\n",
    "    # Combine unique elements and counts into a dictionary for better readability\n",
    "    cluster_counts = dict(zip(unique_elements, counts))  \n",
    "    \n",
    "    # Extract the counts (number of articles in each cluster)\n",
    "    article_counts = np.array(list(cluster_counts.values()))\n",
    "\n",
    "    # Calculate mean, median, and standard deviation\n",
    "    mean_articles = np.mean(article_counts)\n",
    "    stddev_articles = np.std(article_counts)\n",
    "\n",
    "    # Specify the percentiles you want to calculate\n",
    "    percentiles = [10, 25, 33, 65, 50, 70, 75, 80,81,82,83,84,85, 86,87,88,89, 90, 91, 92, 93, 94, 95, 96, 97, 98, 99]\n",
    "    percentile_values = np.percentile(article_counts, percentiles)\n",
    "\n",
    "    # Initialize the dictionary for the cluster\n",
    "    dic[d] = {}\n",
    "    dic[d]['num_clusters'] = len(article_counts)\n",
    "\n",
    "    # Add mean, median, and standard deviation\n",
    "    dic[d]['mean'] = round(mean_articles, 2)\n",
    "    dic[d]['std'] = round(stddev_articles, 2)\n",
    "\n",
    "    # Add the percentiles\n",
    "    for i, percentile in enumerate(percentiles):\n",
    "        dic[d][f'{percentile}th'] = round(percentile_values[i], 2)\n",
    "    i += 1\n",
    "\n",
    "# Convert the dictionary to a DataFrame\n",
    "data = []\n",
    "\n",
    "for d, stats in dic.items():\n",
    "    for key, value in stats.items():\n",
    "        if key in ['mean', 'std']:\n",
    "            data.append({'max_d': d, 'statistic': key, 'value': value})\n",
    "        elif key not in ['num_clusters']:\n",
    "            percentile = int(key.replace('th', ''))\n",
    "            data.append({'max_d': d, 'statistic': f'{percentile}', 'value': value})\n",
    "\n",
    "# Create DataFrame with all values\n",
    "distribution_df = pd.DataFrame(data)\n",
    "\n",
    "# Pivot the DataFrame to have percentiles and other statistics as columns\n",
    "pivot_df = distribution_df.pivot(index='max_d', columns='statistic', values='value')\n",
    "pivot_df.reset_index(inplace=True)\n",
    "\n",
    "# Rename the columns for better readability (optional)\n",
    "pivot_df.columns.name = None\n",
    "pivot_df.rename(columns={col: f'{col}' if isinstance(col, int) else col for col in pivot_df.columns}, inplace=True)\n",
    "\n",
    "from tabulate import tabulate\n",
    "print(\"Distribution for Body embeddings:\")\n",
    "print(tabulate(pivot_df, headers='keys', tablefmt='psql'))"
   ]
  },
  {
   "cell_type": "code",
   "execution_count": 8,
   "metadata": {},
   "outputs": [
    {
     "name": "stdout",
     "output_type": "stream",
     "text": [
      "Distribution for Body embeddings at 0.6 max_d:\n",
      "+----+---------+---------+------+------+------+------+------+------+------+------+------+------+------+------+------+------+------+------+------+------+------+------+------+------+------+-------+------+-------+-------+--------+-------+\n",
      "|    |   index |   max_d |   10 |   25 |   33 |   50 |   65 |   70 |   75 |   80 |   81 |   82 |   83 |   84 |   85 |   86 |   87 |   88 |   89 |   90 |   91 |   92 |   93 |   94 |   95 |    96 |   97 |    98 |    99 |   mean |   std |\n",
      "|----+---------+---------+------+------+------+------+------+------+------+------+------+------+------+------+------+------+------+------+------+------+------+------+------+------+------+-------+------+-------+-------+--------+-------|\n",
      "|  0 |       5 |     0.6 |    1 |    1 |    1 |    2 |    3 |    3 |    4 |    4 |    5 |    5 |    5 |    5 |    5 |    5 |    6 |    6 |    6 |    6 |    7 |    7 |    8 |    9 |   10 | 11.16 |   13 | 17.58 | 23.74 |   3.51 |  6.33 |\n",
      "+----+---------+---------+------+------+------+------+------+------+------+------+------+------+------+------+------+------+------+------+------+------+------+------+------+------+------+-------+------+-------+-------+--------+-------+\n"
     ]
    }
   ],
   "source": [
    "max_d = 0.60\n",
    "distri_df = pivot_df[round(pivot_df[\"max_d\"],2) == max_d].reset_index()\n",
    "print(f\"Distribution for Body embeddings at {max_d} max_d:\")\n",
    "print(tabulate(distri_df, headers='keys', tablefmt='psql'))"
   ]
  },
  {
   "cell_type": "code",
   "execution_count": 9,
   "metadata": {},
   "outputs": [
    {
     "name": "stdout",
     "output_type": "stream",
     "text": [
      "Distribution for Body embeddings at 0.58 max_d:\n",
      "+----+---------+---------+------+------+------+------+------+------+------+------+------+------+------+------+------+------+------+------+------+------+------+------+------+------+------+------+------+------+-------+--------+-------+\n",
      "|    |   index |   max_d |   10 |   25 |   33 |   50 |   65 |   70 |   75 |   80 |   81 |   82 |   83 |   84 |   85 |   86 |   87 |   88 |   89 |   90 |   91 |   92 |   93 |   94 |   95 |   96 |   97 |   98 |    99 |   mean |   std |\n",
      "|----+---------+---------+------+------+------+------+------+------+------+------+------+------+------+------+------+------+------+------+------+------+------+------+------+------+------+------+------+------+-------+--------+-------|\n",
      "|  0 |       4 |    0.58 |    1 |    1 |    1 |    2 |    2 |    3 |    3 |    4 |    4 |    4 |    4 |    5 |    5 |    5 |    5 |    5 |    6 |    6 |    6 |    7 |    7 | 8.02 |    9 |   11 |   13 |   15 | 26.02 |   3.17 |   5.1 |\n",
      "+----+---------+---------+------+------+------+------+------+------+------+------+------+------+------+------+------+------+------+------+------+------+------+------+------+------+------+------+------+------+-------+--------+-------+\n"
     ]
    }
   ],
   "source": [
    "max_d = 0.58\n",
    "distri_df = pivot_df[round(pivot_df[\"max_d\"],2) == max_d].reset_index()\n",
    "print(f\"Distribution for Body embeddings at {max_d} max_d:\")\n",
    "print(tabulate(distri_df, headers='keys', tablefmt='psql'))"
   ]
  },
  {
   "cell_type": "code",
   "execution_count": 18,
   "metadata": {},
   "outputs": [],
   "source": [
    "# max_d of 0.56 to 0.6 seem to be the optimal \n",
    "max_d = 0.58\n",
    "clusters_train = fcluster(Z, max_d, criterion='distance')\n",
    "    \n",
    "# Get unique elements and their counts\n",
    "unique_elements, counts = np.unique(clusters_train, return_counts=True)\n",
    "\n",
    "# Combine unique elements and counts into a dictionary for better readability\n",
    "cluster_counts = dict(zip(unique_elements, counts))  \n",
    "    \n",
    "# Extract the counts (number of articles in each cluster)\n",
    "article_counts = np.array(list(cluster_counts.values()))\n",
    "\n",
    "labels = clusters_train.tolist()\n",
    "df['Cluster_labels'] = labels"
   ]
  },
  {
   "cell_type": "code",
   "execution_count": 9,
   "metadata": {},
   "outputs": [
    {
     "name": "stderr",
     "output_type": "stream",
     "text": [
      "100%|██████████| 6/6 [00:03<00:00,  1.54it/s]"
     ]
    },
    {
     "name": "stdout",
     "output_type": "stream",
     "text": [
      "Generated Labels of clusters in the 99 percentile:\n",
      "\n",
      "- Tennis players and tournaments\n",
      "\n",
      "- Rugby World Cup and International Rugby Matches\n",
      "\n",
      "- Cricket World Cup and International Matches\n",
      "\n",
      "- English Premier League and Women's Super League Match Updates and Analysis\n",
      "\n",
      "- Ukraine-Russia Conflict and War Efforts\n",
      "\n",
      "- Israel-Hamas Conflict and Gaza Crisis\n",
      "\n",
      "Details of clusters in the 99 percentile:\n",
      "\n",
      "[\n",
      "    {\n",
      "        \"Cluster number\": 12,\n",
      "        \"Cluster label\": \"Tennis players and tournaments\",\n",
      "        \"Number of articles\": 29\n",
      "    },\n",
      "    {\n",
      "        \"Cluster number\": 40,\n",
      "        \"Cluster label\": \"Rugby World Cup and International Rugby Matches\",\n",
      "        \"Number of articles\": 55\n",
      "    },\n",
      "    {\n",
      "        \"Cluster number\": 42,\n",
      "        \"Cluster label\": \"Cricket World Cup and International Matches\",\n",
      "        \"Number of articles\": 44\n",
      "    },\n",
      "    {\n",
      "        \"Cluster number\": 62,\n",
      "        \"Cluster label\": \"English Premier League and Women's Super League Match Updates and Analysis\",\n",
      "        \"Number of articles\": 46\n",
      "    },\n",
      "    {\n",
      "        \"Cluster number\": 424,\n",
      "        \"Cluster label\": \"Ukraine-Russia Conflict and War Efforts\",\n",
      "        \"Number of articles\": 28\n",
      "    },\n",
      "    {\n",
      "        \"Cluster number\": 458,\n",
      "        \"Cluster label\": \"Israel-Hamas Conflict and Gaza Crisis\",\n",
      "        \"Number of articles\": 103\n",
      "    }\n",
      "]\n"
     ]
    },
    {
     "name": "stderr",
     "output_type": "stream",
     "text": [
      "\n"
     ]
    }
   ],
   "source": [
    "# I want to find the cluster numbers in the 99th percentile Means that they must be at least 23.74 articles in that cluster\n",
    "import json\n",
    "from tqdm import trange\n",
    "def find_clusters_in_percentile(df, pivot_df, max_d, percentile):\n",
    "    distri_df = pivot_df[round(pivot_df[\"max_d\"],2) == max_d].reset_index()\n",
    "    if percentile < 99:\n",
    "        next_percentile = percentile + 1\n",
    "    else:\n",
    "        next_percentile = percentile\n",
    "    percentile_article_num = distri_df[str(percentile)][0]\n",
    "    clusters_at_percentile = []\n",
    "    for cluster, cluster_count in cluster_counts.items():\n",
    "        if percentile == 99:\n",
    "            if cluster_count >= percentile_article_num:\n",
    "                clusters_at_percentile.append(cluster)\n",
    "        else:\n",
    "            if cluster_count >= percentile_article_num and cluster_count < distri_df[str(next_percentile)][0]:\n",
    "                clusters_at_percentile.append(cluster)\n",
    "\n",
    "    percentile_articles = []\n",
    "    if len(clusters_at_percentile)>30:\n",
    "        clusters_at_percentile[:25]\n",
    "        print(\"More than 30 articles in this percentile, shortening it to 25 to account for Groq limits... \\n\")\n",
    "        \n",
    "    for i in trange(len(clusters_at_percentile)):\n",
    "        label = list(cluster_counts.keys())[clusters_at_percentile[i]-1]\n",
    "        count = 0\n",
    "        s = \"\"\n",
    "        for t in df[df['Cluster_labels'] == label]['Title'].values.tolist():\n",
    "            s += f\"- {t}\\n\" \n",
    "            count += 1\n",
    "        generated_label = groq_header(s)\n",
    "        cluster_details = {}\n",
    "        cluster_details['Cluster number'] = clusters_at_percentile[i]\n",
    "        cluster_details['Cluster label'] = generated_label\n",
    "        cluster_details['Number of articles'] = count\n",
    "        percentile_articles.append(cluster_details)\n",
    "        \n",
    "    for d in percentile_articles:\n",
    "        for key, value in d.items():\n",
    "            if isinstance(value, (np.int32, np.int64)):\n",
    "                d[key] = int(value)\n",
    "            elif isinstance(value, (np.float32, np.float64)):\n",
    "                d[key] = float(value)\n",
    "\n",
    "    # Convert the list of dictionaries to a string\n",
    "    json_string = json.dumps(percentile_articles, indent=4)\n",
    "    print(f\"Generated Labels of clusters in the {percentile} percentile:\\n\")\n",
    "    for d in percentile_articles:\n",
    "        print(f\"- {d['Cluster label']}\\n\")\n",
    "    print(f\"Details of clusters in the {percentile} percentile:\\n\")\n",
    "    print(json_string)\n",
    "    return percentile_articles\n",
    "\n",
    "# explored_max_d = {}\n",
    "# for i in range(86,87,1):\n",
    "#     details = find_clusters_in_percentile(df, pivot_df, 0.56, 86)\n",
    "#     key = f\"{i} percentile\"\n",
    "#     explored_max_d[i] = details\n",
    "details = find_clusters_in_percentile(df, pivot_df, 0.58, 99)"
   ]
  },
  {
   "cell_type": "markdown",
   "metadata": {},
   "source": [
    "## Exporting these details into CSV"
   ]
  },
  {
   "cell_type": "code",
   "execution_count": 17,
   "metadata": {},
   "outputs": [
    {
     "name": "stderr",
     "output_type": "stream",
     "text": [
      "100%|██████████| 30/30 [00:09<00:00,  3.23it/s]\n"
     ]
    },
    {
     "name": "stdout",
     "output_type": "stream",
     "text": [
      "Batch 1/20 completed, cooling down for 60 seconds...\n",
      "\n"
     ]
    },
    {
     "name": "stderr",
     "output_type": "stream",
     "text": [
      "100%|██████████| 30/30 [00:07<00:00,  3.99it/s]\n"
     ]
    },
    {
     "name": "stdout",
     "output_type": "stream",
     "text": [
      "Batch 2/20 completed, cooling down for 60 seconds...\n",
      "\n"
     ]
    },
    {
     "name": "stderr",
     "output_type": "stream",
     "text": [
      "100%|██████████| 30/30 [00:07<00:00,  4.16it/s]\n"
     ]
    },
    {
     "name": "stdout",
     "output_type": "stream",
     "text": [
      "Batch 3/20 completed, cooling down for 60 seconds...\n",
      "\n"
     ]
    },
    {
     "name": "stderr",
     "output_type": "stream",
     "text": [
      "100%|██████████| 30/30 [00:06<00:00,  4.88it/s]\n"
     ]
    },
    {
     "name": "stdout",
     "output_type": "stream",
     "text": [
      "Batch 4/20 completed, cooling down for 60 seconds...\n",
      "\n"
     ]
    },
    {
     "name": "stderr",
     "output_type": "stream",
     "text": [
      "100%|██████████| 30/30 [00:07<00:00,  3.85it/s]\n"
     ]
    },
    {
     "name": "stdout",
     "output_type": "stream",
     "text": [
      "Batch 5/20 completed, cooling down for 60 seconds...\n",
      "\n"
     ]
    },
    {
     "name": "stderr",
     "output_type": "stream",
     "text": [
      "100%|██████████| 30/30 [00:05<00:00,  5.40it/s]\n"
     ]
    },
    {
     "name": "stdout",
     "output_type": "stream",
     "text": [
      "Batch 6/20 completed, cooling down for 60 seconds...\n",
      "\n"
     ]
    },
    {
     "name": "stderr",
     "output_type": "stream",
     "text": [
      "100%|██████████| 30/30 [00:06<00:00,  4.38it/s]\n"
     ]
    },
    {
     "name": "stdout",
     "output_type": "stream",
     "text": [
      "Batch 7/20 completed, cooling down for 60 seconds...\n",
      "\n"
     ]
    },
    {
     "name": "stderr",
     "output_type": "stream",
     "text": [
      "100%|██████████| 30/30 [00:09<00:00,  3.13it/s]\n"
     ]
    },
    {
     "name": "stdout",
     "output_type": "stream",
     "text": [
      "Batch 8/20 completed, cooling down for 60 seconds...\n",
      "\n"
     ]
    },
    {
     "name": "stderr",
     "output_type": "stream",
     "text": [
      "100%|██████████| 30/30 [00:07<00:00,  3.88it/s]\n"
     ]
    },
    {
     "name": "stdout",
     "output_type": "stream",
     "text": [
      "Batch 9/20 completed, cooling down for 60 seconds...\n",
      "\n"
     ]
    },
    {
     "name": "stderr",
     "output_type": "stream",
     "text": [
      "100%|██████████| 30/30 [00:09<00:00,  3.01it/s]\n"
     ]
    },
    {
     "name": "stdout",
     "output_type": "stream",
     "text": [
      "Batch 10/20 completed, cooling down for 60 seconds...\n",
      "\n"
     ]
    },
    {
     "name": "stderr",
     "output_type": "stream",
     "text": [
      "100%|██████████| 30/30 [00:10<00:00,  2.84it/s]\n"
     ]
    },
    {
     "name": "stdout",
     "output_type": "stream",
     "text": [
      "Batch 11/20 completed, cooling down for 60 seconds...\n",
      "\n"
     ]
    },
    {
     "name": "stderr",
     "output_type": "stream",
     "text": [
      "100%|██████████| 30/30 [00:07<00:00,  4.24it/s]\n"
     ]
    },
    {
     "name": "stdout",
     "output_type": "stream",
     "text": [
      "Batch 12/20 completed, cooling down for 60 seconds...\n",
      "\n"
     ]
    },
    {
     "name": "stderr",
     "output_type": "stream",
     "text": [
      "100%|██████████| 30/30 [00:08<00:00,  3.52it/s]\n"
     ]
    },
    {
     "name": "stdout",
     "output_type": "stream",
     "text": [
      "Batch 13/20 completed, cooling down for 60 seconds...\n",
      "\n"
     ]
    },
    {
     "name": "stderr",
     "output_type": "stream",
     "text": [
      "100%|██████████| 30/30 [00:07<00:00,  4.06it/s]\n"
     ]
    },
    {
     "name": "stdout",
     "output_type": "stream",
     "text": [
      "Batch 14/20 completed, cooling down for 60 seconds...\n",
      "\n"
     ]
    },
    {
     "name": "stderr",
     "output_type": "stream",
     "text": [
      "100%|██████████| 30/30 [00:07<00:00,  4.15it/s]\n"
     ]
    },
    {
     "name": "stdout",
     "output_type": "stream",
     "text": [
      "Batch 15/20 completed, cooling down for 60 seconds...\n",
      "\n"
     ]
    },
    {
     "name": "stderr",
     "output_type": "stream",
     "text": [
      "100%|██████████| 30/30 [00:08<00:00,  3.41it/s]\n"
     ]
    },
    {
     "name": "stdout",
     "output_type": "stream",
     "text": [
      "Batch 16/20 completed, cooling down for 60 seconds...\n",
      "\n"
     ]
    },
    {
     "name": "stderr",
     "output_type": "stream",
     "text": [
      "100%|██████████| 30/30 [00:06<00:00,  4.65it/s]\n"
     ]
    },
    {
     "name": "stdout",
     "output_type": "stream",
     "text": [
      "Batch 17/20 completed, cooling down for 60 seconds...\n",
      "\n"
     ]
    },
    {
     "name": "stderr",
     "output_type": "stream",
     "text": [
      "100%|██████████| 30/30 [00:05<00:00,  5.05it/s]\n"
     ]
    },
    {
     "name": "stdout",
     "output_type": "stream",
     "text": [
      "Batch 18/20 completed, cooling down for 60 seconds...\n",
      "\n"
     ]
    },
    {
     "name": "stderr",
     "output_type": "stream",
     "text": [
      "100%|██████████| 30/30 [00:06<00:00,  4.88it/s]\n"
     ]
    },
    {
     "name": "stdout",
     "output_type": "stream",
     "text": [
      "Batch 19/20 completed, cooling down for 60 seconds...\n",
      "\n"
     ]
    },
    {
     "name": "stderr",
     "output_type": "stream",
     "text": [
      " 67%|██████▋   | 2/3 [00:00<00:00,  2.76it/s]\n"
     ]
    },
    {
     "ename": "IndexError",
     "evalue": "list index out of range",
     "output_type": "error",
     "traceback": [
      "\u001b[0;31m---------------------------------------------------------------------------\u001b[0m",
      "\u001b[0;31mIndexError\u001b[0m                                Traceback (most recent call last)",
      "Cell \u001b[0;32mIn[17], line 30\u001b[0m\n\u001b[1;32m     28\u001b[0m \u001b[38;5;28;01mfor\u001b[39;00m i \u001b[38;5;129;01min\u001b[39;00m trange(start, end):\n\u001b[1;32m     29\u001b[0m     details[i] \u001b[38;5;241m=\u001b[39m {}\n\u001b[0;32m---> 30\u001b[0m     size, label \u001b[38;5;241m=\u001b[39m \u001b[43mget_cluster_details\u001b[49m\u001b[43m(\u001b[49m\u001b[43mdf\u001b[49m\u001b[43m,\u001b[49m\u001b[43m \u001b[49m\u001b[43mi\u001b[49m\u001b[43m)\u001b[49m\n\u001b[1;32m     31\u001b[0m     details[i][\u001b[38;5;124m'\u001b[39m\u001b[38;5;124mCluster_size\u001b[39m\u001b[38;5;124m'\u001b[39m] \u001b[38;5;241m=\u001b[39m size\n\u001b[1;32m     32\u001b[0m     details[i][\u001b[38;5;124m'\u001b[39m\u001b[38;5;124mCluster_label\u001b[39m\u001b[38;5;124m'\u001b[39m] \u001b[38;5;241m=\u001b[39m label\n",
      "Cell \u001b[0;32mIn[17], line 13\u001b[0m, in \u001b[0;36mget_cluster_details\u001b[0;34m(df, test_cluster)\u001b[0m\n\u001b[1;32m     11\u001b[0m     cluster_label \u001b[38;5;241m=\u001b[39m groq_header(titles)\n\u001b[1;32m     12\u001b[0m \u001b[38;5;28;01melse\u001b[39;00m:\n\u001b[0;32m---> 13\u001b[0m     cluster_label \u001b[38;5;241m=\u001b[39m \u001b[38;5;124m\"\u001b[39m\u001b[38;5;124mSAME AS TITLE: \u001b[39m\u001b[38;5;124m\"\u001b[39m \u001b[38;5;241m+\u001b[39m \u001b[43mcluster_title_ls\u001b[49m\u001b[43m[\u001b[49m\u001b[38;5;241;43m0\u001b[39;49m\u001b[43m]\u001b[49m\n\u001b[1;32m     14\u001b[0m \u001b[38;5;28;01mreturn\u001b[39;00m cluster_size, cluster_label\n",
      "\u001b[0;31mIndexError\u001b[0m: list index out of range"
     ]
    }
   ],
   "source": [
    "num_clusters = len(set(labels))\n",
    "cluster = df[df[\"Cluster_labels\"] == 1].reset_index()\n",
    "cluster_title_ls = cluster['Title'].values.tolist()\n",
    "\n",
    "def get_cluster_details(df, test_cluster):\n",
    "    cluster = df[df[\"Cluster_labels\"] == test_cluster].reset_index()\n",
    "    cluster_title_ls = cluster['Title'].values.tolist()\n",
    "    cluster_size = len(cluster_title_ls)\n",
    "    if cluster_size > 1:\n",
    "        titles = \"\"\n",
    "        # Generate the list\n",
    "        for i in range(len(cluster_title_ls)):\n",
    "            titles += f\"- {cluster_title_ls[i]}\\n\"\n",
    "        # generate label for this cluster\n",
    "        cluster_label = groq_header(titles)\n",
    "    else:\n",
    "        cluster_label = \"SAME AS TITLE: \" + cluster_title_ls[0]\n",
    "    return cluster_size, cluster_label\n",
    "\n",
    "details = {}\n",
    "batch_size = 30\n",
    "total = num_clusters + 1  # Update this to the total number of iterations you need\n",
    "\n",
    "# Calculate the number of full batches\n",
    "num_batches = (total + batch_size - 1) // batch_size\n",
    "\n",
    "# Process each full batch\n",
    "k = 0\n",
    "for batch in range(num_batches):\n",
    "    start = batch * batch_size + 1\n",
    "    end = min(start + batch_size, total + 1)\n",
    "    for i in trange(start, end):\n",
    "        details[i] = {}\n",
    "        size, label = get_cluster_details(df, i)\n",
    "        details[i]['Cluster_size'] = size\n",
    "        details[i]['Cluster_label'] = label\n",
    "    if batch < num_batches - 1:\n",
    "        print(f\"Batch {k+1}/{num_batches} completed, cooling down for 60 seconds...\\n\")\n",
    "        time.sleep(60)  # Pause for 40 seconds after each batch\n",
    "    k += 1\n",
    "\n",
    "# Process any remaining items that don't form a full batch\n",
    "remainder = total % batch_size\n",
    "if remainder > 0 and num_batches * batch_size + 1 <= total:\n",
    "    start = num_batches * batch_size + 1\n",
    "    end = total + 1\n",
    "    for i in trange(start, end):\n",
    "        details[i] = {}\n",
    "        size, label = get_cluster_details(df, i)\n",
    "        details[i]['Cluster_size'] = size\n",
    "        details[i]['Cluster_label'] = label"
   ]
  },
  {
   "cell_type": "code",
   "execution_count": 20,
   "metadata": {},
   "outputs": [
    {
     "data": {
      "text/plain": [
       "(573, {})"
      ]
     },
     "execution_count": 20,
     "metadata": {},
     "output_type": "execute_result"
    }
   ],
   "source": [
    "details.popitem()"
   ]
  },
  {
   "cell_type": "code",
   "execution_count": 23,
   "metadata": {},
   "outputs": [],
   "source": [
    "with open(\"../data/cluster_details.json\", \"w\", encoding=\"utf-8\") as fout:\n",
    "    json.dump(details, fout, indent=4)"
   ]
  },
  {
   "cell_type": "code",
   "execution_count": 28,
   "metadata": {},
   "outputs": [
    {
     "data": {
      "text/html": [
       "<div>\n",
       "<style scoped>\n",
       "    .dataframe tbody tr th:only-of-type {\n",
       "        vertical-align: middle;\n",
       "    }\n",
       "\n",
       "    .dataframe tbody tr th {\n",
       "        vertical-align: top;\n",
       "    }\n",
       "\n",
       "    .dataframe thead th {\n",
       "        text-align: right;\n",
       "    }\n",
       "</style>\n",
       "<table border=\"1\" class=\"dataframe\">\n",
       "  <thead>\n",
       "    <tr style=\"text-align: right;\">\n",
       "      <th></th>\n",
       "      <th>Text</th>\n",
       "      <th>Title</th>\n",
       "      <th>tags</th>\n",
       "      <th>Publication_date</th>\n",
       "      <th>article_url</th>\n",
       "      <th>st_id</th>\n",
       "      <th>Cluster_labels</th>\n",
       "    </tr>\n",
       "  </thead>\n",
       "  <tbody>\n",
       "    <tr>\n",
       "      <th>0</th>\n",
       "      <td>PARIS  -     Ireland coach Andy Farrell has na...</td>\n",
       "      <td>Ireland keep same pack for huge clash with Sou...</td>\n",
       "      <td>[Ireland, Rugby World Cup, South Africa, Rugby...</td>\n",
       "      <td>2023-09-21</td>\n",
       "      <td>https://www.straitstimes.com/sport/ireland-kee...</td>\n",
       "      <td>st_1149392</td>\n",
       "      <td>40</td>\n",
       "    </tr>\n",
       "    <tr>\n",
       "      <th>1</th>\n",
       "      <td>BEIRUT - Thousands rallied across the Arab and...</td>\n",
       "      <td>Angry protests across Muslim world after Gaza ...</td>\n",
       "      <td>[Gaza Hospital Strike, Arab Protests, Israel-P...</td>\n",
       "      <td>2023-10-19</td>\n",
       "      <td>https://www.straitstimes.com/world/middle-east...</td>\n",
       "      <td>st_1156008</td>\n",
       "      <td>458</td>\n",
       "    </tr>\n",
       "    <tr>\n",
       "      <th>2</th>\n",
       "      <td>The 2024 European Championship will be held in...</td>\n",
       "      <td>Football: List of countries qualified for Euro...</td>\n",
       "      <td>[Euro 2024, Football, Qualifiers, Germany, Par...</td>\n",
       "      <td>2023-11-22</td>\n",
       "      <td>https://www.straitstimes.com/sport/football/so...</td>\n",
       "      <td>st_1163838</td>\n",
       "      <td>34</td>\n",
       "    </tr>\n",
       "    <tr>\n",
       "      <th>3</th>\n",
       "      <td>LILLE, France  -     Rugby World Cup organiser...</td>\n",
       "      <td>Organisers hail crazy crowd for Uruguay v Namibia</td>\n",
       "      <td>[France, Rugby World Cup, Uruguay, Namibia, Wh...</td>\n",
       "      <td>2023-10-04</td>\n",
       "      <td>https://www.straitstimes.com/sport/organisers-...</td>\n",
       "      <td>st_1152414</td>\n",
       "      <td>39</td>\n",
       "    </tr>\n",
       "    <tr>\n",
       "      <th>4</th>\n",
       "      <td>It’s been 50 years since the very first mobile...</td>\n",
       "      <td>A new smartphone again? Rethink unhealthy cult...</td>\n",
       "      <td>[Planned obsolescence, Sustainability, Smartph...</td>\n",
       "      <td>2023-09-26</td>\n",
       "      <td>https://www.straitstimes.com/opinion/a-new-sma...</td>\n",
       "      <td>st_1150354</td>\n",
       "      <td>332</td>\n",
       "    </tr>\n",
       "    <tr>\n",
       "      <th>...</th>\n",
       "      <td>...</td>\n",
       "      <td>...</td>\n",
       "      <td>...</td>\n",
       "      <td>...</td>\n",
       "      <td>...</td>\n",
       "      <td>...</td>\n",
       "      <td>...</td>\n",
       "    </tr>\n",
       "    <tr>\n",
       "      <th>2</th>\n",
       "      <td>BRUSSELS - European Council president Charles ...</td>\n",
       "      <td>EU leaders to hold emergency virtual summit on...</td>\n",
       "      <td>[EU, Emergency summit, Israel-Hamas, Gaza Stri...</td>\n",
       "      <td>2023-10-15</td>\n",
       "      <td>https://www.straitstimes.com/world/middle-east...</td>\n",
       "      <td>st_1155048</td>\n",
       "      <td>456</td>\n",
       "    </tr>\n",
       "    <tr>\n",
       "      <th>3</th>\n",
       "      <td>SINGAPORE – Children’s author and illustrator ...</td>\n",
       "      <td>Singapore Writers Festival: John Patrick Green...</td>\n",
       "      <td>[Childrens Literature, Singapore Writers Festi...</td>\n",
       "      <td>2023-10-11</td>\n",
       "      <td>https://www.straitstimes.com/life/arts/singapo...</td>\n",
       "      <td>st_1154134</td>\n",
       "      <td>119</td>\n",
       "    </tr>\n",
       "    <tr>\n",
       "      <th>4</th>\n",
       "      <td>TOKYO - Japanese manufacturers’ business confi...</td>\n",
       "      <td>Japan business mood improves, but global stres...</td>\n",
       "      <td>[Japan, Business, Confidence, Economy, Reuters...</td>\n",
       "      <td>2023-11-08</td>\n",
       "      <td>https://www.straitstimes.com/business/economy/...</td>\n",
       "      <td>st_1160704</td>\n",
       "      <td>341</td>\n",
       "    </tr>\n",
       "    <tr>\n",
       "      <th>5</th>\n",
       "      <td>TEHERAN – The Iranian authorities have arreste...</td>\n",
       "      <td>Human rights lawyer arrested while attending f...</td>\n",
       "      <td>[Tehran, human rights defender, Nasrin Sotoude...</td>\n",
       "      <td>2023-10-30</td>\n",
       "      <td>https://www.straitstimes.com/world/middle-east...</td>\n",
       "      <td>st_1158696</td>\n",
       "      <td>404</td>\n",
       "    </tr>\n",
       "    <tr>\n",
       "      <th>6</th>\n",
       "      <td>SINGAPORE - Scammers are taking advantage of t...</td>\n",
       "      <td>Experts warn of charity scams amid Middle East...</td>\n",
       "      <td>[Gazan conflict, Charity scams, Cryptocurrency...</td>\n",
       "      <td>2023-11-27</td>\n",
       "      <td>https://www.straitstimes.com/singapore/experts...</td>\n",
       "      <td>st_1164811</td>\n",
       "      <td>313</td>\n",
       "    </tr>\n",
       "  </tbody>\n",
       "</table>\n",
       "<p>2007 rows × 7 columns</p>\n",
       "</div>"
      ],
      "text/plain": [
       "                                                 Text  \\\n",
       "0   PARIS  -     Ireland coach Andy Farrell has na...   \n",
       "1   BEIRUT - Thousands rallied across the Arab and...   \n",
       "2   The 2024 European Championship will be held in...   \n",
       "3   LILLE, France  -     Rugby World Cup organiser...   \n",
       "4   It’s been 50 years since the very first mobile...   \n",
       "..                                                ...   \n",
       "2   BRUSSELS - European Council president Charles ...   \n",
       "3   SINGAPORE – Children’s author and illustrator ...   \n",
       "4   TOKYO - Japanese manufacturers’ business confi...   \n",
       "5   TEHERAN – The Iranian authorities have arreste...   \n",
       "6   SINGAPORE - Scammers are taking advantage of t...   \n",
       "\n",
       "                                                Title  \\\n",
       "0   Ireland keep same pack for huge clash with Sou...   \n",
       "1   Angry protests across Muslim world after Gaza ...   \n",
       "2   Football: List of countries qualified for Euro...   \n",
       "3   Organisers hail crazy crowd for Uruguay v Namibia   \n",
       "4   A new smartphone again? Rethink unhealthy cult...   \n",
       "..                                                ...   \n",
       "2   EU leaders to hold emergency virtual summit on...   \n",
       "3   Singapore Writers Festival: John Patrick Green...   \n",
       "4   Japan business mood improves, but global stres...   \n",
       "5   Human rights lawyer arrested while attending f...   \n",
       "6   Experts warn of charity scams amid Middle East...   \n",
       "\n",
       "                                                 tags Publication_date  \\\n",
       "0   [Ireland, Rugby World Cup, South Africa, Rugby...       2023-09-21   \n",
       "1   [Gaza Hospital Strike, Arab Protests, Israel-P...       2023-10-19   \n",
       "2   [Euro 2024, Football, Qualifiers, Germany, Par...       2023-11-22   \n",
       "3   [France, Rugby World Cup, Uruguay, Namibia, Wh...       2023-10-04   \n",
       "4   [Planned obsolescence, Sustainability, Smartph...       2023-09-26   \n",
       "..                                                ...              ...   \n",
       "2   [EU, Emergency summit, Israel-Hamas, Gaza Stri...       2023-10-15   \n",
       "3   [Childrens Literature, Singapore Writers Festi...       2023-10-11   \n",
       "4   [Japan, Business, Confidence, Economy, Reuters...       2023-11-08   \n",
       "5   [Tehran, human rights defender, Nasrin Sotoude...       2023-10-30   \n",
       "6   [Gazan conflict, Charity scams, Cryptocurrency...       2023-11-27   \n",
       "\n",
       "                                          article_url       st_id  \\\n",
       "0   https://www.straitstimes.com/sport/ireland-kee...  st_1149392   \n",
       "1   https://www.straitstimes.com/world/middle-east...  st_1156008   \n",
       "2   https://www.straitstimes.com/sport/football/so...  st_1163838   \n",
       "3   https://www.straitstimes.com/sport/organisers-...  st_1152414   \n",
       "4   https://www.straitstimes.com/opinion/a-new-sma...  st_1150354   \n",
       "..                                                ...         ...   \n",
       "2   https://www.straitstimes.com/world/middle-east...  st_1155048   \n",
       "3   https://www.straitstimes.com/life/arts/singapo...  st_1154134   \n",
       "4   https://www.straitstimes.com/business/economy/...  st_1160704   \n",
       "5   https://www.straitstimes.com/world/middle-east...  st_1158696   \n",
       "6   https://www.straitstimes.com/singapore/experts...  st_1164811   \n",
       "\n",
       "    Cluster_labels  \n",
       "0               40  \n",
       "1              458  \n",
       "2               34  \n",
       "3               39  \n",
       "4              332  \n",
       "..             ...  \n",
       "2              456  \n",
       "3              119  \n",
       "4              341  \n",
       "5              404  \n",
       "6              313  \n",
       "\n",
       "[2007 rows x 7 columns]"
      ]
     },
     "execution_count": 28,
     "metadata": {},
     "output_type": "execute_result"
    }
   ],
   "source": [
    "new_df = df.drop(['_id', 'embeddings', 'combined', 'tags_embeddings', 'Title_embeddings', 'phrase_Bert_tags_embeddings'], axis=1)\n",
    "details_df = pd.DataFrame.from_dict(details, orient='index').reset_index()\n",
    "details_df.rename(columns={'index': 'Cluster_id', 'Cluster_label': 'Generated_labels'}, inplace=True)\n",
    "merged_df = pd.merge(new_df, details_df, left_on='Cluster_labels', right_on='Cluster_id', how='left')\n",
    "merged_df.drop(columns=['Cluster_labels'], inplace=True)\n",
    "merged_df = merged_df[['st_id', 'Publication_date', 'Text', 'Title', 'tags', 'Cluster_id', 'Cluster_size', 'Generated_labels', 'article_url']]\n",
    "# merged_df.to_csv(\"../data/clustering_results_with_labels.csv\", index=False)"
   ]
  },
  {
   "cell_type": "code",
   "execution_count": null,
   "metadata": {},
   "outputs": [],
   "source": []
  },
  {
   "cell_type": "code",
   "execution_count": 23,
   "metadata": {},
   "outputs": [
    {
     "name": "stdout",
     "output_type": "stream",
     "text": [
      "Cluster 419\n",
      "\n",
      "--------------------------------------------------------------------------------\n",
      "- What did the Chinese get out of Biden-Xi meeting?   \n",
      "\n",
      "- US believes China Defence Minister Li Shangfu is facing inquiry: Media\n",
      "\n",
      "- Biden says goal of Xi meeting is to resume US-China military communications\n",
      "\n",
      "- Chinese spy agency suggests that a Biden-Xi meeting hinges on ‘sincerity’  \n",
      "\n",
      "- Russia's Putin says he will meet China's Xi soon\n",
      "\n",
      "- Blinken to tour Asia after latest Middle East crisis trip\n",
      "\n",
      "- China's foreign minister suggests road to Xi-Biden summit will not be smooth\n",
      "\n",
      "- US, Chinese military officials meet in Fiji in rare engagement \n",
      "\n",
      "- US Commerce chief Raimondo to meet Chinese counterpart Wang during Apec\n",
      "\n",
      "- What Xi got out of his meeting with Biden\n",
      "\n",
      "- China agrees to nuclear arms control talks with US: Report \n",
      "\n",
      "- Russia’s top diplomat Lavrov in China ahead of Putin visit\n",
      "\n",
      "- Vietnam elevates relations with US to highest diplomatic status    \n",
      "\n",
      "- China’s Xi Jinping stresses military unity after purging rocket force chiefs\n",
      "\n",
      "- Biden and Xi talk past each other in San Francisco\n",
      "\n",
      "- US Treasury's Yellen to meet Chinese vice premier ahead of Apec summit\n",
      "\n",
      "- Will the summit by the bay keep tensions at bay? Biden-Xi talks raise hopes\n",
      "\n",
      "- Moderate expectations from possible US-China summit, top diplomats in Washington say\n",
      "\n",
      "- Efforts to stabilise US-China ties will continue amid small window of opportunity: Panellists\n",
      "\n",
      "- Xi tells American senators US-China relations impact 'destiny of mankind' \n",
      "\n",
      "- US expects to upgrade Vietnam ties, risking China anger\n",
      "\n",
      "- Biden, Modi discuss rail deal, democracy as US press sidelined\n",
      "\n",
      "Number of articles: 22\n",
      "Generated label: US-China Relations and Diplomacy\n"
     ]
    }
   ],
   "source": [
    "# WHat i want to find out is what the labels of each cluster are in each of these percentiles. \n",
    "def view_cluster(df, cluster_num):\n",
    "    label = list(cluster_counts.keys())[cluster_num-1]\n",
    "    print(f\"Cluster {label}\\n\")\n",
    "    print(\"-\" * 80)\n",
    "    s = \"\"\n",
    "    count = 0\n",
    "    for t in df[df['Cluster_labels'] == label]['Title'].values.tolist():\n",
    "        s += f\"- {t}\\n\" \n",
    "        print(f\"- {t}\\n\")\n",
    "        count += 1\n",
    "    print(f\"Number of articles: {count}\")\n",
    "    generated_label = groq_header(s)\n",
    "    print(f\"Generated label: {generated_label}\")\n",
    "\n",
    "view_cluster(df, 419)"
   ]
  },
  {
   "cell_type": "code",
   "execution_count": 22,
   "metadata": {},
   "outputs": [
    {
     "data": {
      "text/html": [
       "<div>\n",
       "<style scoped>\n",
       "    .dataframe tbody tr th:only-of-type {\n",
       "        vertical-align: middle;\n",
       "    }\n",
       "\n",
       "    .dataframe tbody tr th {\n",
       "        vertical-align: top;\n",
       "    }\n",
       "\n",
       "    .dataframe thead th {\n",
       "        text-align: right;\n",
       "    }\n",
       "</style>\n",
       "<table border=\"1\" class=\"dataframe\">\n",
       "  <thead>\n",
       "    <tr style=\"text-align: right;\">\n",
       "      <th></th>\n",
       "      <th>_id</th>\n",
       "      <th>Text</th>\n",
       "      <th>Title</th>\n",
       "      <th>embeddings</th>\n",
       "      <th>combined</th>\n",
       "      <th>tags</th>\n",
       "      <th>tags_embeddings</th>\n",
       "      <th>Title_embeddings</th>\n",
       "      <th>Publication_date</th>\n",
       "      <th>article_url</th>\n",
       "      <th>st_id</th>\n",
       "      <th>phrase_Bert_tags_embeddings</th>\n",
       "      <th>Cluster_labels</th>\n",
       "    </tr>\n",
       "  </thead>\n",
       "  <tbody>\n",
       "    <tr>\n",
       "      <th>1</th>\n",
       "      <td>6666ac3f6619e3e180cbbade</td>\n",
       "      <td>NEW DELHI - US President Joe Biden and Indian ...</td>\n",
       "      <td>Biden, Modi discuss rail deal, democracy as US...</td>\n",
       "      <td>[0.013847, 0.087863, -0.034324, 0.011548, -0.0...</td>\n",
       "      <td>Title: Biden, Modi discuss rail deal, democrac...</td>\n",
       "      <td>[US-India Relations, Democracy, Biden-Modi Mee...</td>\n",
       "      <td>[0.010642309673130512, 0.05422448739409447, -0...</td>\n",
       "      <td>[-0.016441, 0.079198, -0.032363, 0.006927, 0.0...</td>\n",
       "      <td>2023-09-08</td>\n",
       "      <td>https://www.straitstimes.com/asia/as-biden-mod...</td>\n",
       "      <td>st_1146203</td>\n",
       "      <td>[[-0.25365757942199707, -0.32752934098243713, ...</td>\n",
       "      <td>419</td>\n",
       "    </tr>\n",
       "  </tbody>\n",
       "</table>\n",
       "</div>"
      ],
      "text/plain": [
       "                        _id  \\\n",
       "1  6666ac3f6619e3e180cbbade   \n",
       "\n",
       "                                                Text  \\\n",
       "1  NEW DELHI - US President Joe Biden and Indian ...   \n",
       "\n",
       "                                               Title  \\\n",
       "1  Biden, Modi discuss rail deal, democracy as US...   \n",
       "\n",
       "                                          embeddings  \\\n",
       "1  [0.013847, 0.087863, -0.034324, 0.011548, -0.0...   \n",
       "\n",
       "                                            combined  \\\n",
       "1  Title: Biden, Modi discuss rail deal, democrac...   \n",
       "\n",
       "                                                tags  \\\n",
       "1  [US-India Relations, Democracy, Biden-Modi Mee...   \n",
       "\n",
       "                                     tags_embeddings  \\\n",
       "1  [0.010642309673130512, 0.05422448739409447, -0...   \n",
       "\n",
       "                                    Title_embeddings Publication_date  \\\n",
       "1  [-0.016441, 0.079198, -0.032363, 0.006927, 0.0...       2023-09-08   \n",
       "\n",
       "                                         article_url       st_id  \\\n",
       "1  https://www.straitstimes.com/asia/as-biden-mod...  st_1146203   \n",
       "\n",
       "                         phrase_Bert_tags_embeddings  Cluster_labels  \n",
       "1  [[-0.25365757942199707, -0.32752934098243713, ...             419  "
      ]
     },
     "execution_count": 22,
     "metadata": {},
     "output_type": "execute_result"
    }
   ],
   "source": [
    "df[df['st_id'] == 'st_1146203']"
   ]
  },
  {
   "cell_type": "markdown",
   "metadata": {},
   "source": [
    "## Visualising sub clusters "
   ]
  },
  {
   "cell_type": "code",
   "execution_count": 187,
   "metadata": {},
   "outputs": [
    {
     "name": "stdout",
     "output_type": "stream",
     "text": [
      "Processing embedding data and scaling data...\n",
      "\n"
     ]
    },
    {
     "data": {
      "image/png": "[encoded data removed]",
      "text/plain": [
       "<Figure size 2000x700 with 1 Axes>"
      ]
     },
     "metadata": {},
     "output_type": "display_data"
    }
   ],
   "source": [
    "target_cluster = 1\n",
    "target_data = df[df[\"Cluster_labels\"] == target_cluster].reset_index()\n",
    "subset_train_embeddings = scale_body_embeddings(target_data)\n",
    "\n",
    "# Perform hierarchical clustering on the subset\n",
    "Z_target = linkage(subset_train_embeddings, method='average', metric='cosine')\n",
    "\n",
    "# Plot the dendrogram for the sub-cluster\n",
    "plt.figure(figsize=(20, 7))\n",
    "plt.title(f\"Dendrogram for Sub-Clusters within Cluster {target_cluster}\")\n",
    "dendrogram(Z_target)\n",
    "plt.show()"
   ]
  },
  {
   "cell_type": "code",
   "execution_count": 204,
   "metadata": {},
   "outputs": [
    {
     "name": "stdout",
     "output_type": "stream",
     "text": [
      "Distribution for Body embeddings:\n",
      "+----+---------+------+-------+-------+------+-------+------+-------+------+-------+-------+-------+-------+-------+-------+-------+-------+-------+------+-------+-------+-------+-------+-------+-------+-------+-------+-------+--------+-------+\n",
      "|    |   max_d |   10 |    25 |    33 |   50 |    65 |   70 |    75 |   80 |    81 |    82 |    83 |    84 |    85 |    86 |    87 |    88 |    89 |   90 |    91 |    92 |    93 |    94 |    95 |    96 |    97 |    98 |    99 |   mean |   std |\n",
      "|----+---------+------+-------+-------+------+-------+------+-------+------+-------+-------+-------+-------+-------+-------+-------+-------+-------+------+-------+-------+-------+-------+-------+-------+-------+-------+-------+--------+-------|\n",
      "|  0 |    0.8  |  1   |  1    |  1    |  1   |  1.75 |  2   |  2    |  2   |  2    |  2    |  2    |  2    |  2    |  2    |  2    |  2    |  2    |  2   |  2    |  2    |  2    |  2.3  |  2.75 |  3.2  |  3.65 |  4.1  |  4.55 |   1.56 |  1    |\n",
      "|  1 |    0.82 |  1   |  1    |  1    |  1   |  2    |  2   |  2    |  2.4 |  2.53 |  2.66 |  2.79 |  2.92 |  3    |  3    |  3    |  3    |  3    |  3   |  3    |  3    |  3.18 |  3.44 |  3.7  |  3.96 |  4.22 |  4.48 |  4.74 |   1.79 |  1.15 |\n",
      "|  2 |    0.84 |  1   |  1    |  1    |  2   |  2    |  2   |  2    |  2.6 |  2.72 |  2.84 |  2.96 |  3    |  3    |  3    |  3    |  3    |  3    |  3   |  3    |  3.08 |  3.32 |  3.56 |  3.8  |  4.04 |  4.28 |  4.52 |  4.76 |   1.92 |  1.14 |\n",
      "|  3 |    0.86 |  1   |  1    |  1    |  2   |  2    |  2   |  2    |  2.6 |  2.72 |  2.84 |  2.96 |  3    |  3    |  3    |  3    |  3    |  3    |  3   |  3    |  3.08 |  3.32 |  3.56 |  3.8  |  4.04 |  4.28 |  4.52 |  4.76 |   1.92 |  1.14 |\n",
      "|  4 |    0.88 |  1   |  1    |  1.63 |  2   |  2    |  2   |  2.25 |  2.8 |  2.91 |  3    |  3    |  3    |  3    |  3    |  3    |  3    |  3    |  3   |  3.02 |  3.24 |  3.46 |  3.68 |  3.9  |  4.12 |  4.34 |  4.56 |  4.78 |   2.08 |  1.11 |\n",
      "|  5 |    0.9  |  1   |  1    |  1.63 |  2   |  2    |  2   |  2.25 |  2.8 |  2.91 |  3    |  3    |  3    |  3    |  3    |  3    |  3    |  3    |  3   |  3.02 |  3.24 |  3.46 |  3.68 |  3.9  |  4.12 |  4.34 |  4.56 |  4.78 |   2.08 |  1.11 |\n",
      "|  6 |    0.92 |  1   |  2    |  2    |  2   |  3    |  3   |  3    |  3.8 |  3.96 |  4.12 |  4.28 |  4.44 |  4.6  |  4.76 |  4.92 |  5.04 |  5.12 |  5.2 |  5.28 |  5.36 |  5.44 |  5.52 |  5.6  |  5.68 |  5.76 |  5.84 |  5.92 |   2.78 |  1.62 |\n",
      "|  7 |    0.94 |  1   |  1.75 |  2    |  2.5 |  3    |  3   |  3.5  |  4.2 |  4.34 |  4.48 |  4.62 |  4.76 |  4.9  |  5.06 |  5.27 |  5.48 |  5.69 |  5.9 |  6.11 |  6.32 |  6.53 |  6.74 |  6.95 |  7.16 |  7.37 |  7.58 |  7.79 |   3.12 |  2.2  |\n",
      "|  8 |    0.96 |  1   |  1.75 |  2    |  2.5 |  3    |  3   |  3.5  |  4.2 |  4.34 |  4.48 |  4.62 |  4.76 |  4.9  |  5.06 |  5.27 |  5.48 |  5.69 |  5.9 |  6.11 |  6.32 |  6.53 |  6.74 |  6.95 |  7.16 |  7.37 |  7.58 |  7.79 |   3.12 |  2.2  |\n",
      "|  9 |    0.98 |  1.6 |  2.5  |  2.98 |  3   |  3    |  3.4 |  4    |  4.6 |  4.72 |  4.84 |  4.96 |  5.12 |  5.3  |  5.48 |  5.66 |  5.84 |  6.02 |  6.2 |  6.38 |  6.56 |  6.74 |  6.92 |  7.1  |  7.28 |  7.46 |  7.64 |  7.82 |   3.57 |  2.13 |\n",
      "| 10 |    1    |  1.6 |  2.5  |  2.98 |  3   |  3    |  3.4 |  4    |  4.6 |  4.72 |  4.84 |  4.96 |  5.12 |  5.3  |  5.48 |  5.66 |  5.84 |  6.02 |  6.2 |  6.38 |  6.56 |  6.74 |  6.92 |  7.1  |  7.28 |  7.46 |  7.64 |  7.82 |   3.57 |  2.13 |\n",
      "| 11 |    1.02 |  2.4 |  3    |  3.96 |  6   |  6    |  6   |  6    |  6.4 |  6.48 |  6.56 |  6.64 |  6.72 |  6.8  |  6.88 |  6.96 |  7.04 |  7.12 |  7.2 |  7.28 |  7.36 |  7.44 |  7.52 |  7.6  |  7.68 |  7.76 |  7.84 |  7.92 |   5    |  2.19 |\n",
      "| 12 |    1.04 |  3.9 |  5.25 |  5.97 |  7   |  7.9  |  8   |  8    |  8   |  8    |  8    |  8    |  8    |  8    |  8    |  8    |  8    |  8    |  8   |  8    |  8    |  8    |  8    |  8    |  8    |  8    |  8    |  8    |   6.25 |  2.05 |\n",
      "| 13 |    1.06 |  8   |  8    |  8    |  8   |  8.3  |  8.4 |  8.5  |  8.6 |  8.62 |  8.64 |  8.66 |  8.68 |  8.7  |  8.72 |  8.74 |  8.76 |  8.78 |  8.8 |  8.82 |  8.84 |  8.86 |  8.88 |  8.9  |  8.92 |  8.94 |  8.96 |  8.98 |   8.33 |  0.47 |\n",
      "| 14 |    1.08 |  8.9 | 10.25 | 10.97 | 12.5 | 13.85 | 14.3 | 14.75 | 15.2 | 15.29 | 15.38 | 15.47 | 15.56 | 15.65 | 15.74 | 15.83 | 15.92 | 16.01 | 16.1 | 16.19 | 16.28 | 16.37 | 16.46 | 16.55 | 16.64 | 16.73 | 16.82 | 16.91 |  12.5  |  4.5  |\n",
      "| 15 |    1.1  |  8.9 | 10.25 | 10.97 | 12.5 | 13.85 | 14.3 | 14.75 | 15.2 | 15.29 | 15.38 | 15.47 | 15.56 | 15.65 | 15.74 | 15.83 | 15.92 | 16.01 | 16.1 | 16.19 | 16.28 | 16.37 | 16.46 | 16.55 | 16.64 | 16.73 | 16.82 | 16.91 |  12.5  |  4.5  |\n",
      "| 16 |    1.12 | 25   | 25    | 25    | 25   | 25    | 25   | 25    | 25   | 25    | 25    | 25    | 25    | 25    | 25    | 25    | 25    | 25    | 25   | 25    | 25    | 25    | 25    | 25    | 25    | 25    | 25    | 25    |  25    |  0    |\n",
      "| 17 |    1.14 | 25   | 25    | 25    | 25   | 25    | 25   | 25    | 25   | 25    | 25    | 25    | 25    | 25    | 25    | 25    | 25    | 25    | 25   | 25    | 25    | 25    | 25    | 25    | 25    | 25    | 25    | 25    |  25    |  0    |\n",
      "| 18 |    1.16 | 25   | 25    | 25    | 25   | 25    | 25   | 25    | 25   | 25    | 25    | 25    | 25    | 25    | 25    | 25    | 25    | 25    | 25   | 25    | 25    | 25    | 25    | 25    | 25    | 25    | 25    | 25    |  25    |  0    |\n",
      "| 19 |    1.18 | 25   | 25    | 25    | 25   | 25    | 25   | 25    | 25   | 25    | 25    | 25    | 25    | 25    | 25    | 25    | 25    | 25    | 25   | 25    | 25    | 25    | 25    | 25    | 25    | 25    | 25    | 25    |  25    |  0    |\n",
      "+----+---------+------+-------+-------+------+-------+------+-------+------+-------+-------+-------+-------+-------+-------+-------+-------+-------+------+-------+-------+-------+-------+-------+-------+-------+-------+-------+--------+-------+\n"
     ]
    }
   ],
   "source": [
    "i = 0\n",
    "dic = {}\n",
    "max_d_range = np.arange(0.8, 1.2,0.02).tolist()\n",
    "for d in max_d_range:\n",
    "    clusters_train = fcluster(Z_target, d, criterion='distance')\n",
    "    \n",
    "    # Get unique elements and their counts\n",
    "    unique_elements, counts = np.unique(clusters_train, return_counts=True)\n",
    "\n",
    "    # Combine unique elements and counts into a dictionary for better readability\n",
    "    cluster_counts = dict(zip(unique_elements, counts))  \n",
    "    \n",
    "    # Extract the counts (number of articles in each cluster)\n",
    "    article_counts = np.array(list(cluster_counts.values()))\n",
    "\n",
    "    # Calculate mean, median, and standard deviation\n",
    "    mean_articles = np.mean(article_counts)\n",
    "    stddev_articles = np.std(article_counts)\n",
    "\n",
    "    # Specify the percentiles you want to calculate\n",
    "    percentiles = [10, 25, 33, 65, 50, 70, 75, 80,81,82,83,84,85, 86,87,88,89, 90, 91, 92, 93, 94, 95, 96, 97, 98, 99]\n",
    "    percentile_values = np.percentile(article_counts, percentiles)\n",
    "\n",
    "    # Initialize the dictionary for the cluster\n",
    "    dic[d] = {}\n",
    "    dic[d]['num_clusters'] = len(article_counts)\n",
    "\n",
    "    # Add mean, median, and standard deviation\n",
    "    dic[d]['mean'] = round(mean_articles, 2)\n",
    "    dic[d]['std'] = round(stddev_articles, 2)\n",
    "\n",
    "    # Add the percentiles\n",
    "    for i, percentile in enumerate(percentiles):\n",
    "        dic[d][f'{percentile}th'] = round(percentile_values[i], 2)\n",
    "    i += 1\n",
    "\n",
    "# Convert the dictionary to a DataFrame\n",
    "data = []\n",
    "\n",
    "for d, stats in dic.items():\n",
    "    for key, value in stats.items():\n",
    "        if key in ['mean', 'std']:\n",
    "            data.append({'max_d': d, 'statistic': key, 'value': value})\n",
    "        elif key not in ['num_clusters']:\n",
    "            percentile = int(key.replace('th', ''))\n",
    "            data.append({'max_d': d, 'statistic': f'{percentile}', 'value': value})\n",
    "\n",
    "# Create DataFrame with all values\n",
    "distribution_df = pd.DataFrame(data)\n",
    "\n",
    "# Pivot the DataFrame to have percentiles and other statistics as columns\n",
    "pivot_df = distribution_df.pivot(index='max_d', columns='statistic', values='value')\n",
    "pivot_df.reset_index(inplace=True)\n",
    "\n",
    "# Rename the columns for better readability (optional)\n",
    "pivot_df.columns.name = None\n",
    "pivot_df.rename(columns={col: f'{col}' if isinstance(col, int) else col for col in pivot_df.columns}, inplace=True)\n",
    "\n",
    "from tabulate import tabulate\n",
    "print(\"Distribution for Body embeddings:\")\n",
    "print(tabulate(pivot_df, headers='keys', tablefmt='psql'))"
   ]
  },
  {
   "cell_type": "code",
   "execution_count": 205,
   "metadata": {},
   "outputs": [
    {
     "name": "stdout",
     "output_type": "stream",
     "text": [
      "Distribution for Body embeddings at 1 max_d:\n",
      "+----+---------+---------+------+------+------+------+------+------+------+------+------+------+------+------+------+------+------+------+------+------+------+------+------+------+------+------+------+------+------+--------+-------+\n",
      "|    |   index |   max_d |   10 |   25 |   33 |   50 |   65 |   70 |   75 |   80 |   81 |   82 |   83 |   84 |   85 |   86 |   87 |   88 |   89 |   90 |   91 |   92 |   93 |   94 |   95 |   96 |   97 |   98 |   99 |   mean |   std |\n",
      "|----+---------+---------+------+------+------+------+------+------+------+------+------+------+------+------+------+------+------+------+------+------+------+------+------+------+------+------+------+------+------+--------+-------|\n",
      "|  0 |      10 |       1 |  1.6 |  2.5 | 2.98 |    3 |    3 |  3.4 |    4 |  4.6 | 4.72 | 4.84 | 4.96 | 5.12 |  5.3 | 5.48 | 5.66 | 5.84 | 6.02 |  6.2 | 6.38 | 6.56 | 6.74 | 6.92 |  7.1 | 7.28 | 7.46 | 7.64 | 7.82 |   3.57 |  2.13 |\n",
      "+----+---------+---------+------+------+------+------+------+------+------+------+------+------+------+------+------+------+------+------+------+------+------+------+------+------+------+------+------+------+------+--------+-------+\n"
     ]
    }
   ],
   "source": [
    "max_d = 1\n",
    "distri_df = pivot_df[round(pivot_df[\"max_d\"],2) == max_d].reset_index()\n",
    "print(f\"Distribution for Body embeddings at {max_d} max_d:\")\n",
    "print(tabulate(distri_df, headers='keys', tablefmt='psql'))"
   ]
  },
  {
   "cell_type": "code",
   "execution_count": 218,
   "metadata": {},
   "outputs": [
    {
     "name": "stdout",
     "output_type": "stream",
     "text": [
      "Distribution for Body embeddings at 0.92 max_d:\n",
      "+----+---------+---------+------+------+------+------+------+------+------+------+------+------+------+------+------+------+------+------+------+------+------+------+------+------+------+------+------+------+------+--------+-------+\n",
      "|    |   index |   max_d |   10 |   25 |   33 |   50 |   65 |   70 |   75 |   80 |   81 |   82 |   83 |   84 |   85 |   86 |   87 |   88 |   89 |   90 |   91 |   92 |   93 |   94 |   95 |   96 |   97 |   98 |   99 |   mean |   std |\n",
      "|----+---------+---------+------+------+------+------+------+------+------+------+------+------+------+------+------+------+------+------+------+------+------+------+------+------+------+------+------+------+------+--------+-------|\n",
      "|  0 |       6 |    0.92 |    1 |    2 |    2 |    2 |    3 |    3 |    3 |  3.8 | 3.96 | 4.12 | 4.28 | 4.44 |  4.6 | 4.76 | 4.92 | 5.04 | 5.12 |  5.2 | 5.28 | 5.36 | 5.44 | 5.52 |  5.6 | 5.68 | 5.76 | 5.84 | 5.92 |   2.78 |  1.62 |\n",
      "+----+---------+---------+------+------+------+------+------+------+------+------+------+------+------+------+------+------+------+------+------+------+------+------+------+------+------+------+------+------+------+--------+-------+\n"
     ]
    }
   ],
   "source": [
    "max_d = 0.92\n",
    "distri_df = pivot_df[round(pivot_df[\"max_d\"],2) == max_d].reset_index()\n",
    "print(f\"Distribution for Body embeddings at {max_d} max_d:\")\n",
    "print(tabulate(distri_df, headers='keys', tablefmt='psql'))"
   ]
  },
  {
   "cell_type": "code",
   "execution_count": 219,
   "metadata": {},
   "outputs": [
    {
     "data": {
      "image/png": "[encoded data removed]",
      "text/plain": [
       "<Figure size 2000x700 with 1 Axes>"
      ]
     },
     "metadata": {},
     "output_type": "display_data"
    }
   ],
   "source": [
    "chosen_d = 0.92\n",
    "# Plot the dendrogram for the sub-cluster\n",
    "plt.figure(figsize=(20, 7))\n",
    "plt.title(f\"Dendrogram for Sub-Clusters within Cluster {target_cluster}\")\n",
    "dendrogram(Z_target)\n",
    "plt.axhline(y=chosen_d, color='r', linestyle='--')\n",
    "plt.show()"
   ]
  },
  {
   "cell_type": "code",
   "execution_count": 211,
   "metadata": {},
   "outputs": [],
   "source": [
    "max_d = chosen_d\n",
    "clusters_train = fcluster(Z_target, max_d, criterion='distance')\n",
    "    \n",
    "# Get unique elements and their counts\n",
    "unique_elements, counts = np.unique(clusters_train, return_counts=True)\n",
    "\n",
    "# Combine unique elements and counts into a dictionary for better readability\n",
    "cluster_counts = dict(zip(unique_elements, counts))  \n",
    "    \n",
    "# Extract the counts (number of articles in each cluster)\n",
    "article_counts = np.array(list(cluster_counts.values()))\n",
    "\n",
    "labels = clusters_train.tolist()\n",
    "target_data['Cluster_labels'] = labels"
   ]
  },
  {
   "cell_type": "code",
   "execution_count": 212,
   "metadata": {},
   "outputs": [
    {
     "data": {
      "text/plain": [
       "{1, 2, 3, 4, 5, 6, 7, 8, 9}"
      ]
     },
     "execution_count": 212,
     "metadata": {},
     "output_type": "execute_result"
    }
   ],
   "source": [
    "set(labels)"
   ]
  },
  {
   "cell_type": "code",
   "execution_count": 215,
   "metadata": {},
   "outputs": [
    {
     "name": "stdout",
     "output_type": "stream",
     "text": [
      "Cluster 9\n",
      "\n",
      "--------------------------------------------------------------------------------\n",
      "- ‘Godzilla had a kid’: Rogue monitor lizards interrupt Singapore Grand Prix practice session \n",
      "\n",
      "Number of articles: 1\n",
      "Generated label: Unconventional Interruptions in Sports Events\n",
      "\n",
      "Cluster 1\n",
      "\n",
      "--------------------------------------------------------------------------------\n",
      "- Team by team analysis of the Las Vegas Grand Prix\n",
      "\n",
      "- Fuel system problem rules Sainz out of Qatar Grand Prix\n",
      "\n",
      "Number of articles: 2\n",
      "Generated label: Grand Prix Racing Issues\n",
      "\n",
      "Cluster 2\n",
      "\n",
      "--------------------------------------------------------------------------------\n",
      "- Red Bull take constructors’ title as Max Verstappen wins in Japan\n",
      "\n",
      "- Verstappen holds off Hamilton for 50th career F1 win\n",
      "\n",
      "- Red Bull’s Max Verstappen fastest in US GP practice\n",
      "\n",
      "- Albon flies as Verstappen completes Mexico practice sweep\n",
      "\n",
      "- Perez to feel the love even if the dream is dashed\n",
      "\n",
      "- McLaren can be a real threat to Red Bull next season, says Brawn\n",
      "\n",
      "Number of articles: 6\n",
      "Generated label: Max Verstappen and Red Bull's F1 Dominance\n",
      "\n",
      "Cluster 3\n",
      "\n",
      "--------------------------------------------------------------------------------\n",
      "- Felipe Massa says deadline for Formula One and FIA is the last one\n",
      "\n",
      "- Brazil's F1 race to remain in Sao Paulo until 2030\n",
      "\n",
      "Number of articles: 2\n",
      "Generated label: Formula One and FIA Developments\n",
      "\n",
      "Cluster 4\n",
      "\n",
      "--------------------------------------------------------------------------------\n",
      "- GM plans F1 power unit supply to Andretti from 2028\n",
      "\n",
      "- Formula One’s Las Vegas race isn’t living up to the hype\n",
      "\n",
      "- Lewis Hamilton defends F1 Las Vegas race after Max Verstappen outburst\n",
      "\n",
      "- Aston Martin to enter Le Mans with Valkyrie from 2025\n",
      "\n",
      "- Netflix pairs PGA Tour stars with F1 drivers for live match play event\n",
      "\n",
      "Number of articles: 5\n",
      "Generated label: Formula One and Motorsport News\n",
      "\n",
      "Cluster 5\n",
      "\n",
      "--------------------------------------------------------------------------------\n",
      "- Formula One set to change sprint format for 2024\n",
      "\n",
      "Number of articles: 1\n",
      "Generated label: Formula One Format Changes\n",
      "\n",
      "Cluster 6\n",
      "\n",
      "--------------------------------------------------------------------------------\n",
      "- ‘It was like a dream’: Fan spots Lewis Hamilton at Promenade ahead of S’pore Grand Prix\n",
      "\n",
      "- S’pore race driver Sean Hudspeth buoyed by GT World Challenge Europe podium finish\n",
      "\n",
      "- Singaporean teen Christian Ho takes next step in pursuit of F1 dream \n",
      "\n",
      "Number of articles: 3\n",
      "Generated label: Racing and Motorsports in Singapore\n",
      "\n",
      "Cluster 7\n",
      "\n",
      "--------------------------------------------------------------------------------\n",
      "- Aston Martin’s Lance Stroll in horror crash during Singapore Grand Prix qualifying\n",
      "\n",
      "- Martin wins Indian GP sprint after Bezzecchi crashes on first turn\n",
      "\n",
      "- No fractures for Bagnaia in Catalunya GP crash, Bastianini set for surgery\n",
      "\n",
      "Number of articles: 3\n",
      "Generated label: Motor Racing Crashes and Injuries\n",
      "\n",
      "Cluster 8\n",
      "\n",
      "--------------------------------------------------------------------------------\n",
      "- No Italian delight for tifosi as Max Verstappen completes perfect 10, close racing thrills crowd\n",
      "\n",
      "- Monza ready to get to work as contract talks rev up\n",
      "\n",
      "Number of articles: 2\n",
      "Generated label: Formula 1 and Racing\n",
      "\n"
     ]
    }
   ],
   "source": [
    "# WHat i want to find out is what the labels of each cluster are in each of these percentiles. \n",
    "def view_cluster(df, cluster_num):\n",
    "    label = list(cluster_counts.keys())[cluster_num-1]\n",
    "    print(f\"Cluster {label}\\n\")\n",
    "    print(\"-\" * 80)\n",
    "    s = \"\"\n",
    "    count = 0\n",
    "    for t in df[df['Cluster_labels'] == label]['Title'].values.tolist():\n",
    "        s += f\"- {t}\\n\" \n",
    "        print(f\"- {t}\\n\")\n",
    "        count += 1\n",
    "    print(f\"Number of articles: {count}\")\n",
    "    generated_label = groq_header(s)\n",
    "    print(f\"Generated label: {generated_label}\\n\")\n",
    "    return generated_label\n",
    "\n",
    "sub_cluster_labels = []\n",
    "for i in range(len(set(labels))):\n",
    "    sub_cluster_label = view_cluster(target_data, i)\n",
    "    sub_cluster_labels.append(sub_cluster_label)"
   ]
  },
  {
   "cell_type": "code",
   "execution_count": 216,
   "metadata": {},
   "outputs": [
    {
     "name": "stdout",
     "output_type": "stream",
     "text": [
      "Sub-Cluster 1 label: Unconventional Interruptions in Sports Events\n",
      "Sub-Cluster 2 label: Grand Prix Racing Issues\n",
      "Sub-Cluster 3 label: Max Verstappen and Red Bull's F1 Dominance\n",
      "Sub-Cluster 4 label: Formula One and FIA Developments\n",
      "Sub-Cluster 5 label: Formula One and Motorsport News\n",
      "Sub-Cluster 6 label: Formula One Format Changes\n",
      "Sub-Cluster 7 label: Racing and Motorsports in Singapore\n",
      "Sub-Cluster 8 label: Motor Racing Crashes and Injuries\n",
      "Sub-Cluster 9 label: Formula 1 and Racing\n"
     ]
    }
   ],
   "source": [
    "for i in range(len(sub_cluster_labels)):\n",
    "    print(f\"Sub-Cluster {i+1} label: \" + sub_cluster_labels[i])"
   ]
  },
  {
   "cell_type": "markdown",
   "metadata": {},
   "source": [
    "## Scaling across different databases with newly generated clusterings: \n",
    "- ### What we could do would be to form some form of ideal ratio between the percentiles? "
   ]
  },
  {
   "cell_type": "code",
   "execution_count": 230,
   "metadata": {},
   "outputs": [
    {
     "data": {
      "text/plain": [
       "array([1.        , 1.16666667, 1.16666667, 1.33666667, 1.5       ,\n",
       "       1.83333333, 2.16666667, 2.5       , 4.33666667])"
      ]
     },
     "execution_count": 230,
     "metadata": {},
     "output_type": "execute_result"
    }
   ],
   "source": [
    "ranges = np.array([6,7,7,8.02, 9,11, 13, 15, 26.02])\n",
    "new_ranges = ranges/ranges[0]\n",
    "new_ranges"
   ]
  },
  {
   "cell_type": "code",
   "execution_count": null,
   "metadata": {},
   "outputs": [],
   "source": []
  }
 ],
 "metadata": {
  "kernelspec": {
   "display_name": "py310",
   "language": "python",
   "name": "python3"
  },
  "language_info": {
   "codemirror_mode": {
    "name": "ipython",
    "version": 3
   },
   "file_extension": ".py",
   "mimetype": "text/x-python",
   "name": "python",
   "nbconvert_exporter": "python",
   "pygments_lexer": "ipython3",
   "version": "3.10.0"
  }
 },
 "nbformat": 4,
 "nbformat_minor": 2
}
