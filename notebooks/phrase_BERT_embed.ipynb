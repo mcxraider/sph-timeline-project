{
 "cells": [
  {
   "cell_type": "code",
   "execution_count": null,
   "metadata": {},
   "outputs": [],
   "source": []
  },
  {
   "cell_type": "code",
   "execution_count": null,
   "metadata": {},
   "outputs": [],
   "source": [
    "from sentence_transformers import SentenceTransformer\n",
    "phrase_list = [ 'play an active role', 'participate actively', 'active lifestyle']\n",
    "\n",
    "model = SentenceTransformer('whaleloops/phrase-bert')\n",
    "phrase_embs = model.encode( phrase_list )\n",
    "[p1, p2, p3] = phrase_embs\n",
    "\n",
    "#As in sentence-BERT, the default output is a list of numpy arrays:\n",
    "\n",
    "for phrase, embedding in zip(phrase_list, phrase_embs):\n",
    "    print(\"Phrase:\", phrase)\n",
    "    print(\"Embedding:\", embedding)\n",
    "    print(\"\")"
   ]
  }
 ],
 "metadata": {
  "language_info": {
   "name": "python"
  }
 },
 "nbformat": 4,
 "nbformat_minor": 2
}
