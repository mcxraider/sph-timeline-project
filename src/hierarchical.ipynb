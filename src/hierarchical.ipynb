{
 "cells": [
  {
   "cell_type": "markdown",
   "metadata": {},
   "source": [
    "## Exporting necessary libraries"
   ]
  },
  {
   "cell_type": "code",
   "execution_count": 1,
   "metadata": {},
   "outputs": [
    {
     "name": "stdout",
     "output_type": "stream",
     "text": [
      "/Users/jerryyang/Desktop/SPH/sph-timeline-project/timeline/bin/pip: line 2: /home/jerry/Desktop/timeline project/timeline/bin/python3: No such file or directory\n",
      "/Users/jerryyang/Desktop/SPH/sph-timeline-project/timeline/bin/pip: line 2: exec: /home/jerry/Desktop/timeline project/timeline/bin/python3: cannot execute: No such file or directory\n"
     ]
    }
   ],
   "source": [
    "# Import necessary libraries\n",
    "import os\n",
    "import ast\n",
    "import csv\n",
    "import json\n",
    "import numpy as np\n",
    "import pandas as pd\n",
    "import matplotlib.pyplot as plt\n",
    "import seaborn as sns\n",
    "from pymongo import MongoClient\n",
    "from sklearn.cluster import KMeans\n",
    "from sklearn.metrics import silhouette_score\n",
    "from sklearn.manifold import TSNE\n",
    "from sklearn.neighbors import KNeighborsClassifier\n",
    "from dotenv import load_dotenv\n",
    "from tqdm import trange\n",
    "from scipy.cluster.hierarchy import linkage, dendrogram, fcluster\n",
    "\n",
    "\n",
    "# Import libraries for working with language models and Google Gemini\n",
    "from langchain_openai import ChatOpenAI, OpenAI\n",
    "from langchain_core.output_parsers import StrOutputParser\n",
    "from langchain_core.prompts import PromptTemplate, ChatPromptTemplate\n",
    "import google.generativeai as genai\n",
    "from google.generativeai.types import HarmCategory, HarmBlockThreshold\n",
    "\n",
    "# Install the google-generativeai package (uncomment the line below to run the installation)\n",
    "!pip install -U -q google-generativeai\n",
    "\n",
    "# Set up the environment for plotting\n",
    "%matplotlib inline\n",
    "\n",
    "# Load environment variables\n",
    "load_dotenv()\n",
    "GEMINI_KEY = os.environ.get('GEMINI_KEY')\n",
    "genai.configure(api_key=GEMINI_KEY)"
   ]
  },
  {
   "cell_type": "markdown",
   "metadata": {},
   "source": [
    "## Load and Combine JSON files"
   ]
  },
  {
   "cell_type": "code",
   "execution_count": 2,
   "metadata": {},
   "outputs": [],
   "source": [
    "def combine_json(files):\n",
    "    combined_data = []\n",
    "    for file in files:\n",
    "        with open(file, 'r') as f:\n",
    "            # Load data from the file and append it to the combined list\n",
    "            data = json.load(f)\n",
    "            combined_data.extend(data)\n",
    "    return combined_data\n",
    "\n",
    "# Example usage\n",
    "files = ['../data_upload/final_db1.json', '../data_upload/final_db2.json', '../data_upload/final_db3.json', '../data_upload/final_db4.json']\n",
    "db = combine_json(files)"
   ]
  },
  {
   "cell_type": "code",
   "execution_count": 3,
   "metadata": {},
   "outputs": [],
   "source": [
    "def read_load_json(json_data):\n",
    "    for item in json_data:\n",
    "        #Convert the embeddings to json string as CSVs dont accept list as a data type\n",
    "        item['tags_embeddings'] = json.dumps(item['tags_embeddings'])\n",
    "        item['Title_embeddings'] = json.dumps(item['Title_embeddings'])\n",
    "    df = pd.DataFrame(json_data)\n",
    "    return df"
   ]
  },
  {
   "cell_type": "code",
   "execution_count": 4,
   "metadata": {},
   "outputs": [
    {
     "data": {
      "text/html": [
       "<div>\n",
       "<style scoped>\n",
       "    .dataframe tbody tr th:only-of-type {\n",
       "        vertical-align: middle;\n",
       "    }\n",
       "\n",
       "    .dataframe tbody tr th {\n",
       "        vertical-align: top;\n",
       "    }\n",
       "\n",
       "    .dataframe thead th {\n",
       "        text-align: right;\n",
       "    }\n",
       "</style>\n",
       "<table border=\"1\" class=\"dataframe\">\n",
       "  <thead>\n",
       "    <tr style=\"text-align: right;\">\n",
       "      <th></th>\n",
       "      <th>id</th>\n",
       "      <th>Text</th>\n",
       "      <th>Title</th>\n",
       "      <th>embeddings</th>\n",
       "      <th>combined</th>\n",
       "      <th>tags</th>\n",
       "      <th>tags_embeddings</th>\n",
       "      <th>Title_embeddings</th>\n",
       "      <th>Publication_date</th>\n",
       "    </tr>\n",
       "  </thead>\n",
       "  <tbody>\n",
       "    <tr>\n",
       "      <th>0</th>\n",
       "      <td>nos7tzp7jprxlqxe</td>\n",
       "      <td>GENEVA – The remains of a climber discovered i...</td>\n",
       "      <td>Remains found in Swiss Alps are those of Briti...</td>\n",
       "      <td>[0.063923, 0.065677, -0.001089, 0.065425, -0.0...</td>\n",
       "      <td>Title: Remains found in Swiss Alps are those o...</td>\n",
       "      <td>[Missing Climber, Swiss Alps, Glaciers, Global...</td>\n",
       "      <td>[0.025687463581562042, 0.03274165466427803, -0...</td>\n",
       "      <td>[0.021028, 0.006548, 0.037958, 0.049163, -0.00...</td>\n",
       "      <td>2023-09-01</td>\n",
       "    </tr>\n",
       "    <tr>\n",
       "      <th>1</th>\n",
       "      <td>zvv4ue0w64vfqoz1</td>\n",
       "      <td>Ms Greta Thunburg became a household name when...</td>\n",
       "      <td>Involve youth in shaping ethical use of AI</td>\n",
       "      <td>[0.063668, 0.098002, -0.022514, -0.033031, -0....</td>\n",
       "      <td>Title: Involve youth in shaping ethical use of...</td>\n",
       "      <td>[Youth activism, Artificial intelligence, Ethi...</td>\n",
       "      <td>[0.026038197800517082, 0.05095928534865379, -0...</td>\n",
       "      <td>[0.033077, 0.121931, -0.034714, 0.012957, -0.0...</td>\n",
       "      <td>2023-09-02</td>\n",
       "    </tr>\n",
       "    <tr>\n",
       "      <th>2</th>\n",
       "      <td>aph1tgua3xxoq2sg</td>\n",
       "      <td>NEW YORK  -     Defending women's champion Iga...</td>\n",
       "      <td>Swiatek, Djokovic headline third round action ...</td>\n",
       "      <td>[-0.019315, 0.066645, 0.009547, 0.029555, -0.0...</td>\n",
       "      <td>Title: Swiatek, Djokovic headline third round ...</td>\n",
       "      <td>[US Open, Grand Slam, Novak Djokovic, Iga Swia...</td>\n",
       "      <td>[-0.04092131927609444, 0.015564153902232647, -...</td>\n",
       "      <td>[-0.018808, -0.049826, 0.005458, -0.010391, -0...</td>\n",
       "      <td>2023-09-01</td>\n",
       "    </tr>\n",
       "    <tr>\n",
       "      <th>3</th>\n",
       "      <td>rlh53czyst054zfn</td>\n",
       "      <td>JAKARTA – Hopes of a return to democracy in ju...</td>\n",
       "      <td>‘Systematic repression’ crushing Myanmar’s dem...</td>\n",
       "      <td>[0.067328, -0.004407, 0.010127, -0.004268, -0....</td>\n",
       "      <td>Title: ‘Systematic repression’ crushing Myanma...</td>\n",
       "      <td>[Myanmar, UN chief, ASEAN, Rohingya, Military ...</td>\n",
       "      <td>[0.02929660677909851, 0.0006651841104030609, -...</td>\n",
       "      <td>[0.059998, -0.014698, 0.02184, -0.031714, 0.00...</td>\n",
       "      <td>2023-09-07</td>\n",
       "    </tr>\n",
       "    <tr>\n",
       "      <th>4</th>\n",
       "      <td>aksixz7uun2gkpss</td>\n",
       "      <td>JERUSALEM  -     Israel's shekel dropped to it...</td>\n",
       "      <td>Israel's shekel falls as judicial showdown looms</td>\n",
       "      <td>[-0.043186, 0.076352, -0.015492, -0.02859, -0....</td>\n",
       "      <td>Title: Israel's shekel falls as judicial showd...</td>\n",
       "      <td>[Israel, Shekel, Judicial crisis, Supreme Cour...</td>\n",
       "      <td>[0.015406888909637928, 0.04966922104358673, 0....</td>\n",
       "      <td>[-0.02634, 0.070879, 0.013255, -0.008821, -0.0...</td>\n",
       "      <td>2023-09-07</td>\n",
       "    </tr>\n",
       "  </tbody>\n",
       "</table>\n",
       "</div>"
      ],
      "text/plain": [
       "                 id                                               Text  \\\n",
       "0  nos7tzp7jprxlqxe  GENEVA – The remains of a climber discovered i...   \n",
       "1  zvv4ue0w64vfqoz1  Ms Greta Thunburg became a household name when...   \n",
       "2  aph1tgua3xxoq2sg  NEW YORK  -     Defending women's champion Iga...   \n",
       "3  rlh53czyst054zfn  JAKARTA – Hopes of a return to democracy in ju...   \n",
       "4  aksixz7uun2gkpss  JERUSALEM  -     Israel's shekel dropped to it...   \n",
       "\n",
       "                                               Title  \\\n",
       "0  Remains found in Swiss Alps are those of Briti...   \n",
       "1        Involve youth in shaping ethical use of AI    \n",
       "2  Swiatek, Djokovic headline third round action ...   \n",
       "3  ‘Systematic repression’ crushing Myanmar’s dem...   \n",
       "4   Israel's shekel falls as judicial showdown looms   \n",
       "\n",
       "                                          embeddings  \\\n",
       "0  [0.063923, 0.065677, -0.001089, 0.065425, -0.0...   \n",
       "1  [0.063668, 0.098002, -0.022514, -0.033031, -0....   \n",
       "2  [-0.019315, 0.066645, 0.009547, 0.029555, -0.0...   \n",
       "3  [0.067328, -0.004407, 0.010127, -0.004268, -0....   \n",
       "4  [-0.043186, 0.076352, -0.015492, -0.02859, -0....   \n",
       "\n",
       "                                            combined  \\\n",
       "0  Title: Remains found in Swiss Alps are those o...   \n",
       "1  Title: Involve youth in shaping ethical use of...   \n",
       "2  Title: Swiatek, Djokovic headline third round ...   \n",
       "3  Title: ‘Systematic repression’ crushing Myanma...   \n",
       "4  Title: Israel's shekel falls as judicial showd...   \n",
       "\n",
       "                                                tags  \\\n",
       "0  [Missing Climber, Swiss Alps, Glaciers, Global...   \n",
       "1  [Youth activism, Artificial intelligence, Ethi...   \n",
       "2  [US Open, Grand Slam, Novak Djokovic, Iga Swia...   \n",
       "3  [Myanmar, UN chief, ASEAN, Rohingya, Military ...   \n",
       "4  [Israel, Shekel, Judicial crisis, Supreme Cour...   \n",
       "\n",
       "                                     tags_embeddings  \\\n",
       "0  [0.025687463581562042, 0.03274165466427803, -0...   \n",
       "1  [0.026038197800517082, 0.05095928534865379, -0...   \n",
       "2  [-0.04092131927609444, 0.015564153902232647, -...   \n",
       "3  [0.02929660677909851, 0.0006651841104030609, -...   \n",
       "4  [0.015406888909637928, 0.04966922104358673, 0....   \n",
       "\n",
       "                                    Title_embeddings Publication_date  \n",
       "0  [0.021028, 0.006548, 0.037958, 0.049163, -0.00...       2023-09-01  \n",
       "1  [0.033077, 0.121931, -0.034714, 0.012957, -0.0...       2023-09-02  \n",
       "2  [-0.018808, -0.049826, 0.005458, -0.010391, -0...       2023-09-01  \n",
       "3  [0.059998, -0.014698, 0.02184, -0.031714, 0.00...       2023-09-07  \n",
       "4  [-0.02634, 0.070879, 0.013255, -0.008821, -0.0...       2023-09-07  "
      ]
     },
     "execution_count": 4,
     "metadata": {},
     "output_type": "execute_result"
    }
   ],
   "source": [
    "df = read_load_json(db)\n",
    "df.head()"
   ]
  },
  {
   "cell_type": "code",
   "execution_count": 6,
   "metadata": {},
   "outputs": [
    {
     "name": "stdout",
     "output_type": "stream",
     "text": [
      "<class 'pandas.core.frame.DataFrame'>\n",
      "RangeIndex: 2008 entries, 0 to 2007\n",
      "Data columns (total 9 columns):\n",
      " #   Column            Non-Null Count  Dtype \n",
      "---  ------            --------------  ----- \n",
      " 0   id                2008 non-null   object\n",
      " 1   Text              2008 non-null   object\n",
      " 2   Title             2007 non-null   object\n",
      " 3   embeddings        2008 non-null   object\n",
      " 4   combined          2007 non-null   object\n",
      " 5   tags              2008 non-null   object\n",
      " 6   tags_embeddings   2008 non-null   object\n",
      " 7   Title_embeddings  2008 non-null   object\n",
      " 8   Publication_date  2008 non-null   object\n",
      "dtypes: object(9)\n",
      "memory usage: 141.3+ KB\n"
     ]
    }
   ],
   "source": [
    "df.info()"
   ]
  },
  {
   "cell_type": "code",
   "execution_count": 140,
   "metadata": {},
   "outputs": [],
   "source": [
    "## NEED TO CHECK "
   ]
  },
  {
   "cell_type": "code",
   "execution_count": 8,
   "metadata": {},
   "outputs": [],
   "source": [
    "nan_rows = df[df.isnull().any(axis=1)]\n",
    "df = df.drop(nan_rows.index)"
   ]
  },
  {
   "cell_type": "code",
   "execution_count": 9,
   "metadata": {},
   "outputs": [
    {
     "name": "stdout",
     "output_type": "stream",
     "text": [
      "<class 'pandas.core.frame.DataFrame'>\n",
      "Index: 2007 entries, 0 to 2007\n",
      "Data columns (total 9 columns):\n",
      " #   Column            Non-Null Count  Dtype \n",
      "---  ------            --------------  ----- \n",
      " 0   id                2007 non-null   object\n",
      " 1   Text              2007 non-null   object\n",
      " 2   Title             2007 non-null   object\n",
      " 3   embeddings        2007 non-null   object\n",
      " 4   combined          2007 non-null   object\n",
      " 5   tags              2007 non-null   object\n",
      " 6   tags_embeddings   2007 non-null   object\n",
      " 7   Title_embeddings  2007 non-null   object\n",
      " 8   Publication_date  2007 non-null   object\n",
      "dtypes: object(9)\n",
      "memory usage: 156.8+ KB\n"
     ]
    }
   ],
   "source": [
    "df.info()"
   ]
  },
  {
   "cell_type": "markdown",
   "metadata": {},
   "source": [
    "## Data Preprocessing \n",
    "- Concatentation of embeddings\n",
    "- Standardisation of embeddings"
   ]
  },
  {
   "cell_type": "code",
   "execution_count": 10,
   "metadata": {},
   "outputs": [],
   "source": [
    "# Deserialising of embeddings\n",
    "body_embeddings= np.array(df['embeddings'].apply(ast.literal_eval).tolist())\n",
    "title_embeddings= np.array(df['Title_embeddings'].apply(ast.literal_eval).tolist())\n",
    "tags_embeddings= np.array(df['tags_embeddings'].apply(ast.literal_eval).tolist())\n",
    "all_embeddings = np.concatenate((body_embeddings, title_embeddings, tags_embeddings), axis=1)"
   ]
  },
  {
   "cell_type": "code",
   "execution_count": 13,
   "metadata": {},
   "outputs": [],
   "source": [
    "from sklearn.model_selection import train_test_split\n",
    "from sklearn.preprocessing import StandardScaler\n",
    "\n",
    "train_embeddings, test_embeddings = train_test_split(all_embeddings, test_size=10, random_state=42)\n",
    "\n",
    "scaler = StandardScaler()\n",
    "X_train_scaled = scaler.fit_transform(train_embeddings)\n",
    "X_test_scaled = scaler.transform(test_embeddings)"
   ]
  },
  {
   "cell_type": "code",
   "execution_count": 14,
   "metadata": {},
   "outputs": [
    {
     "data": {
      "text/plain": [
       "(1997, 2304)"
      ]
     },
     "execution_count": 14,
     "metadata": {},
     "output_type": "execute_result"
    }
   ],
   "source": [
    "X_train_scaled.shape"
   ]
  },
  {
   "cell_type": "markdown",
   "metadata": {},
   "source": [
    "## Conducting PCA Experimentation to find best amount of variance."
   ]
  },
  {
   "cell_type": "markdown",
   "metadata": {},
   "source": [
    "#### For variance range of 94% to 97%"
   ]
  },
  {
   "cell_type": "code",
   "execution_count": 20,
   "metadata": {},
   "outputs": [],
   "source": [
    "from sklearn.decomposition import PCA\n",
    "from scipy.cluster.hierarchy import linkage, fcluster\n",
    "from sklearn.neighbors import KNeighborsClassifier\n",
    "# Experiment for this variance range of 94% to 97%\n",
    "variance_range = list(np.arange(0.92, 0.97, 0.01))\n",
    "variance_perf = {}\n",
    "\n",
    "for variance in variance_range:\n",
    "    pca = PCA(n_components=variance)\n",
    "    train_pca_embeddings = pca.fit_transform(X_train_scaled)\n",
    "    test_pca_embeddings = pca.transform(X_test_scaled)\n",
    "    \n",
    "    # Range of max_d values to try\n",
    "    max_d_values = np.arange(45, 70)\n",
    "    \n",
    "    # Lists to store silhouette scores\n",
    "    silhouette_scores_train = []\n",
    "    silhouette_scores_test = []\n",
    "\n",
    "    # Perform hierarchical clustering\n",
    "    Z = linkage(train_pca_embeddings, method='ward')\n",
    "\n",
    "    for max_d in max_d_values:\n",
    "        clusters_train = fcluster(Z, max_d, criterion='distance')\n",
    "        \n",
    "        knn = KNeighborsClassifier(n_neighbors=1)\n",
    "        knn.fit(train_pca_embeddings, clusters_train)\n",
    "        clusters_test = knn.predict(test_pca_embeddings)\n",
    "        \n",
    "        # Calculate silhouette scores only if there are at least 2 unique clusters and fewer than the number of samples\n",
    "        if 1 < len(set(clusters_train)) < len(train_pca_embeddings):\n",
    "            score_train = silhouette_score(train_pca_embeddings, clusters_train)\n",
    "        else:\n",
    "            score_train = -1  # Assign a score of -1 if less than 2 unique clusters or too many clusters\n",
    "        \n",
    "        if 1 < len(set(clusters_test)) < len(test_pca_embeddings):\n",
    "            score_test = silhouette_score(test_pca_embeddings, clusters_test)\n",
    "        else:\n",
    "            score_test = -1  # Assign a score of -1 if less than 2 unique clusters or too many clusters\n",
    "        \n",
    "        silhouette_scores_train.append(score_train)\n",
    "        silhouette_scores_test.append(score_test)\n",
    "\n",
    "    # Determine the best max_d\n",
    "    best_max_d_train = max_d_values[np.argmax(silhouette_scores_train)]\n",
    "    best_max_d_test = max_d_values[np.argmax(silhouette_scores_test)]\n",
    "    variance_perf[variance] = {\n",
    "        'max_d_train': best_max_d_train,\n",
    "        \"max_d_test\": best_max_d_test,\n",
    "        'best_train_silhouette': max(silhouette_scores_train),\n",
    "        \"best_test_silhouette\": max(silhouette_scores_test)\n",
    "    }"
   ]
  },
  {
   "cell_type": "code",
   "execution_count": 21,
   "metadata": {},
   "outputs": [
    {
     "data": {
      "text/plain": [
       "{0.92: {'max_d_train': 54,\n",
       "  'max_d_test': 45,\n",
       "  'best_train_silhouette': 0.09662836924445259,\n",
       "  'best_test_silhouette': -1},\n",
       " 0.93: {'max_d_train': 55,\n",
       "  'max_d_test': 45,\n",
       "  'best_train_silhouette': 0.09493866482143248,\n",
       "  'best_test_silhouette': -1},\n",
       " 0.9400000000000001: {'max_d_train': 56,\n",
       "  'max_d_test': 45,\n",
       "  'best_train_silhouette': 0.09341043113832068,\n",
       "  'best_test_silhouette': -1},\n",
       " 0.9500000000000001: {'max_d_train': 56,\n",
       "  'max_d_test': 45,\n",
       "  'best_train_silhouette': 0.0918934174697297,\n",
       "  'best_test_silhouette': -1},\n",
       " 0.9600000000000001: {'max_d_train': 56,\n",
       "  'max_d_test': 45,\n",
       "  'best_train_silhouette': 0.0900331324671914,\n",
       "  'best_test_silhouette': -1}}"
      ]
     },
     "execution_count": 21,
     "metadata": {},
     "output_type": "execute_result"
    }
   ],
   "source": [
    "variance_perf"
   ]
  },
  {
   "cell_type": "code",
   "execution_count": 25,
   "metadata": {},
   "outputs": [
    {
     "name": "stdout",
     "output_type": "stream",
     "text": [
      "(0.92, 54)\n"
     ]
    }
   ],
   "source": [
    "# Find the best test variance based on the silhouette score\n",
    "def get_best_variance(perf_results):\n",
    "    highest_train_sil = 0\n",
    "    best_variance_s = []\n",
    "    for variance, scores in perf_results.items():\n",
    "        if scores['best_train_silhouette'] > highest_train_sil:\n",
    "            highest_train_sil = scores['best_train_silhouette']\n",
    "            best_variance_s = [variance]  \n",
    "        elif scores['best_train_silhouette'] == highest_train_sil:\n",
    "            best_variance_s.append(variance)  \n",
    "    \n",
    "    final_best_max_d = perf_results[best_variance_s[0]]['max_d_train']\n",
    "    return round(best_variance_s[0], 2), final_best_max_d\n",
    "\n",
    "best_variance, best_max_d = get_best_variance(variance_perf)\n",
    "print((best_variance , best_max_d))          "
   ]
  },
  {
   "cell_type": "markdown",
   "metadata": {},
   "source": [
    "## Best parameters when test size is 10"
   ]
  },
  {
   "cell_type": "code",
   "execution_count": 164,
   "metadata": {},
   "outputs": [
    {
     "name": "stdout",
     "output_type": "stream",
     "text": [
      "0.92\n",
      "57\n"
     ]
    }
   ],
   "source": [
    "print(best_variance)\n",
    "print(best_max_d)"
   ]
  },
  {
   "cell_type": "code",
   "execution_count": 29,
   "metadata": {},
   "outputs": [
    {
     "name": "stdout",
     "output_type": "stream",
     "text": [
      "<class 'pandas.core.frame.DataFrame'>\n",
      "Index: 2007 entries, 0 to 2007\n",
      "Data columns (total 9 columns):\n",
      " #   Column            Non-Null Count  Dtype \n",
      "---  ------            --------------  ----- \n",
      " 0   id                2007 non-null   object\n",
      " 1   Text              2007 non-null   object\n",
      " 2   Title             2007 non-null   object\n",
      " 3   embeddings        2007 non-null   object\n",
      " 4   combined          2007 non-null   object\n",
      " 5   tags              2007 non-null   object\n",
      " 6   tags_embeddings   2007 non-null   object\n",
      " 7   Title_embeddings  2007 non-null   object\n",
      " 8   Publication_date  2007 non-null   object\n",
      "dtypes: object(9)\n",
      "memory usage: 156.8+ KB\n"
     ]
    }
   ],
   "source": [
    "df.info()"
   ]
  },
  {
   "cell_type": "code",
   "execution_count": 163,
   "metadata": {},
   "outputs": [],
   "source": [
    "df_test = df.sample(10)\n",
    "df_train = df.drop(df_test.index)"
   ]
  },
  {
   "cell_type": "code",
   "execution_count": 168,
   "metadata": {},
   "outputs": [],
   "source": [
    "best_max_d += 2"
   ]
  },
  {
   "cell_type": "code",
   "execution_count": 169,
   "metadata": {},
   "outputs": [],
   "source": [
    "# Deserializing the embeddings\n",
    "body_embeddings_train = np.array(df_train['embeddings'].apply(ast.literal_eval).tolist())\n",
    "title_embeddings_train = np.array(df_train['Title_embeddings'].apply(ast.literal_eval).tolist())\n",
    "tags_embeddings_train = np.array(df_train['tags_embeddings'].apply(ast.literal_eval).tolist())\n",
    "\n",
    "body_embeddings_test = np.array(df_test['embeddings'].apply(ast.literal_eval).tolist())\n",
    "title_embeddings_test = np.array(df_test['Title_embeddings'].apply(ast.literal_eval).tolist())\n",
    "tags_embeddings_test = np.array(df_test['tags_embeddings'].apply(ast.literal_eval).tolist())\n",
    "\n",
    "# Combine embeddings\n",
    "all_embeddings_train = np.concatenate((body_embeddings_train, title_embeddings_train, tags_embeddings_train), axis=1)\n",
    "all_embeddings_test = np.concatenate((body_embeddings_test, title_embeddings_test, tags_embeddings_test), axis=1)\n",
    "\n",
    "# Standardize embeddings\n",
    "scaler = StandardScaler()\n",
    "train_embeddings = scaler.fit_transform(all_embeddings_train)\n",
    "test_embeddings = scaler.transform(all_embeddings_test)\n",
    "\n",
    "# Perform PCA\n",
    "pca = PCA(n_components=best_variance)\n",
    "pca_train_embeddings = pca.fit_transform(train_embeddings)\n",
    "pca_test_embeddings = pca.transform(test_embeddings)\n",
    "\n",
    "\n",
    "Z = linkage(pca_train_embeddings, method='ward', metric='euclidean')\n",
    "clusters_train = fcluster(Z, best_max_d, criterion='distance')"
   ]
  },
  {
   "cell_type": "code",
   "execution_count": 170,
   "metadata": {},
   "outputs": [
    {
     "name": "stdout",
     "output_type": "stream",
     "text": [
      "Test point 1 (Title: Rodri’s absence gives Arsenal a chance to end losing run against Manchester City\n",
      ", Tags: ['Arsenal', 'Manchester City', 'Premier League', 'Erling Haaland', 'William Saliba', 'Bukayo Saka']):\n",
      "\n",
      "Cluster 17 contents:\n",
      "Title: Southgate said VAR checks left him bored in Spurs v Chelsea thriller, Tags: ['VAR', 'Tottenham Hotspur', 'Chelsea', 'Premier League', 'Gareth Southgate', 'Manchester United']\n",
      "Title: Plenty of optimism in North London with Arsenal, Tottenham showing signs of progress, Tags: ['Arsenal', 'Tottenham Hotspur', 'English Premier League', 'North London', 'Mauricio Pochettino', 'Ange Postecoglou']\n",
      "Title: After Everton shock, chaos looms in the English  Premier League , Tags: ['English Premier League', 'Everton', 'Chelsea', 'Manchester City', 'Roman Abramovich', 'Financial Doping']\n",
      "Title: Hat-trick of disallowed goals for Son Heung-min as Spurs fall 2-1 to Villa, Tags: ['Football', 'Premier League', 'Tottenham Hotspur', 'Aston Villa', 'goals', 'disallowed goals']\n",
      "\n",
      "--------------------------------------------------------------------------------\n",
      "\n",
      "Test point 2 (Title: Fiji says will strengthen defence cooperation with Australia\n",
      ", Tags: ['Australia', 'Fiji', 'Defence cooperation', 'China', 'Security', 'Pacific region']):\n",
      "\n",
      "Cluster 603 contents:\n",
      "Title: Safety of defence personnel 'utmost priority', Australia says after China warship incident, Tags: ['China', 'Australia', 'Japan', 'Military', 'Incident', 'Diplomacy']\n",
      "Title: Australia's Albanese to highlight trade on China visit as ties warm, Tags: ['Australia', 'China', 'Trade', 'Diplomacy', 'South China Sea', 'Security']\n",
      "Title: Australian delegation heading to Beijing for dialogue, government says, Tags: ['Australia', 'China', 'Diplomacy', 'Trade', 'Dialogue', 'Foreign Affairs']\n",
      "Title: Australian PM Anthony Albanese says China ties damaged by navy divers incident, Tags: ['Australia', 'China', 'Diplomacy', 'International Relations', 'Military Incident', 'Japan']\n",
      "Title: Philippines, Australia sign strategic partnership deal with eye on China, Tags: ['Australia', 'China', 'Defense', 'Geopolitics', 'Partnership', 'Philippines']\n",
      "Title: Ex-Australia PM says he also had Beijing in mind when arming Ukraine, Tags: ['Ukraine', 'Russia', 'China', 'Taiwan', 'Authoritarianism', 'Western Alliance']\n",
      "\n",
      "--------------------------------------------------------------------------------\n",
      "\n",
      "Test point 3 (Title: Ukrainian government seeks to use tax paid by service personnel to fund arms production\n",
      ", Tags: ['Ukraine', 'Military funding', 'Arms production', 'Tax revenue', 'Security and Defence Forces', 'Western allies']):\n",
      "\n",
      "Cluster 548 contents:\n",
      "Title: EU's 20 billion euro plan for Ukraine military aid hits resistance, Tags: ['EU', 'Ukraine', 'Military aid', 'Russia', 'Diplomacy', 'Ukraine crisis']\n",
      "Title: Seven countries order ammunition under landmark EU scheme to aid Ukraine, Tags: ['European Union', 'Ukraine', 'Military aid', 'Artillery ammunition', 'European Defence Agency', 'NATO']\n",
      "Title: Ukraine plans big rise in defence spending in 2024 draft budget, Tags: ['Ukraine', 'Russia', 'Defence Spending', 'Military Conflict', 'Western Support', 'Budget Deficit']\n",
      "\n",
      "--------------------------------------------------------------------------------\n",
      "\n",
      "Test point 4 (Title: ‘Tough decisions’: British PM Sunak cancels part of high-speed rail project\n",
      ", Tags: ['United Kingdom', 'Conservative Party', 'High-Speed Rail', 'Rishi Sunak', 'Politics', 'Infrastructure']):\n",
      "\n",
      "Cluster 702 contents:\n",
      "Title: UK PM Sunak gambles on return of Cameron to win over moderate voters, Tags: ['UK Politics', 'Conservative Party', 'David Cameron', 'Brexit', 'Rishi Sunak', 'Labour Party']\n",
      "Title: David Cameron, former PM and now Britain's new foreign minister, Tags: ['David Cameron', 'United Kingdom', 'Brexit', 'European Union', 'Libya', 'Greensill Capital']\n",
      "\n",
      "--------------------------------------------------------------------------------\n",
      "\n",
      "Test point 5 (Title: Blinken says Palestinian voices key to Gaza future\n",
      ", Tags: ['Blinken', 'Gaza', 'Israel', 'Hamas', 'Palestine', 'Iraq']):\n",
      "\n",
      "Cluster 510 contents:\n",
      "Title: Blinken, Netanyahu shelter in bunker amid air raid sirens in Tel Aviv, Tags: ['Israel', 'Air raid siren', 'Defense Ministry', 'Gaza', 'World events', 'Diplomacy']\n",
      "Title: Blinken to reassert in Israel its right to act, but need to minimise civilian casualties, Tags: ['US-Israel relations', 'Gaza Conflict', 'Humanitarian aid', 'Hamas', 'Washington', 'Jordan']\n",
      "Title: Blinken rebuffs Arab states’ push for immediate Gaza ceasefire, Tags: ['Gaza', 'Israel', 'Hamas', 'Ceasefire', 'Humanitarian crisis', 'Middle East']\n",
      "Title: Blinken says 'far too many' Palestinians killed as Israel battles Hamas in Gaza, Tags: ['Israel', 'Gaza', 'Hamas', 'Palestine', 'Violence', 'Humanitarian Crisis']\n",
      "Title: Jordan minister doubts Israel can wipe out Hamas, Tags: ['Israel', 'Hamas', 'Gaza', 'Jordan', 'Conflict', 'Middle East']\n",
      "Title: Blinken tells Arab leaders 'no more business as usual' with Hamas, Tags: ['US-Middle East', 'Israel-Palestine conflict', 'Hamas', 'Gaza', 'Diplomacy', 'Humanitarian crisis']\n",
      "Title: Blinken tells Lebanon it would be affected by being drawn into Israel conflict, Tags: ['Lebanon', 'Israel', 'Conflict', 'United States', 'US Secretary of State', 'Blinken']\n",
      "Title: Jordan to tell Blinken Israel must immediately stop war on Gaza -official statement, Tags: ['Jordan', 'Gaza', 'War', 'Palestinian refugees', 'Peace negotiations', 'Middle East conflict']\n",
      "Title: US Secretary of State Antony Blinken meets Jordanian King Abdullah in Amman , Tags: ['US Secretary of State', 'Jordan', 'Middle East', 'Gaza', 'Diplomatic Mission', 'Humanitarian Crisis']\n",
      "\n",
      "--------------------------------------------------------------------------------\n",
      "\n",
      "Test point 6 (Title: Early warning system for India's flooded glacial lake was delayed by a year\n",
      ", Tags: ['India', 'Glacial Flood', 'Early Warning System', 'Climate Change', 'Himalayan Communities', 'Sikkim']):\n",
      "\n",
      "Cluster 32 contents:\n",
      "Title: Remains found in Swiss Alps are those of British climber missing since 1971, Tags: ['Missing Climber', 'Swiss Alps', 'Glaciers', 'Global Warming', 'DNA Identification', 'Interpol']\n",
      "Title: Death toll from Indian Himalayan flash floods rises to 42, scores still missing, Tags: ['Sikkim', 'Glacial flood', 'Disaster', 'Extreme weather', 'Missing persons', 'Indian Himalayas']\n",
      "Title: China expands climate change surveillance on Himalayan peak Cho Oyu , Tags: ['Cho Oyu', 'Himalayas', 'Climate change', 'Weather stations', 'Ice thickness', 'Glacier melting']\n",
      "\n",
      "--------------------------------------------------------------------------------\n",
      "\n",
      "Test point 7 (Title: Portugal make four changes to pack for Wallabies clash\n",
      ", Tags: ['Portugal', 'Rugby World Cup', 'Wallabies clash', 'Saint Etienne', 'Patrice Lagisquet', 'Pool C']):\n",
      "\n",
      "Cluster 84 contents:\n",
      "Title: Saghinadze back as Georgia make eight changes for Portugal, Tags: ['Georgia Rugby', 'World Cup', 'Team Changes', 'Portugal', 'Stade de Toulouse', 'Levan Maisashvili']\n",
      "Title: Jelonch back as France ring the changes to face Uruguay, Tags: ['France rugby', 'Anthony Jelonch', 'Uruguay', 'Team changes', 'World Cup pool', 'Fabien Galthie']\n",
      "Title: Argentina pick six forwards on the bench against England, Tags: ['Argentina', 'Rugby World Cup', 'Team Selection', 'Forwards', 'Bench', 'England']\n",
      "Title: French reserves to take Uruguay seriously in second Pool A game, Tags: ['Rugby World Cup', 'France Rugby Team', 'Uruguay Rugby Team', 'Pierre Bourgarit', 'Fabien Galthie', 'Pool A']\n",
      "\n",
      "--------------------------------------------------------------------------------\n",
      "\n",
      "Test point 8 (Title: The Victoria’s Secret Fashion Show returns, but not as you knew it\n",
      ", Tags: ['Victorias Secret', 'Fashion', 'Reinvention', 'Women Empowerment', 'Diversity', 'Inclusivity']):\n",
      "\n",
      "Cluster 145 contents:\n",
      "Title: From Angel to Icon: The success and struggles of Victoria’s Secret model Taylor Hill, Tags: ['Victorias Secret', 'Models', 'Taylor Hill', 'Fashion', 'Lifestyle', 'Entertainment']\n",
      "Title: Balmain collection robbed in run-up to fashion show, designer says, Tags: ['Balmain', 'Robbery', 'Fashion Show', 'Olivier Rousteing', 'Paris', 'Mayhoola']\n",
      "Title: Drake flaunts massive bra stockpile collected from concert tour, Tags: ['Drake', 'Concert tour', 'United States', 'Instagram', 'Fans', 'Lingerie']\n",
      "\n",
      "--------------------------------------------------------------------------------\n",
      "\n",
      "Test point 9 (Title: South Korea take Singapore ‘very, very seriously’, says coach Jurgen Klinsmann \n",
      ", Tags: ['World Cup Qualifier', 'South Korea', 'Singapore', 'Jurgen Klinsmann', 'David and Goliath', 'Son Heung-min']):\n",
      "\n",
      "Cluster 113 contents:\n",
      "Title: How Hassan Sunny became S’pore’s most capped goalkeeper, Tags: ['Hassan Sunny', 'Singapore National Team', 'Goalkeeper', 'World Cup Qualifier', 'Guam', 'Albirex Niigata Singapore']\n",
      "Title: Safuwan, Ikhsan return for Lions’ World Cup qualifiers against South Korea and Thailand, Tags: ['Lions', 'World Cup qualifiers', 'Singapore', 'South Korea', 'Thailand', 'Tottenham Hotspur']\n",
      "Title: Five-star South Koreans down Singapore at home in World Cup football qualifier, Tags: ['South Korea', 'Singapore', 'World Cup qualifier', 'Football', 'Asian Football Confederation', 'Seoul World Cup Stadium']\n",
      "Title: Singapore back to winning ways with 58-36 victory over Cook Islands in netball Nations Cup, Tags: ['Singapore', 'Netball', 'Nations Cup', 'Cook Islands', 'Victory', 'PNG']\n",
      "\n",
      "--------------------------------------------------------------------------------\n",
      "\n",
      "Test point 10 (Title: Medics evacuate 31 premature babies from Gaza hospital\n",
      ", Tags: ['Gaza', 'Al-Shifa Hospital', 'Palestinian Premature Babies', 'Evacuation', 'UN', 'Hamas']):\n",
      "\n",
      "Cluster 500 contents:\n",
      "Title: Israeli military says Hamas hiding tunnels, operations centres in Gaza hospital, Tags: ['Gaza conflict', 'Hamas', 'Israeli military', 'Al Shifa Hospital', 'Tunnels', 'Offensive']\n",
      "Title: Israeli military says it found signs hostages were held in Gaza hospital, Tags: ['Hamas', 'Gaza', 'Israeli military', 'Hospital', 'hostages', 'Weapons']\n",
      "Title: Israeli tanks reported near hospital in embattled north Gaza, Tags: ['Gaza', 'Hamas', 'Israel', 'Conflict', 'Air Strikes', 'Health Facilities']\n",
      "Title: Gaza surgeons operate in corridors as Israeli bombs fill hospitals, Tags: ['Gaza', 'Israel', 'Palestine', 'Hospitals', 'Bombing', 'Healthcare']\n",
      "Title: Gaza's Al Shifa hospital 'coming under bombardment': WHO, Tags: ['Gaza Strip', 'Al Shifa hospital', 'Bombardment', 'World Health Organization', 'Palestinian-Israeli conflict', 'Humanitarian crisis']\n",
      "Title: Israeli military says it will help evacuate babies from Gaza hospital, Tags: ['Israel', 'Gaza', 'Babies', 'Evacuation', 'Al Shifa Hospital', 'Humanitarian']\n",
      "Title: Israeli commandos combing through Gaza’s Al-Shifa hospital, says military official, Tags: ['Gaza', 'Al-Shifa hospital', 'Israeli commandos', 'Hamas infrastructure', 'weapons discovery', 'military intelligence']\n",
      "Title: Israel offers to evacuate babies from crippled Gaza hospital after 2 newborns die as fuel runs out, Tags: ['Gaza Strip', 'Israel', 'Hamas', 'Al Shifa Hospital', 'Babies', 'Evacuation']\n",
      "\n",
      "--------------------------------------------------------------------------------\n",
      "\n"
     ]
    }
   ],
   "source": [
    "# Predict clusters for test data using the nearest cluster center\n",
    "def predict_cluster(test_embedding, train_embeddings, clusters):\n",
    "    distances = np.linalg.norm(train_embeddings - test_embedding, axis=1)\n",
    "    return clusters[np.argmin(distances)]\n",
    "\n",
    "# Assign clusters to test points\n",
    "test_clusters = [predict_cluster(te, pca_train_embeddings, clusters_train) for te in pca_test_embeddings]\n",
    "# Print the contents of each cluster assigned to each of the 5 test points\n",
    "for i, (test_point, test_cluster) in enumerate(zip(df_test.itertuples(), test_clusters)):\n",
    "    print(f\"Test point {i} (Title: {test_point.Title}\\n, Tags: {test_point.tags}):\")\n",
    "    print()\n",
    "    print(f\"Cluster {test_cluster} contents:\")\n",
    "    \n",
    "    cluster_indices = np.where(clusters_train == test_cluster)[0]\n",
    "    cluster_df = df_train.iloc[cluster_indices]\n",
    "    \n",
    "    for _, row in cluster_df.iterrows():\n",
    "        print(f\"Title: {row['Title']}, Tags: {row['tags']}\")\n",
    "    \n",
    "    print(\"\\n\" + \"-\"*80 + \"\\n\")\n"
   ]
  },
  {
   "cell_type": "code",
   "execution_count": 177,
   "metadata": {},
   "outputs": [
    {
     "data": {
      "text/plain": [
       "[17, 603, 548, 702, 510, 32, 84, 145, 113, 500]"
      ]
     },
     "execution_count": 177,
     "metadata": {},
     "output_type": "execute_result"
    }
   ],
   "source": [
    "test_clusters"
   ]
  },
  {
   "cell_type": "code",
   "execution_count": 175,
   "metadata": {},
   "outputs": [],
   "source": [
    "df_train['Cluster_labels'] = clusters_train"
   ]
  },
  {
   "cell_type": "code",
   "execution_count": 176,
   "metadata": {},
   "outputs": [],
   "source": [
    "df_test['Cluster_labels'] = test_clusters"
   ]
  },
  {
   "cell_type": "code",
   "execution_count": 178,
   "metadata": {},
   "outputs": [
    {
     "data": {
      "text/html": [
       "<div>\n",
       "<style scoped>\n",
       "    .dataframe tbody tr th:only-of-type {\n",
       "        vertical-align: middle;\n",
       "    }\n",
       "\n",
       "    .dataframe tbody tr th {\n",
       "        vertical-align: top;\n",
       "    }\n",
       "\n",
       "    .dataframe thead th {\n",
       "        text-align: right;\n",
       "    }\n",
       "</style>\n",
       "<table border=\"1\" class=\"dataframe\">\n",
       "  <thead>\n",
       "    <tr style=\"text-align: right;\">\n",
       "      <th></th>\n",
       "      <th>id</th>\n",
       "      <th>Text</th>\n",
       "      <th>Title</th>\n",
       "      <th>embeddings</th>\n",
       "      <th>combined</th>\n",
       "      <th>tags</th>\n",
       "      <th>tags_embeddings</th>\n",
       "      <th>Title_embeddings</th>\n",
       "      <th>Publication_date</th>\n",
       "      <th>Cluster_labels</th>\n",
       "    </tr>\n",
       "  </thead>\n",
       "  <tbody>\n",
       "    <tr>\n",
       "      <th>120</th>\n",
       "      <td>ln0wbw9261rgtd6w</td>\n",
       "      <td>LONDON  -     Endless VAR stoppages during Tot...</td>\n",
       "      <td>Southgate said VAR checks left him bored in Sp...</td>\n",
       "      <td>[0.026354, -0.017797, -0.023525, -0.027427, -0...</td>\n",
       "      <td>Title: Southgate said VAR checks left him bore...</td>\n",
       "      <td>[VAR, Tottenham Hotspur, Chelsea, Premier Leag...</td>\n",
       "      <td>[-0.013461079448461533, 0.02058023028075695, 0...</td>\n",
       "      <td>[-0.00934, -0.055659, -0.010452, -0.027771, 0....</td>\n",
       "      <td>2023-11-10</td>\n",
       "      <td>17</td>\n",
       "    </tr>\n",
       "    <tr>\n",
       "      <th>742</th>\n",
       "      <td>07c7msvwusnq9lj1</td>\n",
       "      <td>LONDON – To recall a time when both Tottenham ...</td>\n",
       "      <td>Plenty of optimism in North London with Arsena...</td>\n",
       "      <td>[0.012466, 0.021113, 0.006988, 0.012907, -0.01...</td>\n",
       "      <td>Title: Plenty of optimism in North London with...</td>\n",
       "      <td>[Arsenal, Tottenham Hotspur, English Premier L...</td>\n",
       "      <td>[-0.013860863633453846, 0.010777235962450504, ...</td>\n",
       "      <td>[-0.038067, 0.057702, -0.014818, -0.020333, 0....</td>\n",
       "      <td>2023-09-23</td>\n",
       "      <td>17</td>\n",
       "    </tr>\n",
       "    <tr>\n",
       "      <th>1565</th>\n",
       "      <td>bdztls82fk7uswtl</td>\n",
       "      <td>So much for an international break, it has bee...</td>\n",
       "      <td>After Everton shock, chaos looms in the Englis...</td>\n",
       "      <td>[0.002271, 0.082522, -0.007638, 0.015125, -0.0...</td>\n",
       "      <td>Title: After Everton shock, chaos looms in the...</td>\n",
       "      <td>[English Premier League, Everton, Chelsea, Man...</td>\n",
       "      <td>[-0.013298161327838898, 0.040276069194078445, ...</td>\n",
       "      <td>[0.017072, 0.006074, -0.028485, -0.033419, 0.0...</td>\n",
       "      <td>2023-11-18</td>\n",
       "      <td>17</td>\n",
       "    </tr>\n",
       "    <tr>\n",
       "      <th>1931</th>\n",
       "      <td>4fmj770hedw04crt</td>\n",
       "      <td>LONDON – Before their home fixture against Ast...</td>\n",
       "      <td>Hat-trick of disallowed goals for Son Heung-mi...</td>\n",
       "      <td>[0.028495, 0.005668, 0.007684, -0.037367, 0.03...</td>\n",
       "      <td>Title: Hat-trick of disallowed goals for Son H...</td>\n",
       "      <td>[Football, Premier League, Tottenham Hotspur, ...</td>\n",
       "      <td>[-0.01915312558412552, 6.474554538726807e-06, ...</td>\n",
       "      <td>[-0.010974, -0.044578, -0.013848, -0.02533, -0...</td>\n",
       "      <td>2023-11-27</td>\n",
       "      <td>17</td>\n",
       "    </tr>\n",
       "  </tbody>\n",
       "</table>\n",
       "</div>"
      ],
      "text/plain": [
       "                    id                                               Text  \\\n",
       "120   ln0wbw9261rgtd6w  LONDON  -     Endless VAR stoppages during Tot...   \n",
       "742   07c7msvwusnq9lj1  LONDON – To recall a time when both Tottenham ...   \n",
       "1565  bdztls82fk7uswtl  So much for an international break, it has bee...   \n",
       "1931  4fmj770hedw04crt  LONDON – Before their home fixture against Ast...   \n",
       "\n",
       "                                                  Title  \\\n",
       "120   Southgate said VAR checks left him bored in Sp...   \n",
       "742   Plenty of optimism in North London with Arsena...   \n",
       "1565  After Everton shock, chaos looms in the Englis...   \n",
       "1931  Hat-trick of disallowed goals for Son Heung-mi...   \n",
       "\n",
       "                                             embeddings  \\\n",
       "120   [0.026354, -0.017797, -0.023525, -0.027427, -0...   \n",
       "742   [0.012466, 0.021113, 0.006988, 0.012907, -0.01...   \n",
       "1565  [0.002271, 0.082522, -0.007638, 0.015125, -0.0...   \n",
       "1931  [0.028495, 0.005668, 0.007684, -0.037367, 0.03...   \n",
       "\n",
       "                                               combined  \\\n",
       "120   Title: Southgate said VAR checks left him bore...   \n",
       "742   Title: Plenty of optimism in North London with...   \n",
       "1565  Title: After Everton shock, chaos looms in the...   \n",
       "1931  Title: Hat-trick of disallowed goals for Son H...   \n",
       "\n",
       "                                                   tags  \\\n",
       "120   [VAR, Tottenham Hotspur, Chelsea, Premier Leag...   \n",
       "742   [Arsenal, Tottenham Hotspur, English Premier L...   \n",
       "1565  [English Premier League, Everton, Chelsea, Man...   \n",
       "1931  [Football, Premier League, Tottenham Hotspur, ...   \n",
       "\n",
       "                                        tags_embeddings  \\\n",
       "120   [-0.013461079448461533, 0.02058023028075695, 0...   \n",
       "742   [-0.013860863633453846, 0.010777235962450504, ...   \n",
       "1565  [-0.013298161327838898, 0.040276069194078445, ...   \n",
       "1931  [-0.01915312558412552, 6.474554538726807e-06, ...   \n",
       "\n",
       "                                       Title_embeddings Publication_date  \\\n",
       "120   [-0.00934, -0.055659, -0.010452, -0.027771, 0....       2023-11-10   \n",
       "742   [-0.038067, 0.057702, -0.014818, -0.020333, 0....       2023-09-23   \n",
       "1565  [0.017072, 0.006074, -0.028485, -0.033419, 0.0...       2023-11-18   \n",
       "1931  [-0.010974, -0.044578, -0.013848, -0.02533, -0...       2023-11-27   \n",
       "\n",
       "      Cluster_labels  \n",
       "120               17  \n",
       "742               17  \n",
       "1565              17  \n",
       "1931              17  "
      ]
     },
     "execution_count": 178,
     "metadata": {},
     "output_type": "execute_result"
    }
   ],
   "source": [
    "df_train[df_train['Cluster_labels']==17]"
   ]
  },
  {
   "cell_type": "code",
   "execution_count": 187,
   "metadata": {},
   "outputs": [],
   "source": [
    "df_test.reset_index(drop=True, inplace=True)"
   ]
  },
  {
   "cell_type": "code",
   "execution_count": 214,
   "metadata": {},
   "outputs": [
    {
     "name": "stdout",
     "output_type": "stream",
     "text": [
      "MFA director-general charged over use of diplomatic bags containing Panadol, luxury watches \n",
      "Brussels gunman suspect was known to police but not on watchlist\n",
      "US Senator Bob Menendez rejects calls to step down from Congress\n",
      "Deadly storm sweeps across Greece, PM postpones keynote speech\n",
      "Veteran Novak Djokovic overcomes Ben Shelton to reach US Open final\n",
      "UK PM Sunak gambles on return of Cameron to win over moderate voters\n",
      "Blinken, Netanyahu shelter in bunker amid air raid sirens in Tel Aviv\n",
      "Book review: Hwang Bo-reum’s Welcome To The Hyunam-dong Bookshop explores books and burnout\n",
      "Condo resale volume recovers slightly, price growth slows in October \n",
      "Jackson Wang and stars from 88rising light up Padang Stage on first night of Singapore GP\n",
      "Cristiano Ronaldo bags brace as Portugal thrash Bosnia and Herzegovina in Euro 2024 qualifying\n",
      "Italian FA to ban Tonali for 10 months for betting offences\n",
      "From Angel to Icon: The success and struggles of Victoria’s Secret model Taylor Hill\n",
      "Safuwan, Ikhsan return for Lions’ World Cup qualifiers against South Korea and Thailand\n",
      "Spain ready to sign a deal with Britain on Gibraltar as early as Wednesday: Foreign Minister\n",
      "Israeli military says it found signs hostages were held in Gaza hospital\n",
      "Israeli tanks reported near hospital in embattled north Gaza\n",
      "Singapore back to winning ways with 58-36 victory over Cook Islands in netball Nations Cup\n",
      "Pochettino says Chelsea ‘never feel like underdogs’ ahead of EPL clash with Man City\n"
     ]
    }
   ],
   "source": [
    "def common_tags(tags1, tags2):\n",
    "    return set(tags1).intersection(set(tags2))\n",
    "\n",
    "# Initialize the dictionary to store similar articles\n",
    "similar_articles_dict = {}\n",
    "\n",
    "# Iterate over each test article in the filtered df_test\n",
    "for index, test_row in df_test.iterrows():\n",
    "    test_tags = test_row['tags']\n",
    "    test_cluster_label = test_row['Cluster_labels']\n",
    "    \n",
    "    # Filter df_train for the same cluster label\n",
    "    df_train_cluster = df_train[df_train['Cluster_labels'] == test_cluster_label]\n",
    "    \n",
    "    # Find similar articles in df_train\n",
    "    similar_indexes = []\n",
    "    for train_index, train_row in df_train_cluster.iterrows():\n",
    "        train_tags = train_row['tags']\n",
    "        if len(common_tags(test_tags, train_tags)) >= 2:\n",
    "            similar_indexes.append(train_index)\n",
    "    \n",
    "    # Store the result in the dictionary if there are at least 2 supporting articles\n",
    "    if len(similar_indexes) >= 2:\n",
    "        similar_articles_dict[index] = {\n",
    "            'Title': test_row['Title'],\n",
    "            'indexes': similar_indexes,\n",
    "            'Text': test_row['Text']\n",
    "        }"
   ]
  },
  {
   "cell_type": "code",
   "execution_count": 196,
   "metadata": {},
   "outputs": [
    {
     "data": {
      "text/plain": [
       "{1: {'Title': 'Fiji says will strengthen defence cooperation with Australia',\n",
       "  'indexes': [475, 1197, 1424, 1594, 1605],\n",
       "  'Text': 'SYDNEY  -     Pacific island nation Fiji said on Tuesday it will strengthen defence and security cooperation with Australia as Prime Minister Sitiveni Rabuka visited Canberra.In a meeting with Australia\\'s Defence Minister Richard Marles, Rabuka said that evolving global security threats meant Australia and Fiji should strengthen cooperation in security intelligence, cyber security, defence and police cooperation, Fiji\\'s government said in a statement.The two countries already work closely together on border and maritime security, and Australia had funded a security training camp in Fiji, Rabuka noted.Rabuka is on a three-day official visit to Australia.China struck policing agreements with Pacific Island neighbours Solomon Islands and Vanautu this year, however a decade-old policing agreement between China and Fiji had been put \"on hold\", Rabuka confirmed in an interview with ABC Television, citing \"the differences in our system of policing, investigations and our legal system\".Marles will travel to South Korea on Wednesday and Japan on Thursday for defence ministers\\' meetings, the Australian government said. REUTERS'},\n",
       " 4: {'Title': 'Blinken says Palestinian voices key to Gaza future',\n",
       "  'indexes': [280, 632, 1301, 1397, 1480, 1505],\n",
       "  'Text': 'RAMALLAH/BAGHDAD - Top United States diplomat Antony Blinken said the Palestinian Authority (PA) should play a central role in the future of the Gaza Strip, as he met Iraqi leaders and toured the region amid spiralling tensions over Israel’s war with Hamas.Mr Blinken passed through Israeli checkpoints to meet Palestinian Authority President Mahmoud Abbas in the West Bank city of Ramallah, then travelled on to Iraq. It was his second visit to the region since the Hamas militants, who rule Gaza, launched a surprise attack on Israel on Oct 7, killing 1,400 people and taking more than 240 others hostage, according to Israel.Palestinian views, voices and aspirations need to be “at the centre” of conversations about the future of Gaza, Mr Blinken told reporters in Baghdad. As Israel continued a campaign of air strikes that Gaza health officials say has killed 9,770 Palestinians, Secretary of State Blinken rebuffed calls for a ceasefire from Arab officials on Saturday after appealing, unsuccessfully, to Israel for more limited pauses to the fighting a day earlier. “This is a process,” Mr Blinken said about the push for humanitarian pauses, saying Israel has important questions about how they would work, and details are being discussed now. It is important that any pause advance several issues, including hostage release, he said. In discussions with the Iraqi government, Mr Blinken said: “I made very clear that the attacks, the threats coming from militia that are aligned with Iran, are totally unacceptable.” The United States is sending a message to “anyone who might seek to take advantage of the conflict in Gaza to threaten our personnel here or anywhere else in the region: ‘Don’t do it’”, he said.Post-conflict plan  As well as seeking to ensure the conflict does not spread in the region, Mr Blinken is trying to kick-start discussions on how Gaza could be governed, after the complete destruction of Hamas that Israel says is its aim.Mr Abbas told Mr Blinken that Gaza is “an integral part” of the state Palestinians want, according to an account of the meeting from the official Palestinian news agency WAFA, which suggested any PA role in governing Gaza would have to be part of a wider settlement of the decades-old conflict. “We will fully assume our responsibilities within the framework of a comprehensive political solution that includes all of the West Bank, including East Jerusalem, and the Gaza Strip,” Mr Abbas was quoted by WAFA as saying.The two met for about an hour but did not address the media.“We need to see the US playing the role of an honest mediator, not adopting the Israeli narrative,” head of the Palestinian Mission to the United Kingdom Husam Zomlot told CBS on Sunday.Mr Blinken had some “good ideas” about the future, he said, but “now is the time to... stop the murder of civilians”. Mr Abbas told Mr Blinken there should be an immediate ceasefire and that aid should be allowed into Gaza, according to spokesperson Nabil Abu Rudeineh.Mr Blinken said the United States was committed to getting aid into Gaza and restoring essential services there, State Department spokesperson Matthew Miller said in a statement on the meeting.“The Secretary also expressed the commitment of the United States to working toward the realisation of the Palestinians’ legitimate aspirations for the establishment of a Palestinian state,” Mr Miller said.Troubled authorityMr Blinken has suggested an “effective and revitalized Palestinian Authority” would make the most sense to ultimately run the strip, but admitted that other countries and international agencies would likely play a role in security and governance in the interim.Mr Abbas’ PA, which exercises limited self-rule in the Israeli-occupied West Bank, has seen its popularity shrivel amid allegations of graft, incompetence and widely hated security cooperation arrangements with Israel. It is unclear who will succeed the aging and ailing Mr Abbas, 87, a staunch opponent of Hamas.The foreign ministers of Egypt and Jordan said on Saturday after meeting Mr Blinken that it was premature to talk about the future of Gaza, as they called for an immediate ceasefire to address the humanitarian crisis that has engulfed the strip’s 2.3 million residents.Mr Blinken argued that a ceasefire would only allow Hamas to regroup, but is trying to convince Israel to agree to location-specific pauses that would allow much needed aid to be distributed within Gaza.While Hamas tightly controls besieged Gaza, the West Bank is a complex patchwork of hillside cities, Israeli settlements and army checkpoints that split Palestinian communities.Violence was already at a more than 15-year high in 2023, but has surged further since the war began, with more than 170 attacks on Palestinians involving Jewish settlers recorded by the United Nations.Mr Blinken credited Mr Abbas for tamping down tension in the West Bank and told him he had pressed Israeli officials for accountability, the senior State Department official said. REUTERS'},\n",
       " 8: {'Title': 'South Korea take Singapore ‘very, very seriously’, says coach Jurgen Klinsmann ',\n",
       "  'indexes': [249, 1249],\n",
       "  'Text': 'SINGAPORE – Theirs is a battle between David and Goliath.On one side stand South Korea, ranked 24th in the world and third in Asia, who have appeared at the last 10 World Cups, including the previous edition in Qatar last December, when they reached the round of 16. On the other are Singapore, 155th in the world and 31st in Asia, who have never even come close to qualifying for the football showpiece.Furthermore, the Taegeuk Warriors, led by Tottenham Hotspur captain Son Heung-min, will have a capacity crowd of over 66,000 behind them when the teams meet in their Group C World Cup qualifying match at the Seoul World Cup Stadium.So it is no understatement that the hosts are anything but overwhelming favourites on Thursday. And yet, South Korea coach Jurgen Klinsmann is not taking anything for granted. Last week, the German legend and his assistant, former South Korea international Cha Du-ri, made a trip to Singapore to watch the Asian Champions League game between Lion City Sailors and Jeonbuk Hyundai Motors at the Jalan Besar Stadium. Klinsmann, who wanted to have a closer look at Jeonbuk’s South Korea internationals and also the Singapore national players, refused to be drawn on the possibility of his team serving out a lopsided scoreline. In their last competitive ties in 1989, Singapore lost 3-0 home and away during the first round of Asian World Cup qualifiers.When asked if the objective for his team on Thursday was to register a resounding victory, Klinsmann told The Straits Times: “No, no. The aim is very simple, it is to win the game. That is the clear message to the team. “We don’t think that we are superior by any means. We are the favourites but the game starts 0-0. And then anything can happen.” Son echoed his coach’s feelings, saying at a pre-match press conference on Wednesday: “There’s no easy game and we take the game tomorrow as (seriously) as any other game that we (will) ever play.”Klinsmann, who was appointed in February, cited their last outing in October, when they thumped Asean’s highest-ranked side Vietnam 6-0. He said: “We played Vietnam in the last friendly and they had two chances before we scored. And then when it was 2-0, they hit the crossbar with a free kick. So they could have scored two or three goals. “So, we take (Singapore) very, very seriously, with a lot of respect. It starts 0-0 and it will be a lot of work for us. We will not underestimate the Singapore team at all. They have quality players, they know how to play... and we expect a difficult game.”After a shaky start to his tenure, Klinsmann has guided the Taegeuk Warriors to three straight wins in friendly matches. For their upcoming qualifiers, including next Tuesday’s visit to China, Klinsmann has picked his strongest possible squad, featuring 11 Europe-based players, like Lee Kang-in (Paris Saint-Germain), Kim Min-jae (Bayern Munich) and Hwang Hee-chan (Wolverhampton Wanderers). '},\n",
       " 9: {'Title': 'Medics evacuate 31 premature babies from Gaza hospital',\n",
       "  'indexes': [427, 428, 1710, 1989],\n",
       "  'Text': 'RAFAH - Palestinian medics evacuated 31 premature babies from Gaza City’s war-torn Al-Shifa hospital on Nov 19 in a high-risk operation, the United Nations said, pledging to also move patients and staff who remain there. The hospital, Gaza’s largest, has been described by the UN’s World Health Organisation (WHO) as a “death zone”, after it sent a team to visit the facility on Nov 18. Director-general of hospitals in Gaza Mohammed Zaqut told AFP “all 31 premature babies in Al-Shifa hospital... have been evacuated” and said “preparations are under way” for them to enter Egypt.It was also confirmed by the Palestinian Red Crescent Society (PCRS) which said the transfer had been carried out in coordination with United Nations agencies including the WHO.Al-Shifa hospital has become a focal point for Israeli operations, with the army claiming Hamas uses it as a base. Hamas, and medical staff, have denied the accusations.Israel is seeking to destroy the Hamas militants behind the October 7 attacks that Israeli officials say killed around 1,200 people, mostly civilians, and saw around 240 people taken hostage.The Hamas health authority says Israel’s relentless military campaign has killed more than 12,300 people in Gaza, also mostly civilians.WHO chief Tedros Adhanom Ghebreyesus said 31 “very sick” babies were moved out of Al-Shifa hospital in six PCRS ambulances under “extremely intense and high-risk security conditions”. They were taken to a hospital in the southern Gaza city of Rafah where they were “receiving urgent care in the neonatal intensive care unit”, he wrote on X, formerly Twitter, saying they were accompanied by “six health workers and 10 staff family members”.The agency was planning “further missions... to urgently transport remaining patients and health staff out of Al-Shifa Hospital”, he added, once guarantees of safe passage are secured.The WHO’s initial visit to Al-Shifa came after hundreds fled the hospital on Nov 18, following what Al-Shifa’s director said were Israeli army orders for it to be emptied.  Israel denied ordering the move. An AFP journalist at the scene saw crowds of sick, injured and displaced people walking towards the seafront, with the Health Ministry saying 120 patients had stayed behind, among them a number of premature babies. “Many patients can not leave the hospital as they are in the ICU beds or the baby incubators,” Al Shifa’s Dr Ahmed al-Mokhallalati wrote on Nov 18 on X.Following its visit to Al-Shifa, the WHO said 291 patients and 25 health workers were still inside the hospital, figures issued several hours before the babies were evacuated.Since Nov 11, when fuel supplies ran out at Al-Shifa, eight babies have died due to the lack of electricity to run incubator units, the health ministry has said. AFP                  '}}"
      ]
     },
     "execution_count": 196,
     "metadata": {},
     "output_type": "execute_result"
    }
   ],
   "source": [
    "similar_articles_dict"
   ]
  },
  {
   "cell_type": "code",
   "execution_count": 215,
   "metadata": {},
   "outputs": [
    {
     "name": "stdout",
     "output_type": "stream",
     "text": [
      "Test Article Index: 1\n",
      "Test Article Title: Fiji says will strengthen defence cooperation with Australia\n",
      "Supporting Articles:\n",
      " - Safety of defence personnel 'utmost priority', Australia says after China warship incident\n",
      " - Australia's Albanese to highlight trade on China visit as ties warm\n",
      " - Australian delegation heading to Beijing for dialogue, government says\n",
      " - Australian PM Anthony Albanese says China ties damaged by navy divers incident\n",
      " - Philippines, Australia sign strategic partnership deal with eye on China\n",
      "\n",
      "--------------------------------------------------------------------------------\n",
      "\n",
      "Test Article Index: 4\n",
      "Test Article Title: Blinken says Palestinian voices key to Gaza future\n",
      "Supporting Articles:\n",
      " - Blinken, Netanyahu shelter in bunker amid air raid sirens in Tel Aviv\n",
      " - Blinken rebuffs Arab states’ push for immediate Gaza ceasefire\n",
      " - Blinken says 'far too many' Palestinians killed as Israel battles Hamas in Gaza\n",
      " - Jordan minister doubts Israel can wipe out Hamas\n",
      " - Blinken tells Arab leaders 'no more business as usual' with Hamas\n",
      " - Blinken tells Lebanon it would be affected by being drawn into Israel conflict\n",
      "\n",
      "--------------------------------------------------------------------------------\n",
      "\n",
      "Test Article Index: 8\n",
      "Test Article Title: South Korea take Singapore ‘very, very seriously’, says coach Jurgen Klinsmann \n",
      "Supporting Articles:\n",
      " - Safuwan, Ikhsan return for Lions’ World Cup qualifiers against South Korea and Thailand\n",
      " - Five-star South Koreans down Singapore at home in World Cup football qualifier\n",
      "\n",
      "--------------------------------------------------------------------------------\n",
      "\n",
      "Test Article Index: 9\n",
      "Test Article Title: Medics evacuate 31 premature babies from Gaza hospital\n",
      "Supporting Articles:\n",
      " - Israeli military says it found signs hostages were held in Gaza hospital\n",
      " - Israeli tanks reported near hospital in embattled north Gaza\n",
      " - Israeli military says it will help evacuate babies from Gaza hospital\n",
      " - Israel offers to evacuate babies from crippled Gaza hospital after 2 newborns die as fuel runs out\n",
      "\n",
      "--------------------------------------------------------------------------------\n",
      "\n"
     ]
    }
   ],
   "source": [
    "for test_index, info in similar_articles_dict.items():\n",
    "    print(f\"Test Article Index: {test_index}\")\n",
    "    print(f\"Test Article Title: {info['Title']}\")\n",
    "    print(\"Supporting Articles:\")\n",
    "    for idx in info['indexes']:\n",
    "        print(f\" - {df_train.loc[idx, 'Title']}\")\n",
    "    print(\"\\n\" + \"-\"*80 + \"\\n\")"
   ]
  },
  {
   "cell_type": "code",
   "execution_count": 216,
   "metadata": {},
   "outputs": [
    {
     "data": {
      "text/plain": [
       "[4, 8, 9]"
      ]
     },
     "execution_count": 216,
     "metadata": {},
     "output_type": "execute_result"
    }
   ],
   "source": [
    "# Initialize the generative model\n",
    "llm = genai.GenerativeModel('gemini-1.0-pro')\n",
    "\n",
    "# Define the template\n",
    "template = '''\n",
    "You are a highly intelligent AI tasked with analyzing articles to determine whether generating a timeline of events leading up to the key event in the article would be beneficial. Consider the following factors to make your decision:\n",
    "\n",
    "    1. **Significance of the Event**:\n",
    "       - Does the event have a significant impact on a large number of people, industries, or countries?\n",
    "       - Are the potential long-term consequences of the event important?\n",
    "\n",
    "    2. **Controversy or Debate**:\n",
    "       - Is the event highly controversial or has it sparked significant debate?\n",
    "       - Has the event garnered significant media attention and public interest?\n",
    "\n",
    "    3. **Complexity**:\n",
    "       - Does the event involve multiple factors, stakeholders, or causes that make it complex?\n",
    "       - Does the event have deep historical roots or is it the culmination of long-term developments?\n",
    "\n",
    "    4. **Personal Relevance**:\n",
    "       - Does the event directly affect the reader or their community?\n",
    "       - Is the event of particular interest to the reader due to economic implications, political affiliations, or social issues?\n",
    "\n",
    "    5. **Educational Purposes**:\n",
    "       - Would a timeline provide valuable learning or research information?\n",
    "\n",
    "    Here is the information for the article:\n",
    "\n",
    "    Title:{title}\n",
    "    Text: {text}\n",
    "\n",
    "    Based on the factors above, decide whether generating a timeline of events leading up to the key event in this article would be beneficial. Provide a brief explanation for your decision. \n",
    "    Then reply in terms of the need with a score 1 - 5, 1 means unnecessary, 5 means necessary, in JSON format, for example score 3. No need for an explanation\n",
    "    ANSWER:\n",
    "'''\n",
    "\n",
    "# Create the prompt template\n",
    "prompt = PromptTemplate(\n",
    "    input_variables=[\"text\", \"title\"],\n",
    "    template=template,\n",
    ")\n",
    "\n",
    "timeline_keys = []\n",
    "\n",
    "for key, title_index in list(similar_articles_dict.items()):\n",
    "    \n",
    "    # Define the headline\n",
    "    headline = title_index['Title']\n",
    "    body = title_index['Text']\n",
    "\n",
    "    # Format the prompt\n",
    "    final_prompt = prompt.format(title=headline, text=body)\n",
    "\n",
    "    # Generate content using the generative model\n",
    "    response = llm.generate_content(\n",
    "        final_prompt,\n",
    "        safety_settings={\n",
    "            HarmCategory.HARM_CATEGORY_HATE_SPEECH: HarmBlockThreshold.BLOCK_NONE,\n",
    "            HarmCategory.HARM_CATEGORY_HARASSMENT: HarmBlockThreshold.BLOCK_NONE,\n",
    "            HarmCategory.HARM_CATEGORY_SEXUALLY_EXPLICIT: HarmBlockThreshold.BLOCK_NONE,\n",
    "            HarmCategory.HARM_CATEGORY_DANGEROUS_CONTENT: HarmBlockThreshold.BLOCK_NONE\n",
    "        }\n",
    "    )\n",
    "    for i in range(len(response.parts[0].text)):\n",
    "      if response.parts[0].text[i:i+5] == 'score':\n",
    "         score = int(response.parts[0].text[i+8])\n",
    "         if score >=3:\n",
    "               timeline_keys.append(key)\n",
    "timeline_keys\n",
    "    "
   ]
  },
  {
   "cell_type": "code",
   "execution_count": 278,
   "metadata": {},
   "outputs": [],
   "source": [
    "from langchain_core.output_parsers import JsonOutputParser\n",
    "from langchain_core.pydantic_v1 import BaseModel, Field\n",
    "\n",
    "template = '''\n",
    "Given a series of articles, each containing a publication date, title, and content, your task is to construct a detailed timeline of events leading up to the main event described in the first article.\n",
    "Analyze the First Article: Begin by thoroughly analyzing the title, content, and publication date of the first article to understand the main event.\n",
    "Use Subsequent Articles: For each following article, examine the title, content, and publication date. Identify events, context, and any time references such as \"last week,\" \"last month,\" or specific dates.\n",
    "\n",
    "Construct the Timeline:\n",
    "Chronological Order: Organize the events chronologically, using the publication dates and time references within the articles.\n",
    "Detailed Descriptions: Provide detailed descriptions of each event, explaining how it relates to the main event of the first article.\n",
    "Contextual Links: Use information from the articles to link events together logically and coherently.\n",
    "Handle Ambiguities: If an article uses ambiguous time references, infer the date based on the publication date of the article and provide a clear rationale for your inference.\n",
    "\n",
    "Contextual Links:\n",
    "External Influences: Mention any external influences (e.g., global conflicts, economic trends, scientific discoveries) that might have indirectly affected the events.\n",
    "Internal Issues: Highlight any internal issues or developments (e.g., political changes, organizational restructuring, societal movements) within the entities involved that might have impacted the events.\n",
    "Efforts for Improvement: Note any indications of efforts to improve the situation (e.g., policy changes, strategic initiatives, collaborative projects) despite existing challenges.\n",
    "\n",
    "Be as thorough and precise as possible, ensuring the timeline accurately reflects the sequence and context of events leading to the main event.\n",
    "\n",
    "Series of Articles: {text}\n",
    "\n",
    "\n",
    "Now, I want you to carefully analyse the timeline and cross reference that the information is correct, and that it corresponds with the correct date.\n",
    "Then, check carefully to ensure that the dates are arranged in chronological order.\n",
    "\n",
    "Return them as a JSON object that the keys are Dates and Events the explanation, respectively.\n",
    "This is a good example of how to return the output (Do not include this in the timeline):\n",
    "Date: 2000-05-22\n",
    "Event: Reports emerge about the successful evacuation of thousands of residents, and the government begins planning long-term recovery efforts. Article: 1\n",
    "Date: 2023-08-01\n",
    "Event: Major flood hits the southern region of Country X, causing significant damage and displacing thousands of residents. Article: 2\n",
    "Date: 2023-08-05 \n",
    "Event: The government of Country X declares a state of emergency in response to the flooding, mobilizing national resources for disaster relief. Article: 2\n",
    "Date: 2023-08-10\n",
    "Event: International aid begins to arrive in Country X, with several countries sending supplies and personnel to assist in the relief efforts. Article: 3\n",
    "'''\n",
    "\n",
    "# Create the prompt template\n",
    "prompt = PromptTemplate(\n",
    "    input_variables=[\"text\"],\n",
    "    template=template,\n",
    ")"
   ]
  },
  {
   "cell_type": "code",
   "execution_count": 279,
   "metadata": {},
   "outputs": [
    {
     "data": {
      "text/plain": [
       "{'Title': 'Blinken says Palestinian voices key to Gaza future',\n",
       " 'indexes': [280, 632, 1301, 1397, 1480, 1505],\n",
       " 'Text': 'RAMALLAH/BAGHDAD - Top United States diplomat Antony Blinken said the Palestinian Authority (PA) should play a central role in the future of the Gaza Strip, as he met Iraqi leaders and toured the region amid spiralling tensions over Israel’s war with Hamas.Mr Blinken passed through Israeli checkpoints to meet Palestinian Authority President Mahmoud Abbas in the West Bank city of Ramallah, then travelled on to Iraq. It was his second visit to the region since the Hamas militants, who rule Gaza, launched a surprise attack on Israel on Oct 7, killing 1,400 people and taking more than 240 others hostage, according to Israel.Palestinian views, voices and aspirations need to be “at the centre” of conversations about the future of Gaza, Mr Blinken told reporters in Baghdad. As Israel continued a campaign of air strikes that Gaza health officials say has killed 9,770 Palestinians, Secretary of State Blinken rebuffed calls for a ceasefire from Arab officials on Saturday after appealing, unsuccessfully, to Israel for more limited pauses to the fighting a day earlier. “This is a process,” Mr Blinken said about the push for humanitarian pauses, saying Israel has important questions about how they would work, and details are being discussed now. It is important that any pause advance several issues, including hostage release, he said. In discussions with the Iraqi government, Mr Blinken said: “I made very clear that the attacks, the threats coming from militia that are aligned with Iran, are totally unacceptable.” The United States is sending a message to “anyone who might seek to take advantage of the conflict in Gaza to threaten our personnel here or anywhere else in the region: ‘Don’t do it’”, he said.Post-conflict plan  As well as seeking to ensure the conflict does not spread in the region, Mr Blinken is trying to kick-start discussions on how Gaza could be governed, after the complete destruction of Hamas that Israel says is its aim.Mr Abbas told Mr Blinken that Gaza is “an integral part” of the state Palestinians want, according to an account of the meeting from the official Palestinian news agency WAFA, which suggested any PA role in governing Gaza would have to be part of a wider settlement of the decades-old conflict. “We will fully assume our responsibilities within the framework of a comprehensive political solution that includes all of the West Bank, including East Jerusalem, and the Gaza Strip,” Mr Abbas was quoted by WAFA as saying.The two met for about an hour but did not address the media.“We need to see the US playing the role of an honest mediator, not adopting the Israeli narrative,” head of the Palestinian Mission to the United Kingdom Husam Zomlot told CBS on Sunday.Mr Blinken had some “good ideas” about the future, he said, but “now is the time to... stop the murder of civilians”. Mr Abbas told Mr Blinken there should be an immediate ceasefire and that aid should be allowed into Gaza, according to spokesperson Nabil Abu Rudeineh.Mr Blinken said the United States was committed to getting aid into Gaza and restoring essential services there, State Department spokesperson Matthew Miller said in a statement on the meeting.“The Secretary also expressed the commitment of the United States to working toward the realisation of the Palestinians’ legitimate aspirations for the establishment of a Palestinian state,” Mr Miller said.Troubled authorityMr Blinken has suggested an “effective and revitalized Palestinian Authority” would make the most sense to ultimately run the strip, but admitted that other countries and international agencies would likely play a role in security and governance in the interim.Mr Abbas’ PA, which exercises limited self-rule in the Israeli-occupied West Bank, has seen its popularity shrivel amid allegations of graft, incompetence and widely hated security cooperation arrangements with Israel. It is unclear who will succeed the aging and ailing Mr Abbas, 87, a staunch opponent of Hamas.The foreign ministers of Egypt and Jordan said on Saturday after meeting Mr Blinken that it was premature to talk about the future of Gaza, as they called for an immediate ceasefire to address the humanitarian crisis that has engulfed the strip’s 2.3 million residents.Mr Blinken argued that a ceasefire would only allow Hamas to regroup, but is trying to convince Israel to agree to location-specific pauses that would allow much needed aid to be distributed within Gaza.While Hamas tightly controls besieged Gaza, the West Bank is a complex patchwork of hillside cities, Israeli settlements and army checkpoints that split Palestinian communities.Violence was already at a more than 15-year high in 2023, but has surged further since the war began, with more than 170 attacks on Palestinians involving Jewish settlers recorded by the United Nations.Mr Blinken credited Mr Abbas for tamping down tension in the West Bank and told him he had pressed Israeli officials for accountability, the senior State Department official said. REUTERS'}"
      ]
     },
     "execution_count": 279,
     "metadata": {},
     "output_type": "execute_result"
    }
   ],
   "source": [
    "similar_articles_dict[4]"
   ]
  },
  {
   "cell_type": "code",
   "execution_count": 280,
   "metadata": {},
   "outputs": [
    {
     "data": {
      "text/plain": [
       "'```\\n{\\n  \"Date\": \"2023-10-22\",\\n  \"Event\": \"US Secretary of State Anthony Blinken warns Lebanon to remain out of the conflict between Israel and the Palestinian militant group Hamas.\"\\n},\\n{\\n  \"Date\": \"2023-10-17\",\\n  \"Event\": \"Blinken and Israeli PM Benjamin Netanyahu shelter in a bunker during a meeting in Tel Aviv as air raid sirens sound.\"\\n},\\n{\\n  \"Date\": \"2023-11-05\",\\n  \"Event\": \"Blinken rebuffs Arab states\\' push for an immediate Gaza ceasefire, arguing that it would allow Hamas to regroup.\"\\n},\\n{\\n  \"Date\": \"2023-11-11\",\\n  \"Event\": \"Blinken says \\'far too many\\' Palestinians have been killed in the conflict between Israel and Hamas, and calls for more protection of civilians.\"\\n},\\n{\\n  \"Date\": \"2023-11-18\",\\n  \"Event\": \"Jordan\\'s foreign minister expresses doubts about Israel\\'s ability to eliminate Hamas.\"\\n},\\n{\\n  \"Date\": \"2023-10-14\",\\n  \"Event\": \"Blinken tells Arab leaders that there can be \\'no more business as usual\\' with Hamas, following deadly attacks in Israel.\"\\n},\\n{\\n  \"Date\": \"2023-10-04\",\\n  \"Event\": \"British Prime Minister Rishi Sunak cancels part of the high-speed rail project to Manchester, citing a need to redirect funds to other transport projects.\"\\n}\\n```'"
      ]
     },
     "execution_count": 280,
     "metadata": {},
     "output_type": "execute_result"
    }
   ],
   "source": [
    "trial_keys = [4]\n",
    "timelines_text = []\n",
    "for key in trial_keys:\n",
    "    df_retrieve = df_train.loc[similar_articles_dict[key]['indexes']]\n",
    "    df_retrieve = pd.concat([df_retrieve, df_test.iloc[[key-1]]], axis=0)\n",
    "    indiv_text = list(df_retrieve.combined.values)\n",
    "    indiv_dates = list(df_retrieve.Publication_date.values)\n",
    "    all = []\n",
    "    for i in range(len(indiv_text)-1,-1,-1):\n",
    "        s =  f'Publication date: {indiv_dates[i]}  {indiv_text[i]}'\n",
    "        all.append(s)\n",
    "    sum_of_text = \", \".join(all) \n",
    "    \n",
    "    final_prompt  = prompt.format(text=sum_of_text)\n",
    "    response = llm.generate_content(final_prompt,\n",
    "                                   safety_settings={\n",
    "                                    HarmCategory.HARM_CATEGORY_HATE_SPEECH: HarmBlockThreshold.BLOCK_NONE,\n",
    "                                    HarmCategory.HARM_CATEGORY_HARASSMENT: HarmBlockThreshold.BLOCK_NONE,\n",
    "                                    HarmCategory.HARM_CATEGORY_SEXUALLY_EXPLICIT: HarmBlockThreshold.BLOCK_NONE, \n",
    "                                    HarmCategory.HARM_CATEGORY_DANGEROUS_CONTENT: HarmBlockThreshold.BLOCK_NONE\n",
    "                                    }\n",
    "    )\n",
    "    timeline = response.parts[0].text\n",
    "    timelines_text.append(timeline)\n"
   ]
  },
  {
   "cell_type": "code",
   "execution_count": 285,
   "metadata": {},
   "outputs": [
    {
     "data": {
      "text/plain": [
       "[{'Date': '2023-10-22',\n",
       "  'Event': 'US Secretary of State Anthony Blinken warns Lebanon to remain out of the conflict between Israel and the Palestinian militant group Hamas.'},\n",
       " {'Date': '2023-10-17',\n",
       "  'Event': 'Blinken and Israeli PM Benjamin Netanyahu shelter in a bunker during a meeting in Tel Aviv as air raid sirens sound.'},\n",
       " {'Date': '2023-11-05',\n",
       "  'Event': \"Blinken rebuffs Arab states' push for an immediate Gaza ceasefire, arguing that it would allow Hamas to regroup.\"},\n",
       " {'Date': '2023-11-11',\n",
       "  'Event': \"Blinken says 'far too many' Palestinians have been killed in the conflict between Israel and Hamas, and calls for more protection of civilians.\"},\n",
       " {'Date': '2023-11-18',\n",
       "  'Event': \"Jordan's foreign minister expresses doubts about Israel's ability to eliminate Hamas.\"},\n",
       " {'Date': '2023-10-14',\n",
       "  'Event': \"Blinken tells Arab leaders that there can be 'no more business as usual' with Hamas, following deadly attacks in Israel.\"},\n",
       " {'Date': '2023-10-04',\n",
       "  'Event': 'British Prime Minister Rishi Sunak cancels part of the high-speed rail project to Manchester, citing a need to redirect funds to other transport projects.'}]"
      ]
     },
     "execution_count": 285,
     "metadata": {},
     "output_type": "execute_result"
    }
   ],
   "source": [
    "string = timeline.strip('```')\n",
    "json_string = f\"[{string}]\"\n",
    "data = json.loads(json_string)\n",
    "data"
   ]
  },
  {
   "cell_type": "code",
   "execution_count": 286,
   "metadata": {},
   "outputs": [
    {
     "data": {
      "text/plain": [
       "[{'Date': '2023-10-04',\n",
       "  'Event': 'British Prime Minister Rishi Sunak cancels part of the high-speed rail project to Manchester, citing a need to redirect funds to other transport projects.'},\n",
       " {'Date': '2023-10-14',\n",
       "  'Event': \"Blinken tells Arab leaders that there can be 'no more business as usual' with Hamas, following deadly attacks in Israel.\"},\n",
       " {'Date': '2023-10-17',\n",
       "  'Event': 'Blinken and Israeli PM Benjamin Netanyahu shelter in a bunker during a meeting in Tel Aviv as air raid sirens sound.'},\n",
       " {'Date': '2023-10-22',\n",
       "  'Event': 'US Secretary of State Anthony Blinken warns Lebanon to remain out of the conflict between Israel and the Palestinian militant group Hamas.'},\n",
       " {'Date': '2023-11-05',\n",
       "  'Event': \"Blinken rebuffs Arab states' push for an immediate Gaza ceasefire, arguing that it would allow Hamas to regroup.\"},\n",
       " {'Date': '2023-11-11',\n",
       "  'Event': \"Blinken says 'far too many' Palestinians have been killed in the conflict between Israel and Hamas, and calls for more protection of civilians.\"},\n",
       " {'Date': '2023-11-18',\n",
       "  'Event': \"Jordan's foreign minister expresses doubts about Israel's ability to eliminate Hamas.\"}]"
      ]
     },
     "execution_count": 286,
     "metadata": {},
     "output_type": "execute_result"
    }
   ],
   "source": [
    "sorted_events = sorted(data, key=lambda x: x['Date'])\n",
    "sorted_events"
   ]
  },
  {
   "cell_type": "code",
   "execution_count": 287,
   "metadata": {},
   "outputs": [],
   "source": [
    "with open('timeline_trial.json', 'w') as json_file:\n",
    "    json.dump(sorted_events, json_file, indent=4)"
   ]
  },
  {
   "cell_type": "code",
   "execution_count": null,
   "metadata": {},
   "outputs": [],
   "source": []
  }
 ],
 "metadata": {
  "kernelspec": {
   "display_name": "timeline",
   "language": "python",
   "name": "python3"
  },
  "language_info": {
   "codemirror_mode": {
    "name": "ipython",
    "version": 3
   },
   "file_extension": ".py",
   "mimetype": "text/x-python",
   "name": "python",
   "nbconvert_exporter": "python",
   "pygments_lexer": "ipython3",
   "version": "3.11.7"
  }
 },
 "nbformat": 4,
 "nbformat_minor": 2
}
