{
 "cells": [
  {
   "cell_type": "code",
   "execution_count": 1,
   "metadata": {},
   "outputs": [
    {
     "data": {
      "text/plain": [
       "True"
      ]
     },
     "execution_count": 1,
     "metadata": {},
     "output_type": "execute_result"
    }
   ],
   "source": [
    "# Import necessary libraries\n",
    "import os\n",
    "import ast\n",
    "import csv\n",
    "import json\n",
    "import numpy as np\n",
    "import pandas as pd\n",
    "import matplotlib.pyplot as plt\n",
    "import seaborn as sns\n",
    "from pymongo import MongoClient\n",
    "from sklearn.cluster import KMeans\n",
    "from sklearn.metrics import silhouette_score\n",
    "from sklearn.manifold import TSNE\n",
    "from sklearn.neighbors import KNeighborsClassifier\n",
    "from dotenv import load_dotenv\n",
    "from tqdm import trange\n",
    "\n",
    "# Import libraries for working with language models and Google Gemini\n",
    "from langchain_openai import ChatOpenAI, OpenAI\n",
    "from langchain_core.output_parsers import StrOutputParser\n",
    "from langchain_core.prompts import PromptTemplate, ChatPromptTemplate\n",
    "import google.generativeai as genai\n",
    "from google.generativeai.types import HarmCategory, HarmBlockThreshold\n",
    "\n",
    "# Install the google-generativeai package (uncomment the line below to run the installation)\n",
    "!pip install -U -q google-generativeai\n",
    "\n",
    "# Set up the environment for plotting\n",
    "%matplotlib inline\n",
    "\n",
    "# Load environment variables\n",
    "load_dotenv()\n"
   ]
  },
  {
   "cell_type": "code",
   "execution_count": 3,
   "metadata": {},
   "outputs": [],
   "source": [
    "# Function to load and combine the split dataframes\n",
    "def load_and_merge_csv(file_pattern, num_files):\n",
    "    file_names = [file_pattern.format(i) for i in range(1, num_files + 1)]\n",
    "    dataframes = [pd.read_csv(filename) for filename in file_names]\n",
    "    merged_df = pd.concat(dataframes, ignore_index=True)\n",
    "    return merged_df\n",
    "\n",
    "df = load_and_merge_csv('data_upload/cluster_labels{}.csv', 4)"
   ]
  },
  {
   "cell_type": "code",
   "execution_count": 4,
   "metadata": {},
   "outputs": [
    {
     "name": "stdout",
     "output_type": "stream",
     "text": [
      "Common Theme:Technology, Sustainability, and Social Impact\n",
      "Titles: \n",
      "['Most online hate targets women, says European Union report'\n",
      " 'Evening Update: Today’s headlines from The Straits Times on Nov 19, 2023'\n",
      " 'Amazon and TikTok leave opening in next e-commerce boom '\n",
      " \"Lessons that helped Singapore's Osim open some 400 stores in 100 cities\"\n",
      " 'Hassle-free cleaning: Smart robot vacuum cleans own mop pads and revisits dirty areas'\n",
      " 'TikTok opposes mooted Indonesia social media transaction ban'\n",
      " 'Binance sees $1.3 billion in outflows after Zhao steps down to settle US probe '\n",
      " \"Apple files legal challenge to EU's Digital Markets Act\"]\n"
     ]
    }
   ],
   "source": [
    "def visualise_titles(df, cluster):\n",
    "    sample = pd.DataFrame(df[df['Cluster'] == cluster]).reset_index()\n",
    "    print('Common Theme:' +sample.Common_Theme[0])\n",
    "    print('Titles: ')\n",
    "    print(sample.sample(8).Title.values)\n",
    "    \n",
    "visualise_titles(df,3)"
   ]
  },
  {
   "cell_type": "code",
   "execution_count": 5,
   "metadata": {},
   "outputs": [
    {
     "data": {
      "text/html": [
       "<div>\n",
       "<style scoped>\n",
       "    .dataframe tbody tr th:only-of-type {\n",
       "        vertical-align: middle;\n",
       "    }\n",
       "\n",
       "    .dataframe tbody tr th {\n",
       "        vertical-align: top;\n",
       "    }\n",
       "\n",
       "    .dataframe thead th {\n",
       "        text-align: right;\n",
       "    }\n",
       "</style>\n",
       "<table border=\"1\" class=\"dataframe\">\n",
       "  <thead>\n",
       "    <tr style=\"text-align: right;\">\n",
       "      <th></th>\n",
       "      <th>id</th>\n",
       "      <th>Text</th>\n",
       "      <th>Title</th>\n",
       "      <th>embeddings</th>\n",
       "      <th>Cluster</th>\n",
       "      <th>combined</th>\n",
       "      <th>Common_Theme</th>\n",
       "    </tr>\n",
       "  </thead>\n",
       "  <tbody>\n",
       "    <tr>\n",
       "      <th>0</th>\n",
       "      <td>nos7tzp7jprxlqxe</td>\n",
       "      <td>GENEVA – The remains of a climber discovered i...</td>\n",
       "      <td>Remains found in Swiss Alps are those of Briti...</td>\n",
       "      <td>[0.063923, 0.065677, -0.001089, 0.065425, -0.0...</td>\n",
       "      <td>17</td>\n",
       "      <td>Title: Remains found in Swiss Alps are those o...</td>\n",
       "      <td>Violence and Injustice</td>\n",
       "    </tr>\n",
       "    <tr>\n",
       "      <th>1</th>\n",
       "      <td>zvv4ue0w64vfqoz1</td>\n",
       "      <td>Ms Greta Thunburg became a household name when...</td>\n",
       "      <td>Involve youth in shaping ethical use of AI</td>\n",
       "      <td>[0.063668, 0.098002, -0.022514, -0.033031, -0....</td>\n",
       "      <td>3</td>\n",
       "      <td>Title: Involve youth in shaping ethical use of...</td>\n",
       "      <td>Technology, Sustainability, and Social Impact</td>\n",
       "    </tr>\n",
       "    <tr>\n",
       "      <th>2</th>\n",
       "      <td>aph1tgua3xxoq2sg</td>\n",
       "      <td>NEW YORK  -     Defending women's champion Iga...</td>\n",
       "      <td>Swiatek, Djokovic headline third round action ...</td>\n",
       "      <td>[-0.019315, 0.066645, 0.009547, 0.029555, -0.0...</td>\n",
       "      <td>10</td>\n",
       "      <td>Title: Swiatek, Djokovic headline third round ...</td>\n",
       "      <td>Sports and Competition</td>\n",
       "    </tr>\n",
       "    <tr>\n",
       "      <th>3</th>\n",
       "      <td>rlh53czyst054zfn</td>\n",
       "      <td>JAKARTA – Hopes of a return to democracy in ju...</td>\n",
       "      <td>‘Systematic repression’ crushing Myanmar’s dem...</td>\n",
       "      <td>[0.067328, -0.004407, 0.010127, -0.004268, -0....</td>\n",
       "      <td>4</td>\n",
       "      <td>Title: ‘Systematic repression’ crushing Myanma...</td>\n",
       "      <td>Political Crises and Human Rights Concerns</td>\n",
       "    </tr>\n",
       "    <tr>\n",
       "      <th>4</th>\n",
       "      <td>aksixz7uun2gkpss</td>\n",
       "      <td>JERUSALEM  -     Israel's shekel dropped to it...</td>\n",
       "      <td>Israel's shekel falls as judicial showdown looms</td>\n",
       "      <td>[-0.043186, 0.076352, -0.015492, -0.02859, -0....</td>\n",
       "      <td>18</td>\n",
       "      <td>Title: Israel's shekel falls as judicial showd...</td>\n",
       "      <td>Politics and Elections</td>\n",
       "    </tr>\n",
       "  </tbody>\n",
       "</table>\n",
       "</div>"
      ],
      "text/plain": [
       "                 id                                               Text  \\\n",
       "0  nos7tzp7jprxlqxe  GENEVA – The remains of a climber discovered i...   \n",
       "1  zvv4ue0w64vfqoz1  Ms Greta Thunburg became a household name when...   \n",
       "2  aph1tgua3xxoq2sg  NEW YORK  -     Defending women's champion Iga...   \n",
       "3  rlh53czyst054zfn  JAKARTA – Hopes of a return to democracy in ju...   \n",
       "4  aksixz7uun2gkpss  JERUSALEM  -     Israel's shekel dropped to it...   \n",
       "\n",
       "                                               Title  \\\n",
       "0  Remains found in Swiss Alps are those of Briti...   \n",
       "1        Involve youth in shaping ethical use of AI    \n",
       "2  Swiatek, Djokovic headline third round action ...   \n",
       "3  ‘Systematic repression’ crushing Myanmar’s dem...   \n",
       "4   Israel's shekel falls as judicial showdown looms   \n",
       "\n",
       "                                          embeddings  Cluster  \\\n",
       "0  [0.063923, 0.065677, -0.001089, 0.065425, -0.0...       17   \n",
       "1  [0.063668, 0.098002, -0.022514, -0.033031, -0....        3   \n",
       "2  [-0.019315, 0.066645, 0.009547, 0.029555, -0.0...       10   \n",
       "3  [0.067328, -0.004407, 0.010127, -0.004268, -0....        4   \n",
       "4  [-0.043186, 0.076352, -0.015492, -0.02859, -0....       18   \n",
       "\n",
       "                                            combined  \\\n",
       "0  Title: Remains found in Swiss Alps are those o...   \n",
       "1  Title: Involve youth in shaping ethical use of...   \n",
       "2  Title: Swiatek, Djokovic headline third round ...   \n",
       "3  Title: ‘Systematic repression’ crushing Myanma...   \n",
       "4  Title: Israel's shekel falls as judicial showd...   \n",
       "\n",
       "                                    Common_Theme  \n",
       "0                         Violence and Injustice  \n",
       "1  Technology, Sustainability, and Social Impact  \n",
       "2                         Sports and Competition  \n",
       "3     Political Crises and Human Rights Concerns  \n",
       "4                         Politics and Elections  "
      ]
     },
     "execution_count": 5,
     "metadata": {},
     "output_type": "execute_result"
    }
   ],
   "source": [
    "df.head()"
   ]
  },
  {
   "cell_type": "code",
   "execution_count": 6,
   "metadata": {},
   "outputs": [],
   "source": [
    "GEMINI_KEY = os.environ.get('GEMINI_KEY')\n",
    "genai.configure(api_key=GEMINI_KEY)"
   ]
  },
  {
   "cell_type": "code",
   "execution_count": 59,
   "metadata": {},
   "outputs": [
    {
     "name": "stderr",
     "output_type": "stream",
     "text": [
      "  0%|          | 4/2019 [00:10<1:24:28,  2.52s/it]\n"
     ]
    },
    {
     "data": {
      "text/plain": [
       "[['Swiss Alps',\n",
       "  'Missing climber',\n",
       "  'Glacial melt',\n",
       "  'DNA identification',\n",
       "  'Climate change'],\n",
       " ['**Artificial Intelligence**',\n",
       "  'Generative AI',\n",
       "  'Ethics',\n",
       "  'Risk Management',\n",
       "  'Youth Engagement'],\n",
       " ['Tennis', 'U.S. Open', 'Grand Slam', 'Novak Djokovic', 'Iga Swiatek'],\n",
       " ['Myanmar', 'United Nations', 'Military Coup', 'ASEAN', 'Rohingya Crisis'],\n",
       " ['Israel', 'Politics', 'Currency', 'Economy', 'Judicial Reform']]"
      ]
     },
     "execution_count": 59,
     "metadata": {},
     "output_type": "execute_result"
    }
   ],
   "source": [
    "#Run this tomorrow:\n",
    "llm = genai.GenerativeModel('gemini-1.0-pro')\n",
    "\n",
    "template = '''\n",
    "    Task Description: Given the following news article, identify and suggest 3 to 5 relevant tags that categorize the main themes, \n",
    "    topics, entities, and geographical locations mentioned. \n",
    "    The tags should be concise, informative, and reflect the content accurately to facilitate effective searching and organization within a database.\n",
    "    \n",
    "    Combined Title and Summaries:\n",
    "    {text}\n",
    "    \n",
    "    Formatting convention: List the tags to me in this example format:\n",
    "    Singapore, Big family, climbing, Baby, crying, hungry\n",
    "    \n",
    "    Ensure that the tags generated follow the formatting convention very closely. \n",
    "    Generated tags:\n",
    "    \n",
    "    Check again that the format follows the formatting convention stated above\n",
    "        '''\n",
    "            \n",
    "prompt = PromptTemplate(\n",
    "            input_variables=[\"text\"],\n",
    "            template=template)\n",
    "\n",
    "all_tags = []\n",
    "for i in trange(len(df)):\n",
    "    article = df.combined[i]\n",
    "    final_prompt  = prompt.format(text=article)\n",
    "    article_tags = llm.generate_content(final_prompt, safety_settings={\n",
    "                                    HarmCategory.HARM_CATEGORY_HATE_SPEECH: HarmBlockThreshold.BLOCK_NONE,\n",
    "                                    HarmCategory.HARM_CATEGORY_HARASSMENT: HarmBlockThreshold.BLOCK_NONE,\n",
    "                                    HarmCategory.HARM_CATEGORY_SEXUALLY_EXPLICIT: HarmBlockThreshold.BLOCK_NONE, \n",
    "                                    HarmCategory.HARM_CATEGORY_DANGEROUS_CONTENT: HarmBlockThreshold.BLOCK_NONE\n",
    "                                    })\n",
    "    all_tags.append(article_tags.text.strip().split(\", \"))\n",
    "    if i ==4:\n",
    "        break\n",
    "    \n",
    "all_tags\n"
   ]
  },
  {
   "cell_type": "code",
   "execution_count": 60,
   "metadata": {},
   "outputs": [
    {
     "data": {
      "text/plain": [
       "[['Swiss Alps',\n",
       "  'Missing Climber',\n",
       "  'Glacial Melt',\n",
       "  'Dna Identification',\n",
       "  'Climate Change'],\n",
       " ['Artificial Intelligence',\n",
       "  'Generative Ai',\n",
       "  'Ethics',\n",
       "  'Risk Management',\n",
       "  'Youth Engagement'],\n",
       " ['Tennis', 'U.S. Open', 'Grand Slam', 'Novak Djokovic', 'Iga Swiatek'],\n",
       " ['Myanmar', 'United Nations', 'Military Coup', 'Asean', 'Rohingya Crisis'],\n",
       " ['Israel', 'Politics', 'Currency', 'Economy', 'Judicial Reform']]"
      ]
     },
     "execution_count": 60,
     "metadata": {},
     "output_type": "execute_result"
    }
   ],
   "source": [
    "def clean_tags(nested_tags):\n",
    "    cleaned_nested_tags = []\n",
    "    for tag_list in nested_tags:\n",
    "        cleaned_tags = [tag.strip().replace('*', '').title() for tag in tag_list]\n",
    "        cleaned_nested_tags.append(cleaned_tags)\n",
    "    return cleaned_nested_tags\n",
    "cleaned_tags = clean_tags(all_tags)\n",
    "cleaned_tags"
   ]
  },
  {
   "cell_type": "code",
   "execution_count": null,
   "metadata": {},
   "outputs": [],
   "source": [
    "# For the enew article that come sin, use the generate_tag function, (create one),\\\n",
    "    # then find similar articles that have like 2 or 3 of the same tags, means relevant"
   ]
  }
 ],
 "metadata": {
  "kernelspec": {
   "display_name": "timeline",
   "language": "python",
   "name": "python3"
  },
  "language_info": {
   "codemirror_mode": {
    "name": "ipython",
    "version": 3
   },
   "file_extension": ".py",
   "mimetype": "text/x-python",
   "name": "python",
   "nbconvert_exporter": "python",
   "pygments_lexer": "ipython3",
   "version": "3.10.12"
  }
 },
 "nbformat": 4,
 "nbformat_minor": 2
}
